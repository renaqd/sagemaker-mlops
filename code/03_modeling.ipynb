{
 "cells": [
  {
   "cell_type": "markdown",
   "id": "5aaeeb3b-594e-412a-b142-de653fa1b81b",
   "metadata": {},
   "source": [
    "# Health Policy Predictive Analytics with Amazon SageMaker\n",
    "This notebook implements predictive analytics for workplace health policy optimization using NHIS, Bureau of Labor Statistics, and County Health Rankings datasets."
   ]
  },
  {
   "cell_type": "markdown",
   "id": "3f87f155-01ca-4226-95fc-590ccaa96c2a",
   "metadata": {},
   "source": [
    "# SECTION 1:  Set Up"
   ]
  },
  {
   "cell_type": "code",
   "execution_count": 1,
   "id": "5c2bf361-d3c6-4f55-af90-6dc7b05f0352",
   "metadata": {},
   "outputs": [
    {
     "name": "stderr",
     "output_type": "stream",
     "text": [
      "/opt/conda/lib/python3.11/site-packages/pydantic/_internal/_fields.py:192: UserWarning: Field name \"json\" in \"MonitoringDatasetFormat\" shadows an attribute in parent \"Base\"\n",
      "  warnings.warn(\n"
     ]
    },
    {
     "name": "stdout",
     "output_type": "stream",
     "text": [
      "sagemaker.config INFO - Not applying SDK defaults from location: /etc/xdg/sagemaker/config.yaml\n",
      "sagemaker.config INFO - Not applying SDK defaults from location: /home/sagemaker-user/.config/sagemaker/config.yaml\n"
     ]
    }
   ],
   "source": [
    "import sagemaker\n",
    "import boto3\n",
    "import json\n",
    "import pandas as pd\n",
    "import numpy as np\n",
    "import io\n",
    "import matplotlib.pyplot as plt\n",
    "import seaborn as sns\n",
    "from sklearn.metrics import mean_squared_error, mean_absolute_error, r2_score\n",
    "import time\n",
    "from datetime import datetime\n",
    "from sklearn.model_selection import train_test_split\n",
    "\n",
    "from sagemaker import get_execution_role\n",
    "from sagemaker.xgboost.estimator import XGBoost\n",
    "from sagemaker.inputs import TrainingInput"
   ]
  },
  {
   "cell_type": "code",
   "execution_count": 2,
   "id": "ca746208-9f89-469c-9f12-bf75cc70eb4d",
   "metadata": {},
   "outputs": [
    {
     "name": "stdout",
     "output_type": "stream",
     "text": [
      "SageMaker Session: <sagemaker.session.Session object at 0x7f2a425a3710>\n",
      "Bucket: usd-team1-ads508\n",
      "Region: us-east-1\n"
     ]
    }
   ],
   "source": [
    "# Set up SageMaker session and AWS environment\n",
    "sess = sagemaker.Session()\n",
    "bucket = \"usd-team1-ads508\"  # Use your project bucket\n",
    "aws_role = get_execution_role()\n",
    "aws_region = boto3.Session().region_name\n",
    "s3_client = boto3.client('s3')\n",
    "s3_resource = boto3.resource('s3')\n",
    "\n",
    "print(f\"SageMaker Session: {sess}\")\n",
    "print(f\"Bucket: {bucket}\")\n",
    "print(f\"Region: {aws_region}\")\n",
    "# print(f\"Role: {aws_role}\")"
   ]
  },
  {
   "cell_type": "markdown",
   "id": "0d20e660-9984-44f6-8af7-31503b5921be",
   "metadata": {},
   "source": [
    "# SECTION 2: Load and Prepare NHIS Data for Workplace Health Policy Prediction"
   ]
  },
  {
   "cell_type": "code",
   "execution_count": 3,
   "id": "0e94a203-f077-4000-b0e4-d58eae28a8f4",
   "metadata": {},
   "outputs": [
    {
     "name": "stdout",
     "output_type": "stream",
     "text": [
      "Found processed data at s3://usd-team1-ads508/processed-health-data-20250331-083045.csv\n",
      "Loaded data with shape: (150220, 36)\n"
     ]
    }
   ],
   "source": [
    "# Load the Processed Data from S3\n",
    "processed_data_key = \"processed-health-data-20250331-083045.csv\"\n",
    "s3_processed_data_path = f\"s3://{bucket}/{processed_data_key}\"\n",
    "\n",
    "try:\n",
    "    # Check if the file exists\n",
    "    response = s3_client.list_objects_v2(Bucket=bucket, Prefix=processed_data_key, MaxKeys=1)\n",
    "    if 'Contents' in response:\n",
    "        print(f\"Found processed data at {s3_processed_data_path}\")\n",
    "        \n",
    "        # Download the data\n",
    "        obj = s3_resource.Object(bucket, processed_data_key)\n",
    "        data = obj.get()['Body'].read()\n",
    "        df = pd.read_csv(io.BytesIO(data))\n",
    "        print(f\"Loaded data with shape: {df.shape}\")\n",
    "        data_loaded = True\n",
    "    else:\n",
    "        print(f\"Processed data not found at {s3_processed_data_path}\")\n",
    "        data_loaded = False\n",
    "except Exception as e:\n",
    "    print(f\"Error checking for processed data: {e}\")\n",
    "    data_loaded = False"
   ]
  },
  {
   "cell_type": "code",
   "execution_count": 4,
   "id": "d1b50c6f-8f62-4c17-9687-64cb694886da",
   "metadata": {},
   "outputs": [],
   "source": [
    "# Preprocess Data for Modeling\n",
    "\n",
    "# Function to clean and prepare data for modeling\n",
    "def preprocess_health_data(df):\n",
    "    # Make a copy to avoid modifying the original\n",
    "    processed_df = df.copy()\n",
    "    \n",
    "    # 1. Replace special values in survey data (7, 8, 9 typically mean refused/don't know)\n",
    "    special_values = [7, 8, 9]\n",
    "    survey_cols = ['evercovd_a', 'shtcvd191_a', 'hicov_a', 'sex_a', 'educp_a']\n",
    "    \n",
    "    for col in survey_cols:\n",
    "        if col in processed_df.columns:\n",
    "            for val in special_values:\n",
    "                processed_df[col] = processed_df[col].replace(val, np.nan)\n",
    "    \n",
    "    # 2. Create binary features\n",
    "    # Convert evercovd_a (1=No, 2=Yes) to binary (0=No, 1=Yes)\n",
    "    if 'evercovd_a' in processed_df.columns:\n",
    "        processed_df['had_covid'] = processed_df['evercovd_a'].apply(lambda x: 1 if x == 2 else 0)\n",
    "    \n",
    "    # Convert shtcvd191_a (1=No, 2=Yes) to binary (0=No, 1=Yes)\n",
    "    if 'shtcvd191_a' in processed_df.columns:\n",
    "        processed_df['covid_vaccinated'] = processed_df['shtcvd191_a'].apply(lambda x: 1 if x == 2 else 0)\n",
    "    \n",
    "    # Convert hicov_a (1=Yes, 2=No) to binary (1=Yes, 0=No)\n",
    "    if 'hicov_a' in processed_df.columns:\n",
    "        processed_df['has_insurance'] = processed_df['hicov_a'].apply(lambda x: 1 if x == 1 else 0)\n",
    "    \n",
    "    # 3. Create education level categories\n",
    "    if 'educp_a' in processed_df.columns:\n",
    "        # Group education levels\n",
    "        processed_df['education_level'] = processed_df['educp_a'].apply(\n",
    "            lambda x: 1 if pd.isna(x) or x in [0, 1, 2, 3] else  # Less than HS\n",
    "                    2 if x == 4 else  # HS graduate\n",
    "                    3 if x in [5, 6, 7] else  # Some college\n",
    "                    4 if x == 8 else  # Bachelor's\n",
    "                    5 if x in [9, 10, 11] else 3  # Graduate degree, default to some college\n",
    "        )\n",
    "    \n",
    "    # 4. Create region one-hot encoding\n",
    "    if 'region' in processed_df.columns:\n",
    "        # One-hot encode region\n",
    "        for i in range(1, 5):\n",
    "            processed_df[f'region_{i}'] = (processed_df['region'] == i).astype(int)\n",
    "    \n",
    "    # 5. Create age groups\n",
    "    if 'agep_a' in processed_df.columns:\n",
    "        bins = [18, 30, 45, 60, 75, 100]\n",
    "        labels = ['18-29', '30-44', '45-59', '60-74', '75+']\n",
    "        processed_df['age_group'] = pd.cut(processed_df['agep_a'], bins=bins, labels=labels, right=False)\n",
    "        \n",
    "        # One-hot encode age groups\n",
    "        age_dummies = pd.get_dummies(processed_df['age_group'], prefix='age')\n",
    "        processed_df = pd.concat([processed_df, age_dummies], axis=1)\n",
    "    \n",
    "    # 6. Create health risk score (combining obesity, smoking, physical inactivity)\n",
    "    risk_columns = ['avg_obesity_rate', 'avg_adult_smoking', 'avg_physical_inactivity']\n",
    "    if all(col in processed_df.columns for col in risk_columns):\n",
    "        # Standardize each component\n",
    "        for col in risk_columns:\n",
    "            col_mean = processed_df[col].mean()\n",
    "            col_std = processed_df[col].std()\n",
    "            processed_df[f'{col}_z'] = (processed_df[col] - col_mean) / col_std\n",
    "        \n",
    "        # Create composite health risk score\n",
    "        processed_df['health_risk_score'] = (\n",
    "            processed_df['avg_obesity_rate_z'] + \n",
    "            processed_df['avg_adult_smoking_z'] + \n",
    "            processed_df['avg_physical_inactivity_z']\n",
    "        ) / 3\n",
    "    \n",
    "    # 7. Handle missing values\n",
    "    # For the target variable, use 0 for missing values (assuming 0 days if not reported)\n",
    "    if 'empdysmss3_a' in processed_df.columns:\n",
    "        processed_df['empdysmss3_a'] = processed_df['empdysmss3_a'].fillna(0)\n",
    "    \n",
    "    # For other numeric variables, fill with median\n",
    "    numeric_cols = processed_df.select_dtypes(include=['float64', 'int64']).columns\n",
    "    for col in numeric_cols:\n",
    "        if col != 'empdysmss3_a' and col in processed_df.columns:\n",
    "            processed_df[col] = processed_df[col].fillna(processed_df[col].median())\n",
    "    \n",
    "    # For categorical variables, fill with mode\n",
    "    cat_cols = processed_df.select_dtypes(include=['object']).columns\n",
    "    for col in cat_cols:\n",
    "        if col in processed_df.columns:\n",
    "            processed_df[col] = processed_df[col].fillna(processed_df[col].mode()[0])\n",
    "    \n",
    "    return processed_df"
   ]
  },
  {
   "cell_type": "code",
   "execution_count": 5,
   "id": "e296e926-61c2-415e-8999-60fa4444b877",
   "metadata": {},
   "outputs": [
    {
     "name": "stdout",
     "output_type": "stream",
     "text": [
      "Processed data shape: (150220, 45)\n"
     ]
    }
   ],
   "source": [
    "# Apply preprocessing\n",
    "processed_df = preprocess_health_data(df)\n",
    "print(f\"Processed data shape: {processed_df.shape}\")"
   ]
  },
  {
   "cell_type": "code",
   "execution_count": 6,
   "id": "7f17889e-815c-43b8-a0bd-67dda594e1dc",
   "metadata": {},
   "outputs": [
    {
     "name": "stdout",
     "output_type": "stream",
     "text": [
      "Created 9 new features: ['age_group', 'age_18-29', 'age_30-44', 'age_45-59', 'age_60-74', 'age_75+', 'avg_obesity_rate_z', 'avg_adult_smoking_z', 'avg_physical_inactivity_z']\n"
     ]
    }
   ],
   "source": [
    "# Display new feature columns\n",
    "new_cols = [col for col in processed_df.columns if col not in df.columns]\n",
    "print(f\"Created {len(new_cols)} new features: {new_cols}\")"
   ]
  },
  {
   "cell_type": "code",
   "execution_count": 7,
   "id": "32a66162-0779-4413-a6c9-d696996b40c7",
   "metadata": {},
   "outputs": [
    {
     "name": "stdout",
     "output_type": "stream",
     "text": [
      "\n",
      "Target variable statistics (days missed from work):\n",
      "count    150220.000000\n",
      "mean          4.123432\n",
      "std          39.234630\n",
      "min           0.000000\n",
      "25%           0.000000\n",
      "50%           0.000000\n",
      "75%           1.000000\n",
      "max         998.000000\n",
      "Name: empdysmss3_a, dtype: float64\n"
     ]
    },
    {
     "data": {
      "image/png": "[encoded data removed]",
      "text/plain": [
       "<Figure size 1000x600 with 1 Axes>"
      ]
     },
     "metadata": {},
     "output_type": "display_data"
    }
   ],
   "source": [
    "# Show statistics for target variable\n",
    "if 'empdysmss3_a' in processed_df.columns:\n",
    "    target_stats = processed_df['empdysmss3_a'].describe()\n",
    "    print(\"\\nTarget variable statistics (days missed from work):\")\n",
    "    print(target_stats)\n",
    "    \n",
    "    # Plot distribution of the target variable\n",
    "    plt.figure(figsize=(10, 6))\n",
    "    plt.hist(processed_df['empdysmss3_a'].clip(0, 30), bins=30, alpha=0.7)\n",
    "    plt.title('Distribution of Days Missed from Work (capped at 30 days)')\n",
    "    plt.xlabel('Days Missed')\n",
    "    plt.ylabel('Frequency')\n",
    "    plt.show()"
   ]
  },
  {
   "cell_type": "code",
   "execution_count": 8,
   "id": "d035a840-130c-46b6-929e-a623de9d85bd",
   "metadata": {},
   "outputs": [],
   "source": [
    "# Split Data into Train, Validation, and Test Sets\n",
    "\n",
    "# Define the target variable and features\n",
    "target_col = 'empdysmss3_a'\n",
    "categorical_cols = [col for col in processed_df.columns if col.startswith(('region_', 'age_', 'ind_'))]\n",
    "binary_cols = ['had_covid', 'covid_vaccinated', 'has_insurance']\n",
    "numeric_cols = ['agep_a', 'avg_uninsured_rate', 'avg_obesity_rate', 'avg_flu_vaccination_rate', \n",
    "                'avg_adult_smoking', 'avg_physical_inactivity', 'avg_median_household_income',\n",
    "                'health_risk_score']"
   ]
  },
  {
   "cell_type": "code",
   "execution_count": 9,
   "id": "3fa41871-9446-4331-9cea-560ebd3765cf",
   "metadata": {},
   "outputs": [],
   "source": [
    "# Include only columns that exist in the dataframe\n",
    "feature_cols = [col for col in categorical_cols + binary_cols + numeric_cols if col in processed_df.columns]"
   ]
  },
  {
   "cell_type": "code",
   "execution_count": 10,
   "id": "1ac1c802-b43b-4204-bbf3-3e6e7bf09344",
   "metadata": {},
   "outputs": [],
   "source": [
    "# Prepare X and y\n",
    "X = processed_df[feature_cols]\n",
    "y = processed_df[target_col]"
   ]
  },
  {
   "cell_type": "code",
   "execution_count": 11,
   "id": "569c8953-98d6-4fd4-857e-68b9f93393f1",
   "metadata": {},
   "outputs": [
    {
     "name": "stdout",
     "output_type": "stream",
     "text": [
      "Training set: 105154 samples\n",
      "Validation set: 22533 samples\n",
      "Test set: 22533 samples\n"
     ]
    }
   ],
   "source": [
    "# First split: training vs. temp (validation + test combined)\n",
    "X_train, X_temp, y_train, y_temp = train_test_split(X, y, test_size=0.3, random_state=42)\n",
    "\n",
    "# Second split: validation vs. test from temp data\n",
    "X_val, X_test, y_val, y_test = train_test_split(X_temp, y_temp, test_size=0.5, random_state=42)\n",
    "\n",
    "print(f\"Training set: {X_train.shape[0]} samples\")\n",
    "print(f\"Validation set: {X_val.shape[0]} samples\")\n",
    "print(f\"Test set: {X_test.shape[0]} samples\")"
   ]
  },
  {
   "cell_type": "code",
   "execution_count": 12,
   "id": "e7420898-36ef-4077-aa98-cf22e4368a8b",
   "metadata": {},
   "outputs": [],
   "source": [
    "# Create full datasets with target variable included\n",
    "train_data = pd.concat([X_train, y_train], axis=1)\n",
    "val_data = pd.concat([X_val, y_val], axis=1)\n",
    "test_data = pd.concat([X_test, y_test], axis=1)"
   ]
  },
  {
   "cell_type": "code",
   "execution_count": 13,
   "id": "7fe7e311-e438-418e-9de0-0bb8a95c8f17",
   "metadata": {},
   "outputs": [],
   "source": [
    "# Define S3 paths Save Train/Validation/Test Sets to S3\n",
    "prefix = \"health-policy-optimization\"\n",
    "timestamp = datetime.now().strftime(\"%Y%m%d-%H%M%S\")\n",
    "s3_train_path = f\"{prefix}/processed_data/{timestamp}/train\"\n",
    "s3_validation_path = f\"{prefix}/processed_data/{timestamp}/validation\"\n",
    "s3_test_path = f\"{prefix}/processed_data/{timestamp}/test\""
   ]
  },
  {
   "cell_type": "code",
   "execution_count": 14,
   "id": "3a1b75d5-230a-4548-adc7-b9f17706bd60",
   "metadata": {},
   "outputs": [],
   "source": [
    "# Save DataFrame to S3\n",
    "def save_df_to_s3(df, bucket, path, filename):\n",
    "    s3_key = f\"{path}/{filename}\"\n",
    "    csv_buffer = io.StringIO()\n",
    "    df.to_csv(csv_buffer, index=False)\n",
    "    \n",
    "    s3_client.put_object(\n",
    "        Bucket=bucket,\n",
    "        Key=s3_key,\n",
    "        Body=csv_buffer.getvalue()\n",
    "    )\n",
    "    return f\"s3://{bucket}/{s3_key}\""
   ]
  },
  {
   "cell_type": "code",
   "execution_count": 15,
   "id": "84a57261-aa4b-4c48-b364-129214e216a2",
   "metadata": {},
   "outputs": [
    {
     "name": "stdout",
     "output_type": "stream",
     "text": [
      "Training data saved to: s3://usd-team1-ads508/health-policy-optimization/processed_data/20250401-010429/train/health_data_train.csv\n",
      "Validation data saved to: s3://usd-team1-ads508/health-policy-optimization/processed_data/20250401-010429/validation/health_data_validation.csv\n",
      "Test data saved to: s3://usd-team1-ads508/health-policy-optimization/processed_data/20250401-010429/test/health_data_test.csv\n",
      "Model output location: s3://usd-team1-ads508/health-policy-optimization/model_output/20250401-010429\n"
     ]
    }
   ],
   "source": [
    "# Save datasets to S3\n",
    "s3_train_uri = save_df_to_s3(train_data, bucket, s3_train_path, \"health_data_train.csv\")\n",
    "s3_validation_uri = save_df_to_s3(val_data, bucket, s3_validation_path, \"health_data_validation.csv\")\n",
    "s3_test_uri = save_df_to_s3(test_data, bucket, s3_test_path, \"health_data_test.csv\")\n",
    "s3_output_location = f\"s3://{bucket}/{prefix}/model_output/{timestamp}\"\n",
    "\n",
    "print(f\"Training data saved to: {s3_train_uri}\")\n",
    "print(f\"Validation data saved to: {s3_validation_uri}\")\n",
    "print(f\"Test data saved to: {s3_test_uri}\")\n",
    "print(f\"Model output location: {s3_output_location}\")"
   ]
  },
  {
   "cell_type": "markdown",
   "id": "13ea5f17-8995-404e-b88a-6066f882ecd1",
   "metadata": {},
   "source": [
    "# SECTION 3: Train XGBoost Regression Model for Workplace Absenteeism Prediction"
   ]
  },
  {
   "cell_type": "code",
   "execution_count": 16,
   "id": "130f1ea7-4433-4ab5-82c3-87561f7f5f3b",
   "metadata": {},
   "outputs": [
    {
     "data": {
      "text/html": [
       "<pre style=\"white-space:pre;overflow-x:auto;line-height:normal;font-family:Menlo,'DejaVu Sans Mono',consolas,'Courier New',monospace\"><span style=\"color: #7fbfbf; text-decoration-color: #7fbfbf\">[04/01/25 01:04:32] </span><span style=\"color: #0069ff; text-decoration-color: #0069ff; font-weight: bold\">INFO    </span> Defaulting to only available Python version: py3                     <a href=\"file:///opt/conda/lib/python3.11/site-packages/sagemaker/image_uris.py\" target=\"_blank\"><span style=\"color: #7f7f7f; text-decoration-color: #7f7f7f\">image_uris.py</span></a><span style=\"color: #7f7f7f; text-decoration-color: #7f7f7f\">:</span><a href=\"file:///opt/conda/lib/python3.11/site-packages/sagemaker/image_uris.py#610\" target=\"_blank\"><span style=\"color: #7f7f7f; text-decoration-color: #7f7f7f\">610</span></a>\n",
       "</pre>\n"
      ],
      "text/plain": [
       "\u001b[2;36m[04/01/25 01:04:32]\u001b[0m\u001b[2;36m \u001b[0m\u001b[1;38;2;0;105;255mINFO    \u001b[0m Defaulting to only available Python version: py3                     \u001b]8;id=860334;file:///opt/conda/lib/python3.11/site-packages/sagemaker/image_uris.py\u001b\\\u001b[2mimage_uris.py\u001b[0m\u001b]8;;\u001b\\\u001b[2m:\u001b[0m\u001b]8;id=541012;file:///opt/conda/lib/python3.11/site-packages/sagemaker/image_uris.py#610\u001b\\\u001b[2m610\u001b[0m\u001b]8;;\u001b\\\n"
      ]
     },
     "metadata": {},
     "output_type": "display_data"
    },
    {
     "data": {
      "text/html": [
       "<pre style=\"white-space:pre;overflow-x:auto;line-height:normal;font-family:Menlo,'DejaVu Sans Mono',consolas,'Courier New',monospace\"><span style=\"color: #7fbfbf; text-decoration-color: #7fbfbf\">                    </span><span style=\"color: #0069ff; text-decoration-color: #0069ff; font-weight: bold\">INFO    </span> Defaulting to only supported image scope: cpu.                       <a href=\"file:///opt/conda/lib/python3.11/site-packages/sagemaker/image_uris.py\" target=\"_blank\"><span style=\"color: #7f7f7f; text-decoration-color: #7f7f7f\">image_uris.py</span></a><span style=\"color: #7f7f7f; text-decoration-color: #7f7f7f\">:</span><a href=\"file:///opt/conda/lib/python3.11/site-packages/sagemaker/image_uris.py#534\" target=\"_blank\"><span style=\"color: #7f7f7f; text-decoration-color: #7f7f7f\">534</span></a>\n",
       "</pre>\n"
      ],
      "text/plain": [
       "\u001b[2;36m                   \u001b[0m\u001b[2;36m \u001b[0m\u001b[1;38;2;0;105;255mINFO    \u001b[0m Defaulting to only supported image scope: cpu.                       \u001b]8;id=639566;file:///opt/conda/lib/python3.11/site-packages/sagemaker/image_uris.py\u001b\\\u001b[2mimage_uris.py\u001b[0m\u001b]8;;\u001b\\\u001b[2m:\u001b[0m\u001b]8;id=303073;file:///opt/conda/lib/python3.11/site-packages/sagemaker/image_uris.py#534\u001b\\\u001b[2m534\u001b[0m\u001b]8;;\u001b\\\n"
      ]
     },
     "metadata": {},
     "output_type": "display_data"
    }
   ],
   "source": [
    "# Use the SageMaker built-in XGBoost algorithm\n",
    "from sagemaker.amazon.amazon_estimator import get_image_uri\n",
    "from sagemaker import image_uris\n",
    "\n",
    "# Get the built-in XGBoost container URI\n",
    "container = image_uris.retrieve(\n",
    "    framework=\"xgboost\",\n",
    "    region=aws_region,\n",
    "    version=\"1.0-1\"\n",
    ")"
   ]
  },
  {
   "cell_type": "code",
   "execution_count": 17,
   "id": "6c355005-5106-45d9-9b37-3bd548b0d365",
   "metadata": {},
   "outputs": [],
   "source": [
    "# Define hyperparameters for XGBoost\n",
    "hyperparameters = {\n",
    "    \"max_depth\": \"6\",\n",
    "    \"eta\": \"0.2\",\n",
    "    \"gamma\": \"4\",\n",
    "    \"min_child_weight\": \"6\",\n",
    "    \"subsample\": \"0.7\",\n",
    "    \"objective\": \"reg:squarederror\",\n",
    "    \"num_round\": \"50\",\n",
    "    \"verbosity\": \"2\"\n",
    "}"
   ]
  },
  {
   "cell_type": "code",
   "execution_count": 18,
   "id": "a7496af5-bd14-4df2-a8e2-16bc5da2f6bd",
   "metadata": {},
   "outputs": [],
   "source": [
    "# Create TrainingInput objects for train and validation\n",
    "train_input = TrainingInput(\n",
    "    s3_data=s3_train_uri,\n",
    "    content_type=\"csv\"\n",
    ")\n",
    "\n",
    "validation_input = TrainingInput(\n",
    "    s3_data=s3_validation_uri,\n",
    "    content_type=\"csv\"\n",
    ")"
   ]
  },
  {
   "cell_type": "code",
   "execution_count": 19,
   "id": "87b75a88-2eca-4ff0-8025-8f5b43b1c3e3",
   "metadata": {},
   "outputs": [],
   "source": [
    "# Define job name with timestamp\n",
    "job_name = f\"health-policy-xgboost-{timestamp}\""
   ]
  },
  {
   "cell_type": "code",
   "execution_count": 20,
   "id": "6116392f-8ae2-48ec-be97-8fb9a3ac163d",
   "metadata": {},
   "outputs": [],
   "source": [
    "# Create estimator\n",
    "xgb_estimator = sagemaker.estimator.Estimator(\n",
    "    container,\n",
    "    role=aws_role,\n",
    "    instance_count=1,\n",
    "    instance_type=\"ml.m5.large\",\n",
    "    output_path=s3_output_location,\n",
    "    sagemaker_session=sess\n",
    ")"
   ]
  },
  {
   "cell_type": "code",
   "execution_count": 21,
   "id": "657a5e7a-b242-437d-aeb1-eca6f7632c22",
   "metadata": {},
   "outputs": [],
   "source": [
    "# Set algorithm hyperparameters\n",
    "xgb_estimator.set_hyperparameters(\n",
    "    max_depth=6,\n",
    "    eta=0.2,\n",
    "    gamma=4,\n",
    "    min_child_weight=6,\n",
    "    subsample=0.7,\n",
    "    objective=\"reg:squarederror\",\n",
    "    num_round=50,\n",
    "    verbosity=2\n",
    ")"
   ]
  },
  {
   "cell_type": "code",
   "execution_count": 22,
   "id": "3569c160-498d-4229-9820-8457109eb5d5",
   "metadata": {},
   "outputs": [
    {
     "name": "stdout",
     "output_type": "stream",
     "text": [
      "Starting training job: health-policy-xgboost-20250401-010429\n"
     ]
    },
    {
     "data": {
      "text/html": [
       "<pre style=\"white-space:pre;overflow-x:auto;line-height:normal;font-family:Menlo,'DejaVu Sans Mono',consolas,'Courier New',monospace\"><span style=\"color: #7fbfbf; text-decoration-color: #7fbfbf\">                    </span><span style=\"color: #0069ff; text-decoration-color: #0069ff; font-weight: bold\">INFO    </span> SageMaker Python SDK will collect telemetry to help us better  <a href=\"file:///opt/conda/lib/python3.11/site-packages/sagemaker/telemetry/telemetry_logging.py\" target=\"_blank\"><span style=\"color: #7f7f7f; text-decoration-color: #7f7f7f\">telemetry_logging.py</span></a><span style=\"color: #7f7f7f; text-decoration-color: #7f7f7f\">:</span><a href=\"file:///opt/conda/lib/python3.11/site-packages/sagemaker/telemetry/telemetry_logging.py#91\" target=\"_blank\"><span style=\"color: #7f7f7f; text-decoration-color: #7f7f7f\">91</span></a>\n",
       "<span style=\"color: #7fbfbf; text-decoration-color: #7fbfbf\">                    </span>         understand our user's needs, diagnose issues, and deliver      <span style=\"color: #7f7f7f; text-decoration-color: #7f7f7f\">                       </span>\n",
       "<span style=\"color: #7fbfbf; text-decoration-color: #7fbfbf\">                    </span>         additional features.                                           <span style=\"color: #7f7f7f; text-decoration-color: #7f7f7f\">                       </span>\n",
       "<span style=\"color: #7fbfbf; text-decoration-color: #7fbfbf\">                    </span>         To opt out of telemetry, please disable via TelemetryOptOut    <span style=\"color: #7f7f7f; text-decoration-color: #7f7f7f\">                       </span>\n",
       "<span style=\"color: #7fbfbf; text-decoration-color: #7fbfbf\">                    </span>         parameter in SDK defaults config. For more information, refer  <span style=\"color: #7f7f7f; text-decoration-color: #7f7f7f\">                       </span>\n",
       "<span style=\"color: #7fbfbf; text-decoration-color: #7fbfbf\">                    </span>         to                                                             <span style=\"color: #7f7f7f; text-decoration-color: #7f7f7f\">                       </span>\n",
       "<span style=\"color: #7fbfbf; text-decoration-color: #7fbfbf\">                    </span>         <span style=\"color: #0069ff; text-decoration-color: #0069ff; text-decoration: underline\">https://sagemaker.readthedocs.io/en/stable/overview.html#confi</span> <span style=\"color: #7f7f7f; text-decoration-color: #7f7f7f\">                       </span>\n",
       "<span style=\"color: #7fbfbf; text-decoration-color: #7fbfbf\">                    </span>         <span style=\"color: #0069ff; text-decoration-color: #0069ff; text-decoration: underline\">guring-and-using-defaults-with-the-sagemaker-python-sdk.</span>       <span style=\"color: #7f7f7f; text-decoration-color: #7f7f7f\">                       </span>\n",
       "</pre>\n"
      ],
      "text/plain": [
       "\u001b[2;36m                   \u001b[0m\u001b[2;36m \u001b[0m\u001b[1;38;2;0;105;255mINFO    \u001b[0m SageMaker Python SDK will collect telemetry to help us better  \u001b]8;id=942561;file:///opt/conda/lib/python3.11/site-packages/sagemaker/telemetry/telemetry_logging.py\u001b\\\u001b[2mtelemetry_logging.py\u001b[0m\u001b]8;;\u001b\\\u001b[2m:\u001b[0m\u001b]8;id=399880;file:///opt/conda/lib/python3.11/site-packages/sagemaker/telemetry/telemetry_logging.py#91\u001b\\\u001b[2m91\u001b[0m\u001b]8;;\u001b\\\n",
       "\u001b[2;36m                    \u001b[0m         understand our user's needs, diagnose issues, and deliver      \u001b[2m                       \u001b[0m\n",
       "\u001b[2;36m                    \u001b[0m         additional features.                                           \u001b[2m                       \u001b[0m\n",
       "\u001b[2;36m                    \u001b[0m         To opt out of telemetry, please disable via TelemetryOptOut    \u001b[2m                       \u001b[0m\n",
       "\u001b[2;36m                    \u001b[0m         parameter in SDK defaults config. For more information, refer  \u001b[2m                       \u001b[0m\n",
       "\u001b[2;36m                    \u001b[0m         to                                                             \u001b[2m                       \u001b[0m\n",
       "\u001b[2;36m                    \u001b[0m         \u001b[4;38;2;0;105;255mhttps://sagemaker.readthedocs.io/en/stable/overview.html#confi\u001b[0m \u001b[2m                       \u001b[0m\n",
       "\u001b[2;36m                    \u001b[0m         \u001b[4;38;2;0;105;255mguring-and-using-defaults-with-the-sagemaker-python-sdk.\u001b[0m       \u001b[2m                       \u001b[0m\n"
      ]
     },
     "metadata": {},
     "output_type": "display_data"
    },
    {
     "data": {
      "text/html": [
       "<pre style=\"white-space:pre;overflow-x:auto;line-height:normal;font-family:Menlo,'DejaVu Sans Mono',consolas,'Courier New',monospace\"><span style=\"color: #7fbfbf; text-decoration-color: #7fbfbf\">                    </span><span style=\"color: #0069ff; text-decoration-color: #0069ff; font-weight: bold\">INFO    </span> Creating training-job with name: health-policy-xgboost-<span style=\"color: #008080; text-decoration-color: #008080; font-weight: bold\">20250401</span>-<span style=\"color: #008080; text-decoration-color: #008080; font-weight: bold\">010429</span> <a href=\"file:///opt/conda/lib/python3.11/site-packages/sagemaker/session.py\" target=\"_blank\"><span style=\"color: #7f7f7f; text-decoration-color: #7f7f7f\">session.py</span></a><span style=\"color: #7f7f7f; text-decoration-color: #7f7f7f\">:</span><a href=\"file:///opt/conda/lib/python3.11/site-packages/sagemaker/session.py#1042\" target=\"_blank\"><span style=\"color: #7f7f7f; text-decoration-color: #7f7f7f\">1042</span></a>\n",
       "</pre>\n"
      ],
      "text/plain": [
       "\u001b[2;36m                   \u001b[0m\u001b[2;36m \u001b[0m\u001b[1;38;2;0;105;255mINFO    \u001b[0m Creating training-job with name: health-policy-xgboost-\u001b[1;36m20250401\u001b[0m-\u001b[1;36m010429\u001b[0m \u001b]8;id=767391;file:///opt/conda/lib/python3.11/site-packages/sagemaker/session.py\u001b\\\u001b[2msession.py\u001b[0m\u001b]8;;\u001b\\\u001b[2m:\u001b[0m\u001b]8;id=308477;file:///opt/conda/lib/python3.11/site-packages/sagemaker/session.py#1042\u001b\\\u001b[2m1042\u001b[0m\u001b]8;;\u001b\\\n"
      ]
     },
     "metadata": {},
     "output_type": "display_data"
    },
    {
     "name": "stdout",
     "output_type": "stream",
     "text": [
      "\n",
      "..25-04-01 01:04:34 Starting - Starting the training job\n",
      "...5-04-01 01:04:48 Starting - Preparing the instances for training\n",
      ".........1 01:05:12 Downloading - Downloading input data\n",
      "........01 01:05:58 Downloading - Downloading the training image\n",
      ".025-04-01 01:06:44 Training - Training image download completed. Training in progress.\n",
      "..25-04-01 01:06:54 Uploading - Uploading generated training model\n",
      "2025-04-01 01:07:13 Completed - Training job completed\n",
      "Training job health-policy-xgboost-20250401-010429 completed successfully!\n"
     ]
    }
   ],
   "source": [
    "# Start training job\n",
    "print(f\"Starting training job: {job_name}\")\n",
    "try:\n",
    "    # Important: specify the content_type as text/csv\n",
    "    xgb_estimator.fit(\n",
    "        {\n",
    "            \"train\": sagemaker.inputs.TrainingInput(\n",
    "                s3_train_uri, \n",
    "                content_type=\"text/csv\"\n",
    "            ),\n",
    "            \"validation\": sagemaker.inputs.TrainingInput(\n",
    "                s3_validation_uri, \n",
    "                content_type=\"text/csv\"\n",
    "            )\n",
    "        },\n",
    "        job_name=job_name,\n",
    "        wait=True,\n",
    "        logs=\"None\"  # Set to \"All\" for verbose logs\n",
    "    )\n",
    "    training_job_succeeded = True\n",
    "    print(f\"Training job {job_name} completed successfully!\")\n",
    "except Exception as e:\n",
    "    print(f\"Error during training: {e}\")\n",
    "    training_job_succeeded = False"
   ]
  },
  {
   "cell_type": "markdown",
   "id": "5fb84e4d-86bc-43e2-81fb-6a8ec20d2730",
   "metadata": {},
   "source": [
    "# SECTION 4: Deploy and Evaluate the Model"
   ]
  },
  {
   "cell_type": "code",
   "execution_count": 23,
   "id": "9b0946ea-6984-4acd-be02-932365162600",
   "metadata": {},
   "outputs": [
    {
     "data": {
      "text/html": [
       "<pre style=\"white-space:pre;overflow-x:auto;line-height:normal;font-family:Menlo,'DejaVu Sans Mono',consolas,'Courier New',monospace\"><span style=\"color: #7fbfbf; text-decoration-color: #7fbfbf\">[04/01/25 01:07:14] </span><span style=\"color: #0069ff; text-decoration-color: #0069ff; font-weight: bold\">INFO    </span> Creating model with name: sagemaker-xgboost-<span style=\"color: #008080; text-decoration-color: #008080; font-weight: bold\">2025</span>-04-01-01-07-14-215    <a href=\"file:///opt/conda/lib/python3.11/site-packages/sagemaker/session.py\" target=\"_blank\"><span style=\"color: #7f7f7f; text-decoration-color: #7f7f7f\">session.py</span></a><span style=\"color: #7f7f7f; text-decoration-color: #7f7f7f\">:</span><a href=\"file:///opt/conda/lib/python3.11/site-packages/sagemaker/session.py#4094\" target=\"_blank\"><span style=\"color: #7f7f7f; text-decoration-color: #7f7f7f\">4094</span></a>\n",
       "</pre>\n"
      ],
      "text/plain": [
       "\u001b[2;36m[04/01/25 01:07:14]\u001b[0m\u001b[2;36m \u001b[0m\u001b[1;38;2;0;105;255mINFO    \u001b[0m Creating model with name: sagemaker-xgboost-\u001b[1;36m2025\u001b[0m-04-01-01-07-14-215    \u001b]8;id=790445;file:///opt/conda/lib/python3.11/site-packages/sagemaker/session.py\u001b\\\u001b[2msession.py\u001b[0m\u001b]8;;\u001b\\\u001b[2m:\u001b[0m\u001b]8;id=524435;file:///opt/conda/lib/python3.11/site-packages/sagemaker/session.py#4094\u001b\\\u001b[2m4094\u001b[0m\u001b]8;;\u001b\\\n"
      ]
     },
     "metadata": {},
     "output_type": "display_data"
    },
    {
     "name": "stdout",
     "output_type": "stream",
     "text": [
      "Error deploying model: An error occurred (AccessDeniedException) when calling the CreateModel operation\n"
     ]
    }
   ],
   "source": [
    "if training_job_succeeded:\n",
    "    try:\n",
    "        # Deploy the model to a SageMaker endpoint\n",
    "        endpoint_name = f\"health-policy-endpoint-{timestamp}\"\n",
    "        predictor = xgb_estimator.deploy(\n",
    "            initial_instance_count=1,\n",
    "            instance_type=\"ml.m5.large\",\n",
    "            endpoint_name=endpoint_name\n",
    "        )\n",
    "        print(f\"Model successfully deployed to endpoint: {endpoint_name}\")\n",
    "        deployment_succeeded = True\n",
    "    except Exception as e:\n",
    "        error_message = str(e)\n",
    "        truncated_message = error_message.split(\":\")[0]\n",
    "        print(f\"Error deploying model: {truncated_message}\")\n",
    "        deployment_succeeded = False\n",
    "else:\n",
    "    print(\"Skipping deployment as training did not succeed\")\n",
    "    deployment_succeeded = False"
   ]
  },
  {
   "cell_type": "code",
   "execution_count": 24,
   "id": "d44fd259-4716-4b2f-b55c-fc60008f7397",
   "metadata": {},
   "outputs": [],
   "source": [
    "# Evaluate model if deployment succeeded\n",
    "if deployment_succeeded:\n",
    "    try:\n",
    "        # Load test data\n",
    "        test_data_csv = io.StringIO()\n",
    "        test_data.to_csv(test_data_csv, index=False)\n",
    "        test_data_csv_string = test_data_csv.getvalue()\n",
    "        \n",
    "        # Prepare test data for prediction (without the target variable)\n",
    "        test_features = test_data.drop([target_col], axis=1)\n",
    "        test_features_csv = io.StringIO()\n",
    "        test_features.to_csv(test_features_csv, header=False, index=False)\n",
    "        test_features_csv_string = test_features_csv.getvalue()\n",
    "        \n",
    "        # Make predictions\n",
    "        predictions_response = predictor.predict(test_features_csv_string)\n",
    "        if isinstance(predictions_response, bytes):\n",
    "            predictions = np.array(json.loads(predictions_response.decode('utf-8')))\n",
    "        else:\n",
    "            predictions = np.array(predictions_response)\n",
    "        \n",
    "        # Get ground truth values\n",
    "        ground_truth = test_data[target_col].values\n",
    "        \n",
    "        # Calculate evaluation metrics\n",
    "        r2 = r2_score(ground_truth, predictions)\n",
    "        mse = mean_squared_error(ground_truth, predictions)\n",
    "        rmse = np.sqrt(mse)\n",
    "        mae = mean_absolute_error(ground_truth, predictions)\n",
    "        \n",
    "        print(\"\\nModel Evaluation Results:\")\n",
    "        print(f\"R² Score: {r2:.4f}\")\n",
    "        print(f\"Mean Squared Error: {mse:.4f}\")\n",
    "        print(f\"Root Mean Squared Error: {rmse:.4f}\")\n",
    "        print(f\"Mean Absolute Error: {mae:.4f}\")\n",
    "        \n",
    "        # Visualize predictions vs actual\n",
    "        plt.figure(figsize=(10, 6))\n",
    "        plt.scatter(ground_truth, predictions, alpha=0.5)\n",
    "        plt.plot([0, max(ground_truth)], [0, max(ground_truth)], 'r--')\n",
    "        plt.xlabel(\"Actual Days Missed\")\n",
    "        plt.ylabel(\"Predicted Days Missed\")\n",
    "        plt.title(\"Predicted vs Actual Days Missed from Work\")\n",
    "        plt.show()\n",
    "        \n",
    "        # Delete endpoint to avoid incurring charges\n",
    "        print(\"\\nCleaning up resources...\")\n",
    "        predictor.delete_endpoint()\n",
    "        print(f\"Endpoint {endpoint_name} deleted successfully\")\n",
    "        \n",
    "    except Exception as e:\n",
    "        print(f\"Error during evaluation: {e}\")"
   ]
  },
  {
   "cell_type": "markdown",
   "id": "48f43838-7962-4b45-a987-5ce86949ffa4",
   "metadata": {},
   "source": [
    "# SECTION 5: Feature Importance Analysis using XGBoost"
   ]
  },
  {
   "cell_type": "code",
   "execution_count": 25,
   "id": "e82556ba-897e-48c3-9869-7e17822a25f9",
   "metadata": {},
   "outputs": [
    {
     "name": "stdout",
     "output_type": "stream",
     "text": [
      "\n",
      "Training a local XGBoost model to analyze feature importance...\n",
      "Feature columns for local XGBoost model: ['ind_accommodation_food', 'ind_agriculture', 'ind_construction', 'ind_finance', 'ind_information', 'ind_manufacturing', 'ind_military', 'ind_mining', 'ind_other', 'ind_other_services', 'ind_public_admin', 'ind_real_estate', 'ind_retail', 'ind_services', 'ind_transportation', 'ind_wholesale', 'region_1', 'region_2', 'region_3', 'region_4', 'age_insurance_interaction', 'age_18-29', 'age_30-44', 'age_45-59', 'age_60-74', 'age_75+', 'agep_a', 'avg_uninsured_rate', 'avg_obesity_rate', 'avg_flu_vaccination_rate', 'avg_adult_smoking', 'avg_physical_inactivity', 'avg_median_household_income', 'health_risk_score']\n",
      "[0]\ttrain-rmse:38.12790\teval-rmse:41.10039\n",
      "[10]\ttrain-rmse:36.70211\teval-rmse:40.88050\n",
      "[12]\ttrain-rmse:36.65422\teval-rmse:40.85277\n",
      "\n",
      "Feature Importance Analysis:\n",
      "                    Feature     Importance  Relative_Importance\n",
      "0                 ind_other  513537.000000                 26.5\n",
      "1                   age_75+  200344.593750                 10.3\n",
      "2         avg_adult_smoking  158457.984375                  8.2\n",
      "3          avg_obesity_rate  104632.593750                  5.4\n",
      "4  avg_flu_vaccination_rate   98622.062500                  5.1\n",
      "5                  region_1   97154.085938                  5.0\n",
      "6                    agep_a   93317.351562                  4.8\n",
      "7                 age_45-59   76618.757812                  4.0\n",
      "8                  region_4   64286.140625                  3.3\n",
      "9   avg_physical_inactivity   58962.371094                  3.0\n"
     ]
    },
    {
     "data": {
      "image/png": "[encoded data removed]",
      "text/plain": [
       "<Figure size 1200x800 with 1 Axes>"
      ]
     },
     "metadata": {},
     "output_type": "display_data"
    }
   ],
   "source": [
    "if not deployment_succeeded or not training_job_succeeded:\n",
    "    print(\"\\nTraining a local XGBoost model to analyze feature importance...\")\n",
    "    \n",
    "    import xgboost as xgb\n",
    "    \n",
    "    # Create copies of the dataframes to avoid modifying originals\n",
    "    X_train_xgb = X_train.copy()\n",
    "    X_val_xgb = X_val.copy()\n",
    "    \n",
    "    # Remove categorical columns or convert them\n",
    "    if 'age_group' in X_train_xgb.columns:\n",
    "        X_train_xgb = X_train_xgb.drop('age_group', axis=1)\n",
    "        X_val_xgb = X_val_xgb.drop('age_group', axis=1)\n",
    "    \n",
    "    # Check for other categorical columns and drop them if necessary\n",
    "    categorical_columns = X_train_xgb.select_dtypes(include=['category', 'object']).columns\n",
    "    if len(categorical_columns) > 0:\n",
    "        print(f\"Dropping categorical columns for XGBoost: {list(categorical_columns)}\")\n",
    "        X_train_xgb = X_train_xgb.drop(categorical_columns, axis=1)\n",
    "        X_val_xgb = X_val_xgb.drop(categorical_columns, axis=1)\n",
    "    \n",
    "    # Ensure all columns are numeric\n",
    "    print(f\"Feature columns for local XGBoost model: {list(X_train_xgb.columns)}\")\n",
    "    \n",
    "    # Prepare DMatrix\n",
    "    dtrain = xgb.DMatrix(X_train_xgb, label=y_train)\n",
    "    dval = xgb.DMatrix(X_val_xgb, label=y_val)\n",
    "    \n",
    "    # Train a local model with the same hyperparameters\n",
    "    local_params = {\n",
    "        \"max_depth\": 6,\n",
    "        \"eta\": 0.2,\n",
    "        \"gamma\": 4,\n",
    "        \"min_child_weight\": 6,\n",
    "        \"subsample\": 0.7,\n",
    "        \"objective\": \"reg:squarederror\",\n",
    "        \"verbosity\": 0\n",
    "    }\n",
    "    \n",
    "    # Train model\n",
    "    num_rounds = 50\n",
    "    evals = [(dtrain, 'train'), (dval, 'eval')]\n",
    "    local_model = xgb.train(\n",
    "        local_params,\n",
    "        dtrain,\n",
    "        num_rounds,\n",
    "        evals=evals,\n",
    "        early_stopping_rounds=10,\n",
    "        verbose_eval=10\n",
    "    )\n",
    "    \n",
    "    # Get feature importance\n",
    "    feature_importance = local_model.get_score(importance_type='gain')\n",
    "    importance_df = pd.DataFrame({\n",
    "        'Feature': list(feature_importance.keys()),\n",
    "        'Importance': list(feature_importance.values())\n",
    "    })\n",
    "    importance_df = importance_df.sort_values('Importance', ascending=False).reset_index(drop=True)\n",
    "    \n",
    "    # Calculate relative importance\n",
    "    total_importance = importance_df['Importance'].sum()\n",
    "    importance_df['Relative_Importance'] = (importance_df['Importance'] / total_importance * 100).round(1)\n",
    "    \n",
    "    print(\"\\nFeature Importance Analysis:\")\n",
    "    print(importance_df.head(10))\n",
    "    \n",
    "    # Visualize feature importance\n",
    "    plt.figure(figsize=(12, 8))\n",
    "    plt.barh(importance_df['Feature'][:10], importance_df['Relative_Importance'][:10])\n",
    "    plt.xlabel('Relative Importance (%)')\n",
    "    plt.title('Top 10 Features Influencing Workplace Absenteeism')\n",
    "    plt.gca().invert_yaxis()  # Highest at the top\n",
    "    plt.tight_layout()\n",
    "    plt.show()"
   ]
  },
  {
   "cell_type": "markdown",
   "id": "d8e2f1ce-8a4c-4cb7-9e05-c2a604e345bd",
   "metadata": {},
   "source": [
    "# SECTION 6: # Health Policy Insights and Recommendations"
   ]
  },
  {
   "cell_type": "markdown",
   "id": "adec517d-058c-4fc8-908a-623ae553846b",
   "metadata": {},
   "source": [
    "Based on the predictive model for workplace absenteeism, we recommend the following policies:\n",
    "\n",
    "- Policy recommendation based on ind_other would require further analysis\n",
    "- Policy recommendation based on age_75+ would require further analysis\n",
    "- Strengthen smoking cessation programs and incentives for quitting\n",
    "- Create region-specific nutrition and physical activity programs in areas with high obesity rates\n",
    "- Policy recommendation based on avg_flu_vaccination_rate would require further analysis\n",
    "\n",
    "These insights demonstrate how predictive analytics can transform workplace health policy development by targeting the specific factors most strongly associated with absenteeism.\n",
    "\n",
    "Next steps for this project would include:\n",
    "1. Refining the model with additional data sources\n",
    "2. Developing a dashboard for ongoing monitoring of workplace health metrics"
   ]
  }
 ],
 "metadata": {
  "kernelspec": {
   "display_name": "Python 3 (ipykernel)",
   "language": "python",
   "name": "python3"
  },
  "language_info": {
   "codemirror_mode": {
    "name": "ipython",
    "version": 3
   },
   "file_extension": ".py",
   "mimetype": "text/x-python",
   "name": "python",
   "nbconvert_exporter": "python",
   "pygments_lexer": "ipython3",
   "version": "3.11.11"
  }
 },
 "nbformat": 4,
 "nbformat_minor": 5
}
