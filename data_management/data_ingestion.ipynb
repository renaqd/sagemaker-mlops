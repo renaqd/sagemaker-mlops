{
 "cells": [
  {
   "cell_type": "markdown",
   "id": "c8b2b79d-d43e-4319-8463-83b50a8c5d26",
   "metadata": {
    "editable": true,
    "slideshow": {
     "slide_type": ""
    },
    "tags": []
   },
   "source": [
    "# NHIS Data Processing and Analysis Pipeline\n",
    "This notebook processes National Health Interview Survey (NHIS) data to analyze health metrics across different industries and demographics, with a focus on COVID-19.\n",
    "\n",
    "**Key Variables**\n",
    "\n",
    "See link for variable descriptions: https://ftp.cdc.gov/pub/Health_Statistics/NCHS/Dataset_Documentation/NHIS/2023/adult-summary.pdf\n",
    "\n",
    "\n",
    "| Variable         | Description                                        | Link to codes                                     |\n",
    "|-----------------|----------------------------------------------------|----------------------------------------------------|\n",
    "| SRVY_YR         | Year of the National Health Interview Survey       | https://ftp.cdc.gov/pub/Health_Statistics/NCHS/Dataset_Documentation/NHIS/       |\n",
    "| EVERCOVD_A      | Ever had COVID-19                                  | https://nhis.ipums.org/nhis-action/variables/CVDDIAG#codes_section     |\n",
    "| SHTCVD191_A     | COVID-19 vaccination                                | https://nhis.ipums.org/nhis-action/variables/337710#codes_section       |\n",
    "| EMPDYSMSS3_A    | Days missed work, past 12 months (top-coded)      | Numeric       |\n",
    "| HICOV_A         | Have health insurance                             | https://nhis.ipums.org/nhis-action/variables/281738#codes_section       |\n",
    "| EMDINDSTN1_A    | Detailed 2-digit recode for sample adult's industry | https://nhis.ipums.org/nhis/20ind.shtml       |\n",
    "| SEX_A           | Sex of Sample Adult                               | https://nhis.ipums.org/nhis-action/variables/SEX#codes_section       |\n",
    "| AGEP_A          | Age of SA (top coded)                            | Numeric; Info: https://nhis.ipums.org/nhis-action/variables/AGE#codes_section       |\n",
    "| EDUCP_A         | Educational level of sample adult                | https://nhis.ipums.org/nhis-action/variables/EDUC#ih2023       |\n",
    "| REGION          | Household region                                 | https://nhis.ipums.org/nhis-action/variables/REGION#codes_section       |"
   ]
  },
  {
   "cell_type": "code",
   "execution_count": null,
   "id": "7e926974-3344-4e3f-8247-e40403de62d8",
   "metadata": {},
   "outputs": [],
   "source": [
    "https://nhis.ipums.org/nhis-action/variables/REGION#codes_section"
   ]
  },
  {
   "cell_type": "markdown",
   "id": "b2329b1d-0f23-4aff-a478-3874f55546d8",
   "metadata": {
    "editable": true,
    "slideshow": {
     "slide_type": ""
    },
    "tags": []
   },
   "source": [
    "# SECTION 1: AWS and SageMaker Setup"
   ]
  },
  {
   "cell_type": "code",
   "execution_count": 23,
   "id": "61b18939-e3fe-4829-b8f9-5f6fc4b9d66b",
   "metadata": {
    "editable": true,
    "slideshow": {
     "slide_type": ""
    },
    "tags": []
   },
   "outputs": [],
   "source": [
    "import boto3\n",
    "import sagemaker\n",
    "import pandas as pd\n",
    "import io\n",
    "from pyathena import connect\n",
    "import sys\n",
    "import warnings\n",
    "warnings.filterwarnings('ignore')\n",
    "\n",
    "# EDA Tools\n",
    "import matplotlib.pyplot as plt\n",
    "import seaborn as sns"
   ]
  },
  {
   "cell_type": "code",
   "execution_count": 2,
   "id": "a09a4af0-06d1-45c4-82ae-3dac7ad1ba7f",
   "metadata": {
    "editable": true,
    "slideshow": {
     "slide_type": ""
    },
    "tags": []
   },
   "outputs": [],
   "source": [
    "# Initialize SageMaker session and AWS environment\n",
    "sess = sagemaker.Session()\n",
    "bucket = \"usd-team1-ads508\"\n",
    "role = sagemaker.get_execution_role()\n",
    "region = boto3.Session().region_name\n",
    "sm = boto3.client(\"sagemaker\", region_name=region)"
   ]
  },
  {
   "cell_type": "code",
   "execution_count": 3,
   "id": "574ee303-1d10-483e-9876-565c3c3a7ff7",
   "metadata": {
    "editable": true,
    "slideshow": {
     "slide_type": ""
    },
    "tags": []
   },
   "outputs": [],
   "source": [
    "# Initialize S3 resources at the beginning to avoid reference errors\n",
    "s3 = boto3.resource('s3')\n",
    "s3_client = boto3.client('s3')"
   ]
  },
  {
   "cell_type": "code",
   "execution_count": 4,
   "id": "a05cfe7a-d8e7-4e7c-8107-ead15aaad06a",
   "metadata": {
    "editable": true,
    "slideshow": {
     "slide_type": ""
    },
    "tags": []
   },
   "outputs": [],
   "source": [
    "# Define S3 paths for data storage\n",
    "s3_public_path = \"s3://usd-team1-ads508/ld_data/\"\n",
    "s3_private_path = f\"s3://{bucket}/ld_data\"\n",
    "s3_processed_path = f\"s3://{bucket}/ld_data_processed\""
   ]
  },
  {
   "cell_type": "code",
   "execution_count": 5,
   "id": "7d71496a-fa2f-4581-b509-e55fcda9b3bb",
   "metadata": {
    "editable": true,
    "slideshow": {
     "slide_type": ""
    },
    "tags": []
   },
   "outputs": [
    {
     "name": "stdout",
     "output_type": "stream",
     "text": [
      "Stored 's3_public_path' (str)\n",
      "Stored 's3_private_path' (str)\n",
      "Stored 's3_processed_path' (str)\n"
     ]
    }
   ],
   "source": [
    "# Store paths for later use\n",
    "%store s3_public_path\n",
    "%store s3_private_path\n",
    "%store s3_processed_path"
   ]
  },
  {
   "cell_type": "code",
   "execution_count": 6,
   "id": "5edef959-180e-418c-8f16-17f1968097fe",
   "metadata": {
    "editable": true,
    "slideshow": {
     "slide_type": ""
    },
    "tags": []
   },
   "outputs": [],
   "source": [
    "# Copy CSV files from public to private bucket\n",
    "!aws s3 cp --recursive {s3_public_path} {s3_private_path}/ --include \"*.csv\" > /dev/null 2>&1\n"
   ]
  },
  {
   "cell_type": "markdown",
   "id": "f4cdff0b-b0e1-41f8-924a-724a4ae935fa",
   "metadata": {
    "editable": true,
    "slideshow": {
     "slide_type": ""
    },
    "tags": []
   },
   "source": [
    "# SECTION 2: Data Processing Functions"
   ]
  },
  {
   "cell_type": "code",
   "execution_count": 7,
   "id": "31e39169-0ac6-45da-be01-678ba8309ec8",
   "metadata": {
    "editable": true,
    "slideshow": {
     "slide_type": ""
    },
    "tags": []
   },
   "outputs": [],
   "source": [
    "# Standardize Column Names\n",
    "def standardize_column_names(df, year):\n",
    "    \"\"\"\n",
    "    Standardize column names across different years of NHIS data.\n",
    "    \n",
    "    Args:\n",
    "        df: DataFrame containing NHIS data\n",
    "        year: Year of the survey (integer)\n",
    "        \n",
    "    Returns:\n",
    "        DataFrame with standardized column names\n",
    "    \"\"\"\n",
    "    # Create a copy to avoid modifying the original\n",
    "    df_standardized = df.copy()\n",
    "    \n",
    "    # COVID-19 diagnosis variable standardization\n",
    "    if year in [2020, 2021, 2022]:\n",
    "        if 'CVDDIAG_A' in df.columns:\n",
    "            df_standardized['EVERCOVD_A'] = df['CVDDIAG_A']\n",
    "    elif year not in [2023]:  # In 2019, COVID didn't exist\n",
    "        df_standardized['EVERCOVD_A'] = None  # Add column with nulls for 2019\n",
    "    \n",
    "    # COVID-19 vaccination standardization\n",
    "    if year == 2021:\n",
    "        if 'SHTCVD19_A' in df.columns:\n",
    "            df_standardized['SHTCVD191_A'] = df['SHTCVD19_A']\n",
    "    elif year not in [2022, 2023]:  # In 2019-2020, no COVID vaccination\n",
    "        df_standardized['SHTCVD191_A'] = None  # Add column with nulls\n",
    "    \n",
    "    # Work days missed standardization\n",
    "    if year in [2019, 2020]:\n",
    "        if 'EMPDYSMSS2_A' in df.columns:\n",
    "            df_standardized['EMPDYSMSS3_A'] = df['EMPDYSMSS2_A']\n",
    "    \n",
    "    # Industry code standardization\n",
    "    if year == 2020:\n",
    "        if 'EMDINDSTR1_A' in df.columns:\n",
    "            df_standardized['EMDINDSTN1_A'] = df['EMDINDSTR1_A']\n",
    "    elif year not in [2021, 2023]:  # Handle years where this var doesn't exist\n",
    "        df_standardized['EMDINDSTN1_A'] = None\n",
    "    \n",
    "    # Education standardization\n",
    "    if year in [2019, 2020]:\n",
    "        if 'EDUC_A' in df.columns:\n",
    "            df_standardized['EDUCP_A'] = df['EDUC_A']\n",
    "    \n",
    "    # Region - check if it exists for the later years\n",
    "    if 'REGION' not in df.columns and year in [2021, 2022, 2023]:\n",
    "        df_standardized['REGION'] = None\n",
    "    \n",
    "    # Select only the columns we need, handling missing columns\n",
    "    columns_to_select = ['SRVY_YR', 'EVERCOVD_A', 'SHTCVD191_A', 'EMPDYSMSS3_A', \n",
    "                         'HICOV_A', 'EMDINDSTN1_A', 'SEX_A', 'AGEP_A', 'EDUCP_A', 'REGION']\n",
    "    \n",
    "    # Create a list of columns that exist in the dataframe\n",
    "    existing_columns = [col for col in columns_to_select if col in df_standardized.columns]\n",
    "    \n",
    "    # Return only columns that exist\n",
    "    return df_standardized[existing_columns]"
   ]
  },
  {
   "cell_type": "code",
   "execution_count": 8,
   "id": "3e0a298d-c65b-411b-a04f-ce8922c0c34d",
   "metadata": {
    "editable": true,
    "slideshow": {
     "slide_type": ""
    },
    "tags": []
   },
   "outputs": [],
   "source": [
    "# Extract year from filename\n",
    "def extract_year_from_filename(filename):\n",
    "    \"\"\"\n",
    "    Extract the year from a filename if present.\n",
    "    \n",
    "    Args:\n",
    "        filename: String containing the filename\n",
    "        \n",
    "    Returns:\n",
    "        Integer year if found, None otherwise\n",
    "    \"\"\"\n",
    "    for y in ['2019', '2020', '2021', '2022', '2023']:\n",
    "        if y in filename:\n",
    "            return int(y)\n",
    "    return None"
   ]
  },
  {
   "cell_type": "code",
   "execution_count": 9,
   "id": "b876e6cc-e23f-443a-96db-911c212e7b51",
   "metadata": {
    "editable": true,
    "slideshow": {
     "slide_type": ""
    },
    "tags": []
   },
   "outputs": [],
   "source": [
    "# Process CSV files\n",
    "def process_csv_file(bucket_name, file_key, processed_prefix):\n",
    "    \"\"\"\n",
    "    Process a CSV file from S3, standardize columns, and save back to S3.\n",
    "    \n",
    "    Args:\n",
    "        bucket_name: S3 bucket name\n",
    "        file_key: Key of the file to process\n",
    "        processed_prefix: Destination prefix for processed files\n",
    "        \n",
    "    Returns:\n",
    "        Boolean indicating success or failure\n",
    "    \"\"\"\n",
    "    try:\n",
    "        # Skip already processed files\n",
    "        if processed_prefix in file_key:\n",
    "            return False\n",
    "            \n",
    "        # Get the file content\n",
    "        obj = s3.Object(bucket_name, file_key).get()\n",
    "        df = pd.read_csv(io.BytesIO(obj['Body'].read()))\n",
    "        \n",
    "        # Try to extract year from filename or from SRVY_YR column\n",
    "        year = None\n",
    "        if 'SRVY_YR' in df.columns:\n",
    "            year = int(df['SRVY_YR'].iloc[0])\n",
    "        else:\n",
    "            # Try to extract from filename\n",
    "            filename = file_key.split('/')[-1]\n",
    "            year = extract_year_from_filename(filename)\n",
    "            if year:\n",
    "                df['SRVY_YR'] = year\n",
    "        \n",
    "        if year is None:\n",
    "            print(f\"Warning: Could not determine year for {file_key}, skipping\")\n",
    "            return False\n",
    "        \n",
    "        print(f\"Processing {file_key} (Year: {year})\")\n",
    "        \n",
    "        # Standardize column names\n",
    "        processed_df = standardize_column_names(df, year)\n",
    "        \n",
    "        # Ensure all required columns exist (fill with NULL if missing)\n",
    "        required_columns = ['SRVY_YR', 'EVERCOVD_A', 'SHTCVD191_A', 'EMPDYSMSS3_A', \n",
    "                           'HICOV_A', 'EMDINDSTN1_A', 'SEX_A', 'AGEP_A', 'EDUCP_A', 'REGION']\n",
    "        \n",
    "        for col in required_columns:\n",
    "            if col not in processed_df.columns:\n",
    "                processed_df[col] = None\n",
    "        \n",
    "        # Reorder columns to match the Athena table schema\n",
    "        processed_df = processed_df[required_columns]\n",
    "        \n",
    "        # Save processed file\n",
    "        filename = file_key.split('/')[-1]\n",
    "        processed_key = f\"{processed_prefix}/{filename}\"\n",
    "        \n",
    "        csv_buffer = io.StringIO()\n",
    "        processed_df.to_csv(csv_buffer, index=False)\n",
    "        s3_client.put_object(Bucket=bucket_name, \n",
    "                           Key=processed_key, \n",
    "                           Body=csv_buffer.getvalue())\n",
    "        \n",
    "        print(f\"Saved processed file to {processed_key}\")\n",
    "        return True\n",
    "    except Exception as e:\n",
    "        print(f\"Error processing {file_key}: {e}\")\n",
    "        return False"
   ]
  },
  {
   "cell_type": "markdown",
   "id": "377df569-e203-4372-96f6-c6a715e59cd7",
   "metadata": {
    "editable": true,
    "slideshow": {
     "slide_type": ""
    },
    "tags": []
   },
   "source": [
    "# SECTION 3: Process All CSV Files"
   ]
  },
  {
   "cell_type": "code",
   "execution_count": 10,
   "id": "b12280a2-759a-4ac3-b619-748c6516360c",
   "metadata": {
    "editable": true,
    "slideshow": {
     "slide_type": ""
    },
    "tags": []
   },
   "outputs": [
    {
     "name": "stdout",
     "output_type": "stream",
     "text": [
      "Processing CSV files...\n"
     ]
    }
   ],
   "source": [
    "# List files in the bucket and process each one\n",
    "print(\"Processing CSV files...\")\n",
    "processed_prefix = \"ld_data_processed\""
   ]
  },
  {
   "cell_type": "code",
   "execution_count": 11,
   "id": "58077ad6-9a04-4464-b57f-39c4c0055c73",
   "metadata": {
    "editable": true,
    "slideshow": {
     "slide_type": ""
    },
    "tags": []
   },
   "outputs": [
    {
     "name": "stdout",
     "output_type": "stream",
     "text": [
      "Processing ld_data/adult19.csv (Year: 2019)\n",
      "Saved processed file to ld_data_processed/adult19.csv\n",
      "Processing ld_data/adult20.csv (Year: 2020)\n",
      "Saved processed file to ld_data_processed/adult20.csv\n",
      "Processing ld_data/adult21.csv (Year: 2021)\n",
      "Saved processed file to ld_data_processed/adult21.csv\n",
      "Processing ld_data/adult22.csv (Year: 2022)\n",
      "Saved processed file to ld_data_processed/adult22.csv\n",
      "Processing ld_data/adult23.csv (Year: 2023)\n",
      "Saved processed file to ld_data_processed/adult23.csv\n",
      "Successfully processed 5 files\n"
     ]
    }
   ],
   "source": [
    "# Only process files from the source directory, not the processed directory\n",
    "response = s3_client.list_objects_v2(Bucket=bucket, Prefix=\"ld_data/\")  # Add trailing slash to avoid processed files\n",
    "\n",
    "if 'Contents' in response:\n",
    "    success_count = 0\n",
    "    for obj in response['Contents']:\n",
    "        if obj['Key'].endswith('.csv'):\n",
    "            if process_csv_file(bucket, obj['Key'], processed_prefix):\n",
    "                success_count += 1\n",
    "    \n",
    "    print(f\"Successfully processed {success_count} files\")\n",
    "else:\n",
    "    print(\"No files found in the source location\")"
   ]
  },
  {
   "cell_type": "markdown",
   "id": "59e79423-5786-49c8-8941-9ac280abaa59",
   "metadata": {
    "editable": true,
    "slideshow": {
     "slide_type": ""
    },
    "tags": []
   },
   "source": [
    "# SECTION 4: Create Athena Database"
   ]
  },
  {
   "cell_type": "code",
   "execution_count": 12,
   "id": "0fb26c03-3488-4d33-a0e7-18fb321bbdbe",
   "metadata": {
    "editable": true,
    "slideshow": {
     "slide_type": ""
    },
    "tags": []
   },
   "outputs": [],
   "source": [
    "database_name = \"db_508\"\n",
    "s3_staging_dir = f\"s3://{bucket}/athena/staging\""
   ]
  },
  {
   "cell_type": "code",
   "execution_count": 13,
   "id": "6539b4e2-8c06-4876-837c-55305290007a",
   "metadata": {
    "editable": true,
    "slideshow": {
     "slide_type": ""
    },
    "tags": []
   },
   "outputs": [],
   "source": [
    "# Connect to Athena\n",
    "conn = connect(region_name=region, s3_staging_dir=s3_staging_dir)"
   ]
  },
  {
   "cell_type": "code",
   "execution_count": 14,
   "id": "67a2a130-31ae-41dc-87ac-81ac7c0475a2",
   "metadata": {
    "editable": true,
    "slideshow": {
     "slide_type": ""
    },
    "tags": []
   },
   "outputs": [
    {
     "name": "stdout",
     "output_type": "stream",
     "text": [
      "CREATE DATABASE IF NOT EXISTS db_508\n"
     ]
    },
    {
     "data": {
      "text/html": [
       "<div>\n",
       "<style scoped>\n",
       "    .dataframe tbody tr th:only-of-type {\n",
       "        vertical-align: middle;\n",
       "    }\n",
       "\n",
       "    .dataframe tbody tr th {\n",
       "        vertical-align: top;\n",
       "    }\n",
       "\n",
       "    .dataframe thead th {\n",
       "        text-align: right;\n",
       "    }\n",
       "</style>\n",
       "<table border=\"1\" class=\"dataframe\">\n",
       "  <thead>\n",
       "    <tr style=\"text-align: right;\">\n",
       "      <th></th>\n",
       "    </tr>\n",
       "  </thead>\n",
       "  <tbody>\n",
       "  </tbody>\n",
       "</table>\n",
       "</div>"
      ],
      "text/plain": [
       "Empty DataFrame\n",
       "Columns: []\n",
       "Index: []"
      ]
     },
     "execution_count": 14,
     "metadata": {},
     "output_type": "execute_result"
    }
   ],
   "source": [
    "# Create database\n",
    "create_db_statement = f\"CREATE DATABASE IF NOT EXISTS {database_name}\"\n",
    "print(create_db_statement)\n",
    "pd.read_sql(create_db_statement, conn)"
   ]
  },
  {
   "cell_type": "code",
   "execution_count": 15,
   "id": "01a99a06-e84d-49d8-be64-9606eceb8ede",
   "metadata": {
    "editable": true,
    "slideshow": {
     "slide_type": ""
    },
    "tags": []
   },
   "outputs": [
    {
     "name": "stdout",
     "output_type": "stream",
     "text": [
      "  database_name\n",
      "0        db_508\n",
      "1       default\n"
     ]
    }
   ],
   "source": [
    "# Verify database creation\n",
    "show_db_statement = \"SHOW DATABASES\"\n",
    "df_show = pd.read_sql(show_db_statement, conn)\n",
    "print(df_show.head(5))"
   ]
  },
  {
   "cell_type": "code",
   "execution_count": 16,
   "id": "98a9358b-09b6-4f53-aaf1-b31d3d4d3ff0",
   "metadata": {
    "editable": true,
    "slideshow": {
     "slide_type": ""
    },
    "tags": []
   },
   "outputs": [
    {
     "name": "stdout",
     "output_type": "stream",
     "text": [
      "Database creation successful: True\n",
      "Stored 'ingest_create_athena_db_passed' (bool)\n"
     ]
    }
   ],
   "source": [
    "# Mark database creation as successful if database exists\n",
    "ingest_create_athena_db_passed = database_name in df_show['database_name'].values\n",
    "print(f\"Database creation successful: {ingest_create_athena_db_passed}\")\n",
    "%store ingest_create_athena_db_passed"
   ]
  },
  {
   "cell_type": "markdown",
   "id": "617ca285-87f7-4666-9809-1939dc5e84c8",
   "metadata": {
    "editable": true,
    "slideshow": {
     "slide_type": ""
    },
    "tags": []
   },
   "source": [
    "# SECTION 5: Create Main NHIS Data Table"
   ]
  },
  {
   "cell_type": "code",
   "execution_count": 17,
   "id": "7c050b63-8e91-42c6-a945-3fed47d2d34e",
   "metadata": {
    "editable": true,
    "slideshow": {
     "slide_type": ""
    },
    "tags": []
   },
   "outputs": [
    {
     "name": "stdout",
     "output_type": "stream",
     "text": [
      "CREATE EXTERNAL TABLE IF NOT EXISTS db_508.nhis_dataset(\n",
      "        SRVY_YR int,\n",
      "        EVERCOVD_A int,\n",
      "        SHTCVD191_A int,\n",
      "        EMPDYSMSS3_A int,\n",
      "        HICOV_A int,\n",
      "        EMDINDSTN1_A int,\n",
      "        SEX_A int,\n",
      "        AGEP_A int,\n",
      "        EDUCP_A int,\n",
      "        REGION int\n",
      "    ) ROW FORMAT DELIMITED FIELDS TERMINATED BY ',' LINES TERMINATED BY '\\n' \n",
      "    LOCATION 's3://[REDACTED_BUCKET]/[REDACTED_PATH]'\n",
      "    TBLPROPERTIES ('skip.header.line.count'='1')\n",
      "                      tab_name\n",
      "0       county_health_rankings\n",
      "1        industry_code_mapping\n",
      "2            industry_year_avg\n",
      "3                 nhis_dataset\n",
      "4  nhis_dataset_with_estimates\n",
      "Table creation successful: True\n",
      "Stored 'ingest_create_athena_table_passed' (bool)\n"
     ]
    }
   ],
   "source": [
    "if not ingest_create_athena_db_passed:\n",
    "    print(\"[ERROR] You need to create the Athena database first\")\n",
    "else:\n",
    "    # Define table\n",
    "    table_name = \"nhis_dataset\"\n",
    "    \n",
    "    # Drop table if it exists to recreate it\n",
    "    drop_table_statement = f\"DROP TABLE IF EXISTS {database_name}.{table_name}\"\n",
    "    pd.read_sql(drop_table_statement, conn)\n",
    "    \n",
    "    # Statement to execute with actual path to processed data\n",
    "    create_table_statement = f\"\"\"CREATE EXTERNAL TABLE IF NOT EXISTS {database_name}.{table_name}(\n",
    "        SRVY_YR int,\n",
    "        EVERCOVD_A int,\n",
    "        SHTCVD191_A int,\n",
    "        EMPDYSMSS3_A int,\n",
    "        HICOV_A int,\n",
    "        EMDINDSTN1_A int,\n",
    "        SEX_A int,\n",
    "        AGEP_A int,\n",
    "        EDUCP_A int,\n",
    "        REGION int\n",
    "    ) ROW FORMAT DELIMITED FIELDS TERMINATED BY ',' LINES TERMINATED BY '\\\\n' \n",
    "    LOCATION '{s3_processed_path}'\n",
    "    TBLPROPERTIES ('skip.header.line.count'='1')\"\"\"\n",
    "    \n",
    "    # Print statement with redacted sensitive information\n",
    "    print_statement = create_table_statement.replace(s3_processed_path, \"s3://[REDACTED_BUCKET]/[REDACTED_PATH]\")\n",
    "    print(print_statement)\n",
    "    \n",
    "    # Execute statement\n",
    "    pd.read_sql(create_table_statement, conn)\n",
    "    \n",
    "    # Verify table creation\n",
    "    show_tables_statement = f\"SHOW TABLES in {database_name}\"\n",
    "    df_show = pd.read_sql(show_tables_statement, conn)\n",
    "    print(df_show.head(5))\n",
    "    \n",
    "    # Mark table creation as successful if table exists\n",
    "    ingest_create_athena_table_passed = table_name in df_show['tab_name'].values\n",
    "    print(f\"Table creation successful: {ingest_create_athena_table_passed}\")\n",
    "    %store ingest_create_athena_table_passed"
   ]
  },
  {
   "cell_type": "markdown",
   "id": "294a4191-3461-45d7-b997-e964b4746ed0",
   "metadata": {
    "editable": true,
    "slideshow": {
     "slide_type": ""
    },
    "tags": []
   },
   "source": [
    "# SECTION 6: Validate NHIS Data Table"
   ]
  },
  {
   "cell_type": "code",
   "execution_count": 18,
   "id": "5f8d966a-07fa-4f9d-9336-31f0fc211c3c",
   "metadata": {
    "editable": true,
    "slideshow": {
     "slide_type": ""
    },
    "tags": []
   },
   "outputs": [
    {
     "name": "stdout",
     "output_type": "stream",
     "text": [
      "Query to count total records:\n",
      "\n",
      "SELECT COUNT(*) as total_records \n",
      "FROM db_508.nhis_dataset\n",
      "\n"
     ]
    }
   ],
   "source": [
    "# Query to count total records in the table\n",
    "count_query = f\"\"\"\n",
    "SELECT COUNT(*) as total_records \n",
    "FROM {database_name}.{table_name}\n",
    "\"\"\"\n",
    "print(\"Query to count total records:\")\n",
    "print(count_query)"
   ]
  },
  {
   "cell_type": "code",
   "execution_count": 19,
   "id": "3494f5d6-c3fc-45ea-9db8-55bc1fff4c15",
   "metadata": {
    "editable": true,
    "slideshow": {
     "slide_type": ""
    },
    "tags": []
   },
   "outputs": [
    {
     "name": "stdout",
     "output_type": "stream",
     "text": [
      "Total records in nhis_dataset: 150220\n"
     ]
    }
   ],
   "source": [
    "# Execute the query\n",
    "df_count = pd.read_sql(count_query, conn)\n",
    "# Display the result\n",
    "print(f\"Total records in {table_name}: {df_count['total_records'].iloc[0]}\")"
   ]
  },
  {
   "cell_type": "code",
   "execution_count": 20,
   "id": "bb8b96df-2718-478c-b5e3-dc2c9211d57d",
   "metadata": {
    "editable": true,
    "slideshow": {
     "slide_type": ""
    },
    "tags": []
   },
   "outputs": [
    {
     "name": "stdout",
     "output_type": "stream",
     "text": [
      "Query to retrieve sample records:\n",
      "\n",
      "SELECT *\n",
      "FROM db_508.nhis_dataset\n",
      "LIMIT 10\n",
      "\n",
      "\n",
      "Sample records from nhis_dataset:\n"
     ]
    },
    {
     "data": {
      "text/html": [
       "<div>\n",
       "<style scoped>\n",
       "    .dataframe tbody tr th:only-of-type {\n",
       "        vertical-align: middle;\n",
       "    }\n",
       "\n",
       "    .dataframe tbody tr th {\n",
       "        vertical-align: top;\n",
       "    }\n",
       "\n",
       "    .dataframe thead th {\n",
       "        text-align: right;\n",
       "    }\n",
       "</style>\n",
       "<table border=\"1\" class=\"dataframe\">\n",
       "  <thead>\n",
       "    <tr style=\"text-align: right;\">\n",
       "      <th></th>\n",
       "      <th>srvy_yr</th>\n",
       "      <th>evercovd_a</th>\n",
       "      <th>shtcvd191_a</th>\n",
       "      <th>empdysmss3_a</th>\n",
       "      <th>hicov_a</th>\n",
       "      <th>emdindstn1_a</th>\n",
       "      <th>sex_a</th>\n",
       "      <th>agep_a</th>\n",
       "      <th>educp_a</th>\n",
       "      <th>region</th>\n",
       "    </tr>\n",
       "  </thead>\n",
       "  <tbody>\n",
       "    <tr>\n",
       "      <th>0</th>\n",
       "      <td>2020</td>\n",
       "      <td>2.0</td>\n",
       "      <td>None</td>\n",
       "      <td>NaN</td>\n",
       "      <td>1</td>\n",
       "      <td>NaN</td>\n",
       "      <td>1</td>\n",
       "      <td>85</td>\n",
       "      <td>5</td>\n",
       "      <td>3</td>\n",
       "    </tr>\n",
       "    <tr>\n",
       "      <th>1</th>\n",
       "      <td>2020</td>\n",
       "      <td>2.0</td>\n",
       "      <td>None</td>\n",
       "      <td>1.0</td>\n",
       "      <td>1</td>\n",
       "      <td>78.0</td>\n",
       "      <td>1</td>\n",
       "      <td>39</td>\n",
       "      <td>5</td>\n",
       "      <td>3</td>\n",
       "    </tr>\n",
       "    <tr>\n",
       "      <th>2</th>\n",
       "      <td>2020</td>\n",
       "      <td>2.0</td>\n",
       "      <td>None</td>\n",
       "      <td>0.0</td>\n",
       "      <td>1</td>\n",
       "      <td>78.0</td>\n",
       "      <td>1</td>\n",
       "      <td>42</td>\n",
       "      <td>4</td>\n",
       "      <td>3</td>\n",
       "    </tr>\n",
       "    <tr>\n",
       "      <th>3</th>\n",
       "      <td>2020</td>\n",
       "      <td>NaN</td>\n",
       "      <td>None</td>\n",
       "      <td>0.0</td>\n",
       "      <td>1</td>\n",
       "      <td>64.0</td>\n",
       "      <td>1</td>\n",
       "      <td>32</td>\n",
       "      <td>8</td>\n",
       "      <td>3</td>\n",
       "    </tr>\n",
       "    <tr>\n",
       "      <th>4</th>\n",
       "      <td>2020</td>\n",
       "      <td>NaN</td>\n",
       "      <td>None</td>\n",
       "      <td>NaN</td>\n",
       "      <td>1</td>\n",
       "      <td>NaN</td>\n",
       "      <td>2</td>\n",
       "      <td>85</td>\n",
       "      <td>4</td>\n",
       "      <td>3</td>\n",
       "    </tr>\n",
       "    <tr>\n",
       "      <th>5</th>\n",
       "      <td>2020</td>\n",
       "      <td>NaN</td>\n",
       "      <td>None</td>\n",
       "      <td>NaN</td>\n",
       "      <td>1</td>\n",
       "      <td>NaN</td>\n",
       "      <td>2</td>\n",
       "      <td>70</td>\n",
       "      <td>8</td>\n",
       "      <td>3</td>\n",
       "    </tr>\n",
       "    <tr>\n",
       "      <th>6</th>\n",
       "      <td>2020</td>\n",
       "      <td>NaN</td>\n",
       "      <td>None</td>\n",
       "      <td>0.0</td>\n",
       "      <td>1</td>\n",
       "      <td>68.0</td>\n",
       "      <td>2</td>\n",
       "      <td>32</td>\n",
       "      <td>8</td>\n",
       "      <td>3</td>\n",
       "    </tr>\n",
       "    <tr>\n",
       "      <th>7</th>\n",
       "      <td>2020</td>\n",
       "      <td>2.0</td>\n",
       "      <td>None</td>\n",
       "      <td>NaN</td>\n",
       "      <td>1</td>\n",
       "      <td>NaN</td>\n",
       "      <td>2</td>\n",
       "      <td>77</td>\n",
       "      <td>4</td>\n",
       "      <td>3</td>\n",
       "    </tr>\n",
       "    <tr>\n",
       "      <th>8</th>\n",
       "      <td>2020</td>\n",
       "      <td>2.0</td>\n",
       "      <td>None</td>\n",
       "      <td>NaN</td>\n",
       "      <td>1</td>\n",
       "      <td>NaN</td>\n",
       "      <td>1</td>\n",
       "      <td>71</td>\n",
       "      <td>6</td>\n",
       "      <td>3</td>\n",
       "    </tr>\n",
       "    <tr>\n",
       "      <th>9</th>\n",
       "      <td>2020</td>\n",
       "      <td>2.0</td>\n",
       "      <td>None</td>\n",
       "      <td>NaN</td>\n",
       "      <td>1</td>\n",
       "      <td>NaN</td>\n",
       "      <td>2</td>\n",
       "      <td>69</td>\n",
       "      <td>6</td>\n",
       "      <td>3</td>\n",
       "    </tr>\n",
       "  </tbody>\n",
       "</table>\n",
       "</div>"
      ],
      "text/plain": [
       "   srvy_yr  evercovd_a shtcvd191_a  empdysmss3_a  hicov_a  emdindstn1_a  \\\n",
       "0     2020         2.0        None           NaN        1           NaN   \n",
       "1     2020         2.0        None           1.0        1          78.0   \n",
       "2     2020         2.0        None           0.0        1          78.0   \n",
       "3     2020         NaN        None           0.0        1          64.0   \n",
       "4     2020         NaN        None           NaN        1           NaN   \n",
       "5     2020         NaN        None           NaN        1           NaN   \n",
       "6     2020         NaN        None           0.0        1          68.0   \n",
       "7     2020         2.0        None           NaN        1           NaN   \n",
       "8     2020         2.0        None           NaN        1           NaN   \n",
       "9     2020         2.0        None           NaN        1           NaN   \n",
       "\n",
       "   sex_a  agep_a  educp_a  region  \n",
       "0      1      85        5       3  \n",
       "1      1      39        5       3  \n",
       "2      1      42        4       3  \n",
       "3      1      32        8       3  \n",
       "4      2      85        4       3  \n",
       "5      2      70        8       3  \n",
       "6      2      32        8       3  \n",
       "7      2      77        4       3  \n",
       "8      1      71        6       3  \n",
       "9      2      69        6       3  "
      ]
     },
     "metadata": {},
     "output_type": "display_data"
    }
   ],
   "source": [
    "# Query to select the first 10 rows from the table\n",
    "sample_query = f\"\"\"\n",
    "SELECT *\n",
    "FROM {database_name}.{table_name}\n",
    "LIMIT 10\n",
    "\"\"\"\n",
    "print(\"Query to retrieve sample records:\")\n",
    "print(sample_query)\n",
    "\n",
    "# Execute the query\n",
    "df_sample = pd.read_sql(sample_query, conn)\n",
    "# Display the result\n",
    "print(f\"\\nSample records from {table_name}:\")\n",
    "display(df_sample)"
   ]
  },
  {
   "cell_type": "code",
   "execution_count": 34,
   "id": "ba7bb408-52bc-43e6-bb9b-58119d7b4fe6",
   "metadata": {},
   "outputs": [
    {
     "name": "stdout",
     "output_type": "stream",
     "text": [
      "Basic Statistics:\n"
     ]
    },
    {
     "data": {
      "text/html": [
       "<div>\n",
       "<style scoped>\n",
       "    .dataframe tbody tr th:only-of-type {\n",
       "        vertical-align: middle;\n",
       "    }\n",
       "\n",
       "    .dataframe tbody tr th {\n",
       "        vertical-align: top;\n",
       "    }\n",
       "\n",
       "    .dataframe thead th {\n",
       "        text-align: right;\n",
       "    }\n",
       "</style>\n",
       "<table border=\"1\" class=\"dataframe\">\n",
       "  <thead>\n",
       "    <tr style=\"text-align: right;\">\n",
       "      <th></th>\n",
       "      <th>avg_age</th>\n",
       "      <th>min_age</th>\n",
       "      <th>max_age</th>\n",
       "      <th>avg_days_missed</th>\n",
       "      <th>percent_insured</th>\n",
       "    </tr>\n",
       "  </thead>\n",
       "  <tbody>\n",
       "    <tr>\n",
       "      <th>0</th>\n",
       "      <td>52.928585</td>\n",
       "      <td>18</td>\n",
       "      <td>99</td>\n",
       "      <td>14.34373</td>\n",
       "      <td>93.303155</td>\n",
       "    </tr>\n",
       "  </tbody>\n",
       "</table>\n",
       "</div>"
      ],
      "text/plain": [
       "     avg_age  min_age  max_age  avg_days_missed  percent_insured\n",
       "0  52.928585       18       99         14.34373        93.303155"
      ]
     },
     "metadata": {},
     "output_type": "display_data"
    }
   ],
   "source": [
    "# 5.2 Basic Statistics\n",
    "basic_stats_query = f\"\"\"\n",
    "SELECT \n",
    "    AVG(AGEP_A) as avg_age,\n",
    "    MIN(AGEP_A) as min_age,\n",
    "    MAX(AGEP_A) as max_age,\n",
    "    AVG(EMPDYSMSS3_A) as avg_days_missed,\n",
    "    SUM(CASE WHEN HICOV_A = 1 THEN 1 ELSE 0 END) * 100.0 / COUNT(*) as percent_insured\n",
    "FROM {database_name}.{table_name}\n",
    "\"\"\"\n",
    "\n",
    "try:\n",
    "    df_basic_stats = pd.read_sql(basic_stats_query, conn)\n",
    "    print(\"Basic Statistics:\")\n",
    "    display(df_basic_stats)\n",
    "except Exception as e:\n",
    "    print(f\"An error occurred: {e}\")\n",
    "    print(\"Query attempted:\")\n",
    "    print(basic_stats_query)"
   ]
  },
  {
   "cell_type": "code",
   "execution_count": 21,
   "id": "ebdf00b6-dc5a-4ffe-9a0d-c5f45572aa7e",
   "metadata": {},
   "outputs": [],
   "source": [
    "# 5.3 Distribution of Categorical Variables\n",
    "\n",
    "# List of categorical variables\n",
    "cat_vars = ['SEX_A', 'EVERCOVD_A', 'SHTCVD191_A', 'HICOV_A', 'EMDINDSTN1_A', 'EDUCP_A', 'REGION']\n",
    "\n",
    "# Function to get distribution for a categorical variable\n",
    "def get_distribution(var):\n",
    "    query = f\"\"\"\n",
    "    SELECT \n",
    "        {var}, \n",
    "        COUNT(*) as count,\n",
    "        COUNT(*) * 100.0 / SUM(COUNT(*)) OVER() as percentage\n",
    "    FROM {database_name}.{table_name}\n",
    "    WHERE {var} IS NOT NULL\n",
    "    GROUP BY {var}\n",
    "    ORDER BY {var}\n",
    "    \"\"\"\n",
    "    return pd.read_sql(query, conn)"
   ]
  },
  {
   "cell_type": "code",
   "execution_count": 27,
   "id": "f365c5ce-95a3-424b-b6ef-9d8e37a07d7a",
   "metadata": {},
   "outputs": [
    {
     "name": "stdout",
     "output_type": "stream",
     "text": [
      "\n",
      "Distribution of SEX_A:\n"
     ]
    },
    {
     "data": {
      "text/html": [
       "<div>\n",
       "<style scoped>\n",
       "    .dataframe tbody tr th:only-of-type {\n",
       "        vertical-align: middle;\n",
       "    }\n",
       "\n",
       "    .dataframe tbody tr th {\n",
       "        vertical-align: top;\n",
       "    }\n",
       "\n",
       "    .dataframe thead th {\n",
       "        text-align: right;\n",
       "    }\n",
       "</style>\n",
       "<table border=\"1\" class=\"dataframe\">\n",
       "  <thead>\n",
       "    <tr style=\"text-align: right;\">\n",
       "      <th></th>\n",
       "      <th>SEX_A</th>\n",
       "      <th>count</th>\n",
       "      <th>percentage</th>\n",
       "    </tr>\n",
       "  </thead>\n",
       "  <tbody>\n",
       "    <tr>\n",
       "      <th>0</th>\n",
       "      <td>1</td>\n",
       "      <td>68687</td>\n",
       "      <td>45.724271</td>\n",
       "    </tr>\n",
       "    <tr>\n",
       "      <th>1</th>\n",
       "      <td>2</td>\n",
       "      <td>81517</td>\n",
       "      <td>54.265078</td>\n",
       "    </tr>\n",
       "    <tr>\n",
       "      <th>2</th>\n",
       "      <td>7</td>\n",
       "      <td>10</td>\n",
       "      <td>0.006657</td>\n",
       "    </tr>\n",
       "    <tr>\n",
       "      <th>3</th>\n",
       "      <td>9</td>\n",
       "      <td>6</td>\n",
       "      <td>0.003994</td>\n",
       "    </tr>\n",
       "  </tbody>\n",
       "</table>\n",
       "</div>"
      ],
      "text/plain": [
       "   SEX_A  count  percentage\n",
       "0      1  68687   45.724271\n",
       "1      2  81517   54.265078\n",
       "2      7     10    0.006657\n",
       "3      9      6    0.003994"
      ]
     },
     "metadata": {},
     "output_type": "display_data"
    },
    {
     "name": "stdout",
     "output_type": "stream",
     "text": [
      "\n",
      "Distribution of EVERCOVD_A:\n"
     ]
    },
    {
     "data": {
      "text/html": [
       "<div>\n",
       "<style scoped>\n",
       "    .dataframe tbody tr th:only-of-type {\n",
       "        vertical-align: middle;\n",
       "    }\n",
       "\n",
       "    .dataframe tbody tr th {\n",
       "        vertical-align: top;\n",
       "    }\n",
       "\n",
       "    .dataframe thead th {\n",
       "        text-align: right;\n",
       "    }\n",
       "</style>\n",
       "<table border=\"1\" class=\"dataframe\">\n",
       "  <thead>\n",
       "    <tr style=\"text-align: right;\">\n",
       "      <th></th>\n",
       "      <th>EVERCOVD_A</th>\n",
       "      <th>count</th>\n",
       "      <th>percentage</th>\n",
       "    </tr>\n",
       "  </thead>\n",
       "  <tbody>\n",
       "    <tr>\n",
       "      <th>0</th>\n",
       "      <td>1</td>\n",
       "      <td>27289</td>\n",
       "      <td>26.147154</td>\n",
       "    </tr>\n",
       "    <tr>\n",
       "      <th>1</th>\n",
       "      <td>2</td>\n",
       "      <td>76307</td>\n",
       "      <td>73.114107</td>\n",
       "    </tr>\n",
       "    <tr>\n",
       "      <th>2</th>\n",
       "      <td>7</td>\n",
       "      <td>128</td>\n",
       "      <td>0.122644</td>\n",
       "    </tr>\n",
       "    <tr>\n",
       "      <th>3</th>\n",
       "      <td>8</td>\n",
       "      <td>451</td>\n",
       "      <td>0.432129</td>\n",
       "    </tr>\n",
       "    <tr>\n",
       "      <th>4</th>\n",
       "      <td>9</td>\n",
       "      <td>192</td>\n",
       "      <td>0.183966</td>\n",
       "    </tr>\n",
       "  </tbody>\n",
       "</table>\n",
       "</div>"
      ],
      "text/plain": [
       "   EVERCOVD_A  count  percentage\n",
       "0           1  27289   26.147154\n",
       "1           2  76307   73.114107\n",
       "2           7    128    0.122644\n",
       "3           8    451    0.432129\n",
       "4           9    192    0.183966"
      ]
     },
     "metadata": {},
     "output_type": "display_data"
    },
    {
     "name": "stdout",
     "output_type": "stream",
     "text": [
      "\n",
      "Distribution of SHTCVD191_A:\n"
     ]
    },
    {
     "data": {
      "text/html": [
       "<div>\n",
       "<style scoped>\n",
       "    .dataframe tbody tr th:only-of-type {\n",
       "        vertical-align: middle;\n",
       "    }\n",
       "\n",
       "    .dataframe tbody tr th {\n",
       "        vertical-align: top;\n",
       "    }\n",
       "\n",
       "    .dataframe thead th {\n",
       "        text-align: right;\n",
       "    }\n",
       "</style>\n",
       "<table border=\"1\" class=\"dataframe\">\n",
       "  <thead>\n",
       "    <tr style=\"text-align: right;\">\n",
       "      <th></th>\n",
       "      <th>SHTCVD191_A</th>\n",
       "      <th>count</th>\n",
       "      <th>percentage</th>\n",
       "    </tr>\n",
       "  </thead>\n",
       "  <tbody>\n",
       "    <tr>\n",
       "      <th>0</th>\n",
       "      <td>1</td>\n",
       "      <td>61998</td>\n",
       "      <td>78.348561</td>\n",
       "    </tr>\n",
       "    <tr>\n",
       "      <th>1</th>\n",
       "      <td>2</td>\n",
       "      <td>15554</td>\n",
       "      <td>19.656013</td>\n",
       "    </tr>\n",
       "    <tr>\n",
       "      <th>2</th>\n",
       "      <td>7</td>\n",
       "      <td>381</td>\n",
       "      <td>0.481480</td>\n",
       "    </tr>\n",
       "    <tr>\n",
       "      <th>3</th>\n",
       "      <td>8</td>\n",
       "      <td>1135</td>\n",
       "      <td>1.434330</td>\n",
       "    </tr>\n",
       "    <tr>\n",
       "      <th>4</th>\n",
       "      <td>9</td>\n",
       "      <td>63</td>\n",
       "      <td>0.079615</td>\n",
       "    </tr>\n",
       "  </tbody>\n",
       "</table>\n",
       "</div>"
      ],
      "text/plain": [
       "   SHTCVD191_A  count  percentage\n",
       "0            1  61998   78.348561\n",
       "1            2  15554   19.656013\n",
       "2            7    381    0.481480\n",
       "3            8   1135    1.434330\n",
       "4            9     63    0.079615"
      ]
     },
     "metadata": {},
     "output_type": "display_data"
    },
    {
     "name": "stdout",
     "output_type": "stream",
     "text": [
      "\n",
      "Distribution of HICOV_A:\n"
     ]
    },
    {
     "data": {
      "text/html": [
       "<div>\n",
       "<style scoped>\n",
       "    .dataframe tbody tr th:only-of-type {\n",
       "        vertical-align: middle;\n",
       "    }\n",
       "\n",
       "    .dataframe tbody tr th {\n",
       "        vertical-align: top;\n",
       "    }\n",
       "\n",
       "    .dataframe thead th {\n",
       "        text-align: right;\n",
       "    }\n",
       "</style>\n",
       "<table border=\"1\" class=\"dataframe\">\n",
       "  <thead>\n",
       "    <tr style=\"text-align: right;\">\n",
       "      <th></th>\n",
       "      <th>HICOV_A</th>\n",
       "      <th>count</th>\n",
       "      <th>percentage</th>\n",
       "    </tr>\n",
       "  </thead>\n",
       "  <tbody>\n",
       "    <tr>\n",
       "      <th>0</th>\n",
       "      <td>1</td>\n",
       "      <td>140160</td>\n",
       "      <td>93.303155</td>\n",
       "    </tr>\n",
       "    <tr>\n",
       "      <th>1</th>\n",
       "      <td>2</td>\n",
       "      <td>9853</td>\n",
       "      <td>6.559047</td>\n",
       "    </tr>\n",
       "    <tr>\n",
       "      <th>2</th>\n",
       "      <td>7</td>\n",
       "      <td>101</td>\n",
       "      <td>0.067235</td>\n",
       "    </tr>\n",
       "    <tr>\n",
       "      <th>3</th>\n",
       "      <td>9</td>\n",
       "      <td>106</td>\n",
       "      <td>0.070563</td>\n",
       "    </tr>\n",
       "  </tbody>\n",
       "</table>\n",
       "</div>"
      ],
      "text/plain": [
       "   HICOV_A   count  percentage\n",
       "0        1  140160   93.303155\n",
       "1        2    9853    6.559047\n",
       "2        7     101    0.067235\n",
       "3        9     106    0.070563"
      ]
     },
     "metadata": {},
     "output_type": "display_data"
    },
    {
     "name": "stdout",
     "output_type": "stream",
     "text": [
      "\n",
      "Distribution of EMDINDSTN1_A:\n"
     ]
    },
    {
     "data": {
      "text/html": [
       "<div>\n",
       "<style scoped>\n",
       "    .dataframe tbody tr th:only-of-type {\n",
       "        vertical-align: middle;\n",
       "    }\n",
       "\n",
       "    .dataframe tbody tr th {\n",
       "        vertical-align: top;\n",
       "    }\n",
       "\n",
       "    .dataframe thead th {\n",
       "        text-align: right;\n",
       "    }\n",
       "</style>\n",
       "<table border=\"1\" class=\"dataframe\">\n",
       "  <thead>\n",
       "    <tr style=\"text-align: right;\">\n",
       "      <th></th>\n",
       "      <th>EMDINDSTN1_A</th>\n",
       "      <th>count</th>\n",
       "      <th>percentage</th>\n",
       "    </tr>\n",
       "  </thead>\n",
       "  <tbody>\n",
       "    <tr>\n",
       "      <th>0</th>\n",
       "      <td>1</td>\n",
       "      <td>395</td>\n",
       "      <td>0.712521</td>\n",
       "    </tr>\n",
       "    <tr>\n",
       "      <th>1</th>\n",
       "      <td>2</td>\n",
       "      <td>229</td>\n",
       "      <td>0.413082</td>\n",
       "    </tr>\n",
       "    <tr>\n",
       "      <th>2</th>\n",
       "      <td>3</td>\n",
       "      <td>52</td>\n",
       "      <td>0.093800</td>\n",
       "    </tr>\n",
       "    <tr>\n",
       "      <th>3</th>\n",
       "      <td>4</td>\n",
       "      <td>19</td>\n",
       "      <td>0.034273</td>\n",
       "    </tr>\n",
       "    <tr>\n",
       "      <th>4</th>\n",
       "      <td>5</td>\n",
       "      <td>64</td>\n",
       "      <td>0.115446</td>\n",
       "    </tr>\n",
       "    <tr>\n",
       "      <th>...</th>\n",
       "      <td>...</td>\n",
       "      <td>...</td>\n",
       "      <td>...</td>\n",
       "    </tr>\n",
       "    <tr>\n",
       "      <th>77</th>\n",
       "      <td>78</td>\n",
       "      <td>3111</td>\n",
       "      <td>5.611776</td>\n",
       "    </tr>\n",
       "    <tr>\n",
       "      <th>78</th>\n",
       "      <td>79</td>\n",
       "      <td>37</td>\n",
       "      <td>0.066742</td>\n",
       "    </tr>\n",
       "    <tr>\n",
       "      <th>79</th>\n",
       "      <td>97</td>\n",
       "      <td>774</td>\n",
       "      <td>1.396179</td>\n",
       "    </tr>\n",
       "    <tr>\n",
       "      <th>80</th>\n",
       "      <td>98</td>\n",
       "      <td>186</td>\n",
       "      <td>0.335516</td>\n",
       "    </tr>\n",
       "    <tr>\n",
       "      <th>81</th>\n",
       "      <td>99</td>\n",
       "      <td>50</td>\n",
       "      <td>0.090192</td>\n",
       "    </tr>\n",
       "  </tbody>\n",
       "</table>\n",
       "<p>82 rows × 3 columns</p>\n",
       "</div>"
      ],
      "text/plain": [
       "    EMDINDSTN1_A  count  percentage\n",
       "0              1    395    0.712521\n",
       "1              2    229    0.413082\n",
       "2              3     52    0.093800\n",
       "3              4     19    0.034273\n",
       "4              5     64    0.115446\n",
       "..           ...    ...         ...\n",
       "77            78   3111    5.611776\n",
       "78            79     37    0.066742\n",
       "79            97    774    1.396179\n",
       "80            98    186    0.335516\n",
       "81            99     50    0.090192\n",
       "\n",
       "[82 rows x 3 columns]"
      ]
     },
     "metadata": {},
     "output_type": "display_data"
    },
    {
     "name": "stdout",
     "output_type": "stream",
     "text": [
      "\n",
      "Top 10 most common values for EMDINDSTN1_A:\n"
     ]
    },
    {
     "data": {
      "text/html": [
       "<div>\n",
       "<style scoped>\n",
       "    .dataframe tbody tr th:only-of-type {\n",
       "        vertical-align: middle;\n",
       "    }\n",
       "\n",
       "    .dataframe tbody tr th {\n",
       "        vertical-align: top;\n",
       "    }\n",
       "\n",
       "    .dataframe thead th {\n",
       "        text-align: right;\n",
       "    }\n",
       "</style>\n",
       "<table border=\"1\" class=\"dataframe\">\n",
       "  <thead>\n",
       "    <tr style=\"text-align: right;\">\n",
       "      <th></th>\n",
       "      <th>EMDINDSTN1_A</th>\n",
       "      <th>count</th>\n",
       "      <th>percentage</th>\n",
       "    </tr>\n",
       "  </thead>\n",
       "  <tbody>\n",
       "    <tr>\n",
       "      <th>0</th>\n",
       "      <td>1</td>\n",
       "      <td>395</td>\n",
       "      <td>0.712521</td>\n",
       "    </tr>\n",
       "    <tr>\n",
       "      <th>1</th>\n",
       "      <td>2</td>\n",
       "      <td>229</td>\n",
       "      <td>0.413082</td>\n",
       "    </tr>\n",
       "    <tr>\n",
       "      <th>2</th>\n",
       "      <td>3</td>\n",
       "      <td>52</td>\n",
       "      <td>0.093800</td>\n",
       "    </tr>\n",
       "    <tr>\n",
       "      <th>3</th>\n",
       "      <td>4</td>\n",
       "      <td>19</td>\n",
       "      <td>0.034273</td>\n",
       "    </tr>\n",
       "    <tr>\n",
       "      <th>4</th>\n",
       "      <td>5</td>\n",
       "      <td>64</td>\n",
       "      <td>0.115446</td>\n",
       "    </tr>\n",
       "    <tr>\n",
       "      <th>5</th>\n",
       "      <td>6</td>\n",
       "      <td>39</td>\n",
       "      <td>0.070350</td>\n",
       "    </tr>\n",
       "    <tr>\n",
       "      <th>6</th>\n",
       "      <td>7</td>\n",
       "      <td>61</td>\n",
       "      <td>0.110035</td>\n",
       "    </tr>\n",
       "    <tr>\n",
       "      <th>7</th>\n",
       "      <td>8</td>\n",
       "      <td>129</td>\n",
       "      <td>0.232697</td>\n",
       "    </tr>\n",
       "    <tr>\n",
       "      <th>8</th>\n",
       "      <td>9</td>\n",
       "      <td>480</td>\n",
       "      <td>0.865848</td>\n",
       "    </tr>\n",
       "    <tr>\n",
       "      <th>9</th>\n",
       "      <td>10</td>\n",
       "      <td>3637</td>\n",
       "      <td>6.560600</td>\n",
       "    </tr>\n",
       "  </tbody>\n",
       "</table>\n",
       "</div>"
      ],
      "text/plain": [
       "   EMDINDSTN1_A  count  percentage\n",
       "0             1    395    0.712521\n",
       "1             2    229    0.413082\n",
       "2             3     52    0.093800\n",
       "3             4     19    0.034273\n",
       "4             5     64    0.115446\n",
       "5             6     39    0.070350\n",
       "6             7     61    0.110035\n",
       "7             8    129    0.232697\n",
       "8             9    480    0.865848\n",
       "9            10   3637    6.560600"
      ]
     },
     "metadata": {},
     "output_type": "display_data"
    },
    {
     "name": "stdout",
     "output_type": "stream",
     "text": [
      "\n",
      "Distribution of EDUCP_A:\n"
     ]
    },
    {
     "data": {
      "text/html": [
       "<div>\n",
       "<style scoped>\n",
       "    .dataframe tbody tr th:only-of-type {\n",
       "        vertical-align: middle;\n",
       "    }\n",
       "\n",
       "    .dataframe tbody tr th {\n",
       "        vertical-align: top;\n",
       "    }\n",
       "\n",
       "    .dataframe thead th {\n",
       "        text-align: right;\n",
       "    }\n",
       "</style>\n",
       "<table border=\"1\" class=\"dataframe\">\n",
       "  <thead>\n",
       "    <tr style=\"text-align: right;\">\n",
       "      <th></th>\n",
       "      <th>EDUCP_A</th>\n",
       "      <th>count</th>\n",
       "      <th>percentage</th>\n",
       "    </tr>\n",
       "  </thead>\n",
       "  <tbody>\n",
       "    <tr>\n",
       "      <th>0</th>\n",
       "      <td>0</td>\n",
       "      <td>152</td>\n",
       "      <td>0.101185</td>\n",
       "    </tr>\n",
       "    <tr>\n",
       "      <th>1</th>\n",
       "      <td>1</td>\n",
       "      <td>10351</td>\n",
       "      <td>6.890561</td>\n",
       "    </tr>\n",
       "    <tr>\n",
       "      <th>2</th>\n",
       "      <td>2</td>\n",
       "      <td>2340</td>\n",
       "      <td>1.557715</td>\n",
       "    </tr>\n",
       "    <tr>\n",
       "      <th>3</th>\n",
       "      <td>3</td>\n",
       "      <td>3412</td>\n",
       "      <td>2.271335</td>\n",
       "    </tr>\n",
       "    <tr>\n",
       "      <th>4</th>\n",
       "      <td>4</td>\n",
       "      <td>34023</td>\n",
       "      <td>22.648782</td>\n",
       "    </tr>\n",
       "    <tr>\n",
       "      <th>5</th>\n",
       "      <td>5</td>\n",
       "      <td>23091</td>\n",
       "      <td>15.371455</td>\n",
       "    </tr>\n",
       "    <tr>\n",
       "      <th>6</th>\n",
       "      <td>6</td>\n",
       "      <td>5830</td>\n",
       "      <td>3.880975</td>\n",
       "    </tr>\n",
       "    <tr>\n",
       "      <th>7</th>\n",
       "      <td>7</td>\n",
       "      <td>13603</td>\n",
       "      <td>9.055385</td>\n",
       "    </tr>\n",
       "    <tr>\n",
       "      <th>8</th>\n",
       "      <td>8</td>\n",
       "      <td>34425</td>\n",
       "      <td>22.916389</td>\n",
       "    </tr>\n",
       "    <tr>\n",
       "      <th>9</th>\n",
       "      <td>9</td>\n",
       "      <td>16548</td>\n",
       "      <td>11.015843</td>\n",
       "    </tr>\n",
       "    <tr>\n",
       "      <th>10</th>\n",
       "      <td>10</td>\n",
       "      <td>4299</td>\n",
       "      <td>2.861803</td>\n",
       "    </tr>\n",
       "    <tr>\n",
       "      <th>11</th>\n",
       "      <td>11</td>\n",
       "      <td>1373</td>\n",
       "      <td>0.913993</td>\n",
       "    </tr>\n",
       "    <tr>\n",
       "      <th>12</th>\n",
       "      <td>97</td>\n",
       "      <td>246</td>\n",
       "      <td>0.163760</td>\n",
       "    </tr>\n",
       "    <tr>\n",
       "      <th>13</th>\n",
       "      <td>99</td>\n",
       "      <td>527</td>\n",
       "      <td>0.350819</td>\n",
       "    </tr>\n",
       "  </tbody>\n",
       "</table>\n",
       "</div>"
      ],
      "text/plain": [
       "    EDUCP_A  count  percentage\n",
       "0         0    152    0.101185\n",
       "1         1  10351    6.890561\n",
       "2         2   2340    1.557715\n",
       "3         3   3412    2.271335\n",
       "4         4  34023   22.648782\n",
       "5         5  23091   15.371455\n",
       "6         6   5830    3.880975\n",
       "7         7  13603    9.055385\n",
       "8         8  34425   22.916389\n",
       "9         9  16548   11.015843\n",
       "10       10   4299    2.861803\n",
       "11       11   1373    0.913993\n",
       "12       97    246    0.163760\n",
       "13       99    527    0.350819"
      ]
     },
     "metadata": {},
     "output_type": "display_data"
    },
    {
     "name": "stdout",
     "output_type": "stream",
     "text": [
      "\n",
      "Top 10 most common values for EDUCP_A:\n"
     ]
    },
    {
     "data": {
      "text/html": [
       "<div>\n",
       "<style scoped>\n",
       "    .dataframe tbody tr th:only-of-type {\n",
       "        vertical-align: middle;\n",
       "    }\n",
       "\n",
       "    .dataframe tbody tr th {\n",
       "        vertical-align: top;\n",
       "    }\n",
       "\n",
       "    .dataframe thead th {\n",
       "        text-align: right;\n",
       "    }\n",
       "</style>\n",
       "<table border=\"1\" class=\"dataframe\">\n",
       "  <thead>\n",
       "    <tr style=\"text-align: right;\">\n",
       "      <th></th>\n",
       "      <th>EDUCP_A</th>\n",
       "      <th>count</th>\n",
       "      <th>percentage</th>\n",
       "    </tr>\n",
       "  </thead>\n",
       "  <tbody>\n",
       "    <tr>\n",
       "      <th>0</th>\n",
       "      <td>0</td>\n",
       "      <td>152</td>\n",
       "      <td>0.101185</td>\n",
       "    </tr>\n",
       "    <tr>\n",
       "      <th>1</th>\n",
       "      <td>1</td>\n",
       "      <td>10351</td>\n",
       "      <td>6.890561</td>\n",
       "    </tr>\n",
       "    <tr>\n",
       "      <th>2</th>\n",
       "      <td>2</td>\n",
       "      <td>2340</td>\n",
       "      <td>1.557715</td>\n",
       "    </tr>\n",
       "    <tr>\n",
       "      <th>3</th>\n",
       "      <td>3</td>\n",
       "      <td>3412</td>\n",
       "      <td>2.271335</td>\n",
       "    </tr>\n",
       "    <tr>\n",
       "      <th>4</th>\n",
       "      <td>4</td>\n",
       "      <td>34023</td>\n",
       "      <td>22.648782</td>\n",
       "    </tr>\n",
       "    <tr>\n",
       "      <th>5</th>\n",
       "      <td>5</td>\n",
       "      <td>23091</td>\n",
       "      <td>15.371455</td>\n",
       "    </tr>\n",
       "    <tr>\n",
       "      <th>6</th>\n",
       "      <td>6</td>\n",
       "      <td>5830</td>\n",
       "      <td>3.880975</td>\n",
       "    </tr>\n",
       "    <tr>\n",
       "      <th>7</th>\n",
       "      <td>7</td>\n",
       "      <td>13603</td>\n",
       "      <td>9.055385</td>\n",
       "    </tr>\n",
       "    <tr>\n",
       "      <th>8</th>\n",
       "      <td>8</td>\n",
       "      <td>34425</td>\n",
       "      <td>22.916389</td>\n",
       "    </tr>\n",
       "    <tr>\n",
       "      <th>9</th>\n",
       "      <td>9</td>\n",
       "      <td>16548</td>\n",
       "      <td>11.015843</td>\n",
       "    </tr>\n",
       "  </tbody>\n",
       "</table>\n",
       "</div>"
      ],
      "text/plain": [
       "   EDUCP_A  count  percentage\n",
       "0        0    152    0.101185\n",
       "1        1  10351    6.890561\n",
       "2        2   2340    1.557715\n",
       "3        3   3412    2.271335\n",
       "4        4  34023   22.648782\n",
       "5        5  23091   15.371455\n",
       "6        6   5830    3.880975\n",
       "7        7  13603    9.055385\n",
       "8        8  34425   22.916389\n",
       "9        9  16548   11.015843"
      ]
     },
     "metadata": {},
     "output_type": "display_data"
    },
    {
     "name": "stdout",
     "output_type": "stream",
     "text": [
      "\n",
      "Distribution of REGION:\n"
     ]
    },
    {
     "data": {
      "text/html": [
       "<div>\n",
       "<style scoped>\n",
       "    .dataframe tbody tr th:only-of-type {\n",
       "        vertical-align: middle;\n",
       "    }\n",
       "\n",
       "    .dataframe tbody tr th {\n",
       "        vertical-align: top;\n",
       "    }\n",
       "\n",
       "    .dataframe thead th {\n",
       "        text-align: right;\n",
       "    }\n",
       "</style>\n",
       "<table border=\"1\" class=\"dataframe\">\n",
       "  <thead>\n",
       "    <tr style=\"text-align: right;\">\n",
       "      <th></th>\n",
       "      <th>REGION</th>\n",
       "      <th>count</th>\n",
       "      <th>percentage</th>\n",
       "    </tr>\n",
       "  </thead>\n",
       "  <tbody>\n",
       "    <tr>\n",
       "      <th>0</th>\n",
       "      <td>1</td>\n",
       "      <td>25024</td>\n",
       "      <td>16.658235</td>\n",
       "    </tr>\n",
       "    <tr>\n",
       "      <th>1</th>\n",
       "      <td>2</td>\n",
       "      <td>33108</td>\n",
       "      <td>22.039675</td>\n",
       "    </tr>\n",
       "    <tr>\n",
       "      <th>2</th>\n",
       "      <td>3</td>\n",
       "      <td>54440</td>\n",
       "      <td>36.240181</td>\n",
       "    </tr>\n",
       "    <tr>\n",
       "      <th>3</th>\n",
       "      <td>4</td>\n",
       "      <td>37648</td>\n",
       "      <td>25.061909</td>\n",
       "    </tr>\n",
       "  </tbody>\n",
       "</table>\n",
       "</div>"
      ],
      "text/plain": [
       "   REGION  count  percentage\n",
       "0       1  25024   16.658235\n",
       "1       2  33108   22.039675\n",
       "2       3  54440   36.240181\n",
       "3       4  37648   25.061909"
      ]
     },
     "metadata": {},
     "output_type": "display_data"
    }
   ],
   "source": [
    "# Get distribution for each categorical variable\n",
    "for var in cat_vars:\n",
    "    df_dist = get_distribution(var)\n",
    "    print(f\"\\nDistribution of {var}:\")\n",
    "    display(df_dist)\n",
    "\n",
    "    # Print value counts for variables with many categories\n",
    "    if df_dist[var].nunique() > 10:\n",
    "        print(f\"\\nTop 10 most common values for {var}:\")\n",
    "        display(df_dist.head(10))"
   ]
  },
  {
   "cell_type": "code",
   "execution_count": 28,
   "id": "a0799892-df43-445d-889b-764df5585e20",
   "metadata": {},
   "outputs": [
    {
     "data": {
      "image/png": "[encoded data removed]",
      "text/plain": [
       "<Figure size 800x600 with 1 Axes>"
      ]
     },
     "metadata": {},
     "output_type": "display_data"
    }
   ],
   "source": [
    "# EVERCOVD_A: Ever had COVID-19\n",
    "covid_dist = get_distribution('EVERCOVD_A')\n",
    "covid_dist['EVERCOVD_A'] = covid_dist['EVERCOVD_A'].map({1: 'Yes', 2: 'No'})\n",
    "plt.figure(figsize=(8, 6))\n",
    "sns.barplot(x='EVERCOVD_A', y='percentage', data=covid_dist)\n",
    "plt.title('Distribution of COVID-19 Cases')\n",
    "plt.xlabel('Ever had COVID-19')\n",
    "plt.ylabel('Percentage')\n",
    "plt.show()"
   ]
  },
  {
   "cell_type": "code",
   "execution_count": 29,
   "id": "5cd29eb5-d5a2-4c21-8494-026566d72445",
   "metadata": {},
   "outputs": [
    {
     "data": {
      "image/png": "[encoded data removed]",
      "text/plain": [
       "<Figure size 800x600 with 1 Axes>"
      ]
     },
     "metadata": {},
     "output_type": "display_data"
    }
   ],
   "source": [
    "# SHTCVD191_A: COVID-19 vaccination\n",
    "vax_dist = get_distribution('SHTCVD191_A')\n",
    "vax_dist['SHTCVD191_A'] = vax_dist['SHTCVD191_A'].map({1: 'Yes', 2: 'No'})\n",
    "plt.figure(figsize=(8, 6))\n",
    "sns.barplot(x='SHTCVD191_A', y='percentage', data=vax_dist)\n",
    "plt.title('Distribution of COVID-19 Vaccination')\n",
    "plt.xlabel('Received COVID-19 Vaccine')\n",
    "plt.ylabel('Percentage')\n",
    "plt.show()"
   ]
  },
  {
   "cell_type": "code",
   "execution_count": 30,
   "id": "694b42c8-b06a-4f39-ba52-f05bed885801",
   "metadata": {},
   "outputs": [
    {
     "data": {
      "image/png": "[encoded data removed]",
      "text/plain": [
       "<Figure size 800x600 with 1 Axes>"
      ]
     },
     "metadata": {},
     "output_type": "display_data"
    }
   ],
   "source": [
    "# HICOV_A: Have health insurance\n",
    "ins_dist = get_distribution('HICOV_A')\n",
    "ins_dist['HICOV_A'] = ins_dist['HICOV_A'].map({1: 'Yes', 2: 'No'})\n",
    "plt.figure(figsize=(8, 6))\n",
    "sns.barplot(x='HICOV_A', y='percentage', data=ins_dist)\n",
    "plt.title('Distribution of Health Insurance Coverage')\n",
    "plt.xlabel('Have Health Insurance')\n",
    "plt.ylabel('Percentage')\n",
    "plt.show()"
   ]
  },
  {
   "cell_type": "code",
   "execution_count": 31,
   "id": "c8bea3c1-9393-48b8-bf59-217c7bff78f4",
   "metadata": {},
   "outputs": [
    {
     "data": {
      "text/html": [
       "<pre style=\"white-space:pre;overflow-x:auto;line-height:normal;font-family:Menlo,'DejaVu Sans Mono',consolas,'Courier New',monospace\"><span style=\"color: #7fbfbf; text-decoration-color: #7fbfbf\">[03/30/25 21:24:27] </span><span style=\"color: #0069ff; text-decoration-color: #0069ff; font-weight: bold\">INFO    </span> Using categorical units to plot a list of strings that are all         <a href=\"file:///opt/conda/lib/python3.11/site-packages/matplotlib/category.py\" target=\"_blank\"><span style=\"color: #7f7f7f; text-decoration-color: #7f7f7f\">category.py</span></a><span style=\"color: #7f7f7f; text-decoration-color: #7f7f7f\">:</span><a href=\"file:///opt/conda/lib/python3.11/site-packages/matplotlib/category.py#224\" target=\"_blank\"><span style=\"color: #7f7f7f; text-decoration-color: #7f7f7f\">224</span></a>\n",
       "<span style=\"color: #7fbfbf; text-decoration-color: #7fbfbf\">                    </span>         parsable as floats or dates. If these strings should be plotted as     <span style=\"color: #7f7f7f; text-decoration-color: #7f7f7f\">               </span>\n",
       "<span style=\"color: #7fbfbf; text-decoration-color: #7fbfbf\">                    </span>         numbers, cast to the appropriate data type before plotting.            <span style=\"color: #7f7f7f; text-decoration-color: #7f7f7f\">               </span>\n",
       "</pre>\n"
      ],
      "text/plain": [
       "\u001b[2;36m[03/30/25 21:24:27]\u001b[0m\u001b[2;36m \u001b[0m\u001b[1;38;2;0;105;255mINFO    \u001b[0m Using categorical units to plot a list of strings that are all         \u001b]8;id=289736;file:///opt/conda/lib/python3.11/site-packages/matplotlib/category.py\u001b\\\u001b[2mcategory.py\u001b[0m\u001b]8;;\u001b\\\u001b[2m:\u001b[0m\u001b]8;id=758070;file:///opt/conda/lib/python3.11/site-packages/matplotlib/category.py#224\u001b\\\u001b[2m224\u001b[0m\u001b]8;;\u001b\\\n",
       "\u001b[2;36m                    \u001b[0m         parsable as floats or dates. If these strings should be plotted as     \u001b[2m               \u001b[0m\n",
       "\u001b[2;36m                    \u001b[0m         numbers, cast to the appropriate data type before plotting.            \u001b[2m               \u001b[0m\n"
      ]
     },
     "metadata": {},
     "output_type": "display_data"
    },
    {
     "data": {
      "text/html": [
       "<pre style=\"white-space:pre;overflow-x:auto;line-height:normal;font-family:Menlo,'DejaVu Sans Mono',consolas,'Courier New',monospace\"><span style=\"color: #7fbfbf; text-decoration-color: #7fbfbf\">                    </span><span style=\"color: #0069ff; text-decoration-color: #0069ff; font-weight: bold\">INFO    </span> Using categorical units to plot a list of strings that are all         <a href=\"file:///opt/conda/lib/python3.11/site-packages/matplotlib/category.py\" target=\"_blank\"><span style=\"color: #7f7f7f; text-decoration-color: #7f7f7f\">category.py</span></a><span style=\"color: #7f7f7f; text-decoration-color: #7f7f7f\">:</span><a href=\"file:///opt/conda/lib/python3.11/site-packages/matplotlib/category.py#224\" target=\"_blank\"><span style=\"color: #7f7f7f; text-decoration-color: #7f7f7f\">224</span></a>\n",
       "<span style=\"color: #7fbfbf; text-decoration-color: #7fbfbf\">                    </span>         parsable as floats or dates. If these strings should be plotted as     <span style=\"color: #7f7f7f; text-decoration-color: #7f7f7f\">               </span>\n",
       "<span style=\"color: #7fbfbf; text-decoration-color: #7fbfbf\">                    </span>         numbers, cast to the appropriate data type before plotting.            <span style=\"color: #7f7f7f; text-decoration-color: #7f7f7f\">               </span>\n",
       "</pre>\n"
      ],
      "text/plain": [
       "\u001b[2;36m                   \u001b[0m\u001b[2;36m \u001b[0m\u001b[1;38;2;0;105;255mINFO    \u001b[0m Using categorical units to plot a list of strings that are all         \u001b]8;id=506278;file:///opt/conda/lib/python3.11/site-packages/matplotlib/category.py\u001b\\\u001b[2mcategory.py\u001b[0m\u001b]8;;\u001b\\\u001b[2m:\u001b[0m\u001b]8;id=695966;file:///opt/conda/lib/python3.11/site-packages/matplotlib/category.py#224\u001b\\\u001b[2m224\u001b[0m\u001b]8;;\u001b\\\n",
       "\u001b[2;36m                    \u001b[0m         parsable as floats or dates. If these strings should be plotted as     \u001b[2m               \u001b[0m\n",
       "\u001b[2;36m                    \u001b[0m         numbers, cast to the appropriate data type before plotting.            \u001b[2m               \u001b[0m\n"
      ]
     },
     "metadata": {},
     "output_type": "display_data"
    },
    {
     "data": {
      "image/png": "[encoded data removed]",
      "text/plain": [
       "<Figure size 1200x600 with 1 Axes>"
      ]
     },
     "metadata": {},
     "output_type": "display_data"
    }
   ],
   "source": [
    "# For EMDINDSTN1_A (industry codes), we might want to show only the top N categories\n",
    "industry_dist = get_distribution('EMDINDSTN1_A')\n",
    "top_industries = industry_dist.nlargest(10, 'count')\n",
    "plt.figure(figsize=(12, 6))\n",
    "sns.barplot(x='EMDINDSTN1_A', y='percentage', data=top_industries)\n",
    "plt.title('Top 10 Industries')\n",
    "plt.xlabel('Industry Code')\n",
    "plt.ylabel('Percentage')\n",
    "plt.xticks(rotation=45, ha='right')\n",
    "plt.tight_layout()\n",
    "plt.show()"
   ]
  },
  {
   "cell_type": "code",
   "execution_count": 32,
   "id": "b6c187f5-71af-484a-b742-ae21a56e3f55",
   "metadata": {},
   "outputs": [
    {
     "data": {
      "image/png": "[encoded data removed]",
      "text/plain": [
       "<Figure size 1200x600 with 1 Axes>"
      ]
     },
     "metadata": {},
     "output_type": "display_data"
    }
   ],
   "source": [
    "# For EDUCP_A (education level), we might want to label the categories\n",
    "edu_dist = get_distribution('EDUCP_A')\n",
    "edu_labels = {\n",
    "    1: 'Less than HS', 2: '12th grade, no diploma', 3: 'GED', 4: 'HS graduate',\n",
    "    5: 'Some college', 6: 'Associate degree', 7: \"Bachelor's degree\", 8: \"Master's degree\",\n",
    "    9: 'Professional degree', 10: 'Doctoral degree'\n",
    "}\n",
    "edu_dist['EDUCP_A'] = edu_dist['EDUCP_A'].map(edu_labels)\n",
    "plt.figure(figsize=(12, 6))\n",
    "sns.barplot(x='EDUCP_A', y='percentage', data=edu_dist)\n",
    "plt.title('Distribution of Education Levels')\n",
    "plt.xlabel('Education Level')\n",
    "plt.ylabel('Percentage')\n",
    "plt.xticks(rotation=45, ha='right')\n",
    "plt.tight_layout()\n",
    "plt.show()"
   ]
  },
  {
   "cell_type": "code",
   "execution_count": 33,
   "id": "2b936d13-e658-4603-b356-0544171a0843",
   "metadata": {},
   "outputs": [
    {
     "data": {
      "image/png": "[encoded data removed]",
      "text/plain": [
       "<Figure size 1000x600 with 1 Axes>"
      ]
     },
     "metadata": {},
     "output_type": "display_data"
    }
   ],
   "source": [
    "# For REGION, we might want to label the categories\n",
    "region_dist = get_distribution('REGION')\n",
    "region_labels = {1: 'Northeast', 2: 'Midwest', 3: 'South', 4: 'West'}\n",
    "region_dist['REGION'] = region_dist['REGION'].map(region_labels)\n",
    "plt.figure(figsize=(10, 6))\n",
    "sns.barplot(x='REGION', y='percentage', data=region_dist)\n",
    "plt.title('Distribution by Region')\n",
    "plt.xlabel('Region')\n",
    "plt.ylabel('Percentage')\n",
    "plt.show()"
   ]
  },
  {
   "cell_type": "code",
   "execution_count": 24,
   "id": "f4a751d1-c983-4a3f-876e-4af314b989e3",
   "metadata": {},
   "outputs": [
    {
     "name": "stdout",
     "output_type": "stream",
     "text": [
      "Trends Over Time:\n"
     ]
    },
    {
     "data": {
      "text/html": [
       "<div>\n",
       "<style scoped>\n",
       "    .dataframe tbody tr th:only-of-type {\n",
       "        vertical-align: middle;\n",
       "    }\n",
       "\n",
       "    .dataframe tbody tr th {\n",
       "        vertical-align: top;\n",
       "    }\n",
       "\n",
       "    .dataframe thead th {\n",
       "        text-align: right;\n",
       "    }\n",
       "</style>\n",
       "<table border=\"1\" class=\"dataframe\">\n",
       "  <thead>\n",
       "    <tr style=\"text-align: right;\">\n",
       "      <th></th>\n",
       "      <th>SRVY_YR</th>\n",
       "      <th>avg_age</th>\n",
       "      <th>percent_insured</th>\n",
       "    </tr>\n",
       "  </thead>\n",
       "  <tbody>\n",
       "    <tr>\n",
       "      <th>0</th>\n",
       "      <td>2019</td>\n",
       "      <td>52.120136</td>\n",
       "      <td>92.680564</td>\n",
       "    </tr>\n",
       "    <tr>\n",
       "      <th>1</th>\n",
       "      <td>2020</td>\n",
       "      <td>53.605265</td>\n",
       "      <td>93.601115</td>\n",
       "    </tr>\n",
       "    <tr>\n",
       "      <th>2</th>\n",
       "      <td>2021</td>\n",
       "      <td>52.626959</td>\n",
       "      <td>93.216200</td>\n",
       "    </tr>\n",
       "    <tr>\n",
       "      <th>3</th>\n",
       "      <td>2022</td>\n",
       "      <td>53.050920</td>\n",
       "      <td>93.280532</td>\n",
       "    </tr>\n",
       "    <tr>\n",
       "      <th>4</th>\n",
       "      <td>2023</td>\n",
       "      <td>53.267868</td>\n",
       "      <td>93.767360</td>\n",
       "    </tr>\n",
       "  </tbody>\n",
       "</table>\n",
       "</div>"
      ],
      "text/plain": [
       "   SRVY_YR    avg_age  percent_insured\n",
       "0     2019  52.120136        92.680564\n",
       "1     2020  53.605265        93.601115\n",
       "2     2021  52.626959        93.216200\n",
       "3     2022  53.050920        93.280532\n",
       "4     2023  53.267868        93.767360"
      ]
     },
     "metadata": {},
     "output_type": "display_data"
    }
   ],
   "source": [
    "# 5.4 Time Series Analysis\n",
    "time_series_query = f\"\"\"\n",
    "SELECT \n",
    "    SRVY_YR,\n",
    "    AVG(AGEP_A) as avg_age,\n",
    "    SUM(CASE WHEN HICOV_A = 1 THEN 1 ELSE 0 END) * 100.0 / COUNT(*) as percent_insured\n",
    "FROM {database_name}.{table_name}\n",
    "GROUP BY SRVY_YR\n",
    "ORDER BY SRVY_YR\n",
    "\"\"\"\n",
    "\n",
    "df_time_series = pd.read_sql(time_series_query, conn)\n",
    "print(\"Trends Over Time:\")\n",
    "display(df_time_series)"
   ]
  },
  {
   "cell_type": "code",
   "execution_count": 25,
   "id": "a8550748-8beb-465c-bb9b-6a9f3d82ceba",
   "metadata": {},
   "outputs": [
    {
     "data": {
      "image/png": "[encoded data removed]",
      "text/plain": [
       "<Figure size 1200x600 with 1 Axes>"
      ]
     },
     "metadata": {},
     "output_type": "display_data"
    }
   ],
   "source": [
    "# Visualization for time series\n",
    "plt.figure(figsize=(12, 6))\n",
    "plt.plot(df_time_series['SRVY_YR'], df_time_series['percent_insured'], marker='o')\n",
    "plt.title('Percentage of Insured Over Time')\n",
    "plt.xlabel('Year')\n",
    "plt.ylabel('Percentage Insured')\n",
    "plt.show()"
   ]
  },
  {
   "cell_type": "code",
   "execution_count": 26,
   "id": "491b7f63-a1aa-49de-9a91-605131e8c1be",
   "metadata": {},
   "outputs": [
    {
     "data": {
      "image/png": "[encoded data removed]",
      "text/plain": [
       "<Figure size 800x600 with 1 Axes>"
      ]
     },
     "metadata": {},
     "output_type": "display_data"
    },
    {
     "name": "stdout",
     "output_type": "stream",
     "text": [
      "Correlation coefficient: 0.017678029093234175\n"
     ]
    }
   ],
   "source": [
    "# 5.5 Correlation Analysis\n",
    "correlation_query = f\"\"\"\n",
    "SELECT AGEP_A, EMPDYSMSS3_A\n",
    "FROM {database_name}.{table_name}\n",
    "WHERE AGEP_A IS NOT NULL AND EMPDYSMSS3_A IS NOT NULL\n",
    "LIMIT 10000\n",
    "\"\"\"\n",
    "\n",
    "df_corr = pd.read_sql(correlation_query, conn)\n",
    "\n",
    "plt.figure(figsize=(8, 6))\n",
    "sns.scatterplot(x='AGEP_A', y='EMPDYSMSS3_A', data=df_corr)\n",
    "plt.title('Age vs Days Missed Work')\n",
    "plt.xlabel('Age')\n",
    "plt.ylabel('Days Missed Work')\n",
    "plt.show()\n",
    "print(\"Correlation coefficient:\", df_corr['AGEP_A'].corr(df_corr['EMPDYSMSS3_A']))"
   ]
  },
  {
   "cell_type": "code",
   "execution_count": 27,
   "id": "1c8e8a51-2849-410f-ac2d-e25d2ee10a59",
   "metadata": {},
   "outputs": [
    {
     "name": "stdout",
     "output_type": "stream",
     "text": [
      "Statistics by Region:\n"
     ]
    },
    {
     "data": {
      "text/html": [
       "<div>\n",
       "<style scoped>\n",
       "    .dataframe tbody tr th:only-of-type {\n",
       "        vertical-align: middle;\n",
       "    }\n",
       "\n",
       "    .dataframe tbody tr th {\n",
       "        vertical-align: top;\n",
       "    }\n",
       "\n",
       "    .dataframe thead th {\n",
       "        text-align: right;\n",
       "    }\n",
       "</style>\n",
       "<table border=\"1\" class=\"dataframe\">\n",
       "  <thead>\n",
       "    <tr style=\"text-align: right;\">\n",
       "      <th></th>\n",
       "      <th>REGION</th>\n",
       "      <th>avg_age</th>\n",
       "      <th>avg_days_missed</th>\n",
       "      <th>percent_insured</th>\n",
       "    </tr>\n",
       "  </thead>\n",
       "  <tbody>\n",
       "    <tr>\n",
       "      <th>0</th>\n",
       "      <td>1</td>\n",
       "      <td>53.918039</td>\n",
       "      <td>20.164938</td>\n",
       "      <td>96.215633</td>\n",
       "    </tr>\n",
       "    <tr>\n",
       "      <th>1</th>\n",
       "      <td>2</td>\n",
       "      <td>53.310710</td>\n",
       "      <td>12.383864</td>\n",
       "      <td>94.723330</td>\n",
       "    </tr>\n",
       "    <tr>\n",
       "      <th>2</th>\n",
       "      <td>3</td>\n",
       "      <td>52.989916</td>\n",
       "      <td>13.578828</td>\n",
       "      <td>90.503306</td>\n",
       "    </tr>\n",
       "    <tr>\n",
       "      <th>3</th>\n",
       "      <td>4</td>\n",
       "      <td>51.846180</td>\n",
       "      <td>13.333151</td>\n",
       "      <td>94.167021</td>\n",
       "    </tr>\n",
       "  </tbody>\n",
       "</table>\n",
       "</div>"
      ],
      "text/plain": [
       "   REGION    avg_age  avg_days_missed  percent_insured\n",
       "0       1  53.918039        20.164938        96.215633\n",
       "1       2  53.310710        12.383864        94.723330\n",
       "2       3  52.989916        13.578828        90.503306\n",
       "3       4  51.846180        13.333151        94.167021"
      ]
     },
     "metadata": {},
     "output_type": "display_data"
    }
   ],
   "source": [
    "# 5.6 Summary Statistics by Group\n",
    "group_stats_query = f\"\"\"\n",
    "SELECT \n",
    "    REGION,\n",
    "    AVG(AGEP_A) as avg_age,\n",
    "    AVG(EMPDYSMSS3_A) as avg_days_missed,\n",
    "    SUM(CASE WHEN HICOV_A = 1 THEN 1 ELSE 0 END) * 100.0 / COUNT(*) as percent_insured\n",
    "FROM {database_name}.{table_name}\n",
    "GROUP BY REGION\n",
    "ORDER BY REGION\n",
    "\"\"\"\n",
    "\n",
    "df_group_stats = pd.read_sql(group_stats_query, conn)\n",
    "print(\"Statistics by Region:\")\n",
    "display(df_group_stats)"
   ]
  },
  {
   "cell_type": "code",
   "execution_count": 28,
   "id": "fcd918e4-a8ba-4060-924c-db424ff95d91",
   "metadata": {},
   "outputs": [
    {
     "data": {
      "text/html": [
       "<pre style=\"white-space:pre;overflow-x:auto;line-height:normal;font-family:Menlo,'DejaVu Sans Mono',consolas,'Courier New',monospace\"><span style=\"color: #7fbfbf; text-decoration-color: #7fbfbf\">[03/30/25 21:02:28] </span><span style=\"color: #0069ff; text-decoration-color: #0069ff; font-weight: bold\">INFO    </span> Using categorical units to plot a list of strings that are all         <a href=\"file:///opt/conda/lib/python3.11/site-packages/matplotlib/category.py\" target=\"_blank\"><span style=\"color: #7f7f7f; text-decoration-color: #7f7f7f\">category.py</span></a><span style=\"color: #7f7f7f; text-decoration-color: #7f7f7f\">:</span><a href=\"file:///opt/conda/lib/python3.11/site-packages/matplotlib/category.py#224\" target=\"_blank\"><span style=\"color: #7f7f7f; text-decoration-color: #7f7f7f\">224</span></a>\n",
       "<span style=\"color: #7fbfbf; text-decoration-color: #7fbfbf\">                    </span>         parsable as floats or dates. If these strings should be plotted as     <span style=\"color: #7f7f7f; text-decoration-color: #7f7f7f\">               </span>\n",
       "<span style=\"color: #7fbfbf; text-decoration-color: #7fbfbf\">                    </span>         numbers, cast to the appropriate data type before plotting.            <span style=\"color: #7f7f7f; text-decoration-color: #7f7f7f\">               </span>\n",
       "</pre>\n"
      ],
      "text/plain": [
       "\u001b[2;36m[03/30/25 21:02:28]\u001b[0m\u001b[2;36m \u001b[0m\u001b[1;38;2;0;105;255mINFO    \u001b[0m Using categorical units to plot a list of strings that are all         \u001b]8;id=767615;file:///opt/conda/lib/python3.11/site-packages/matplotlib/category.py\u001b\\\u001b[2mcategory.py\u001b[0m\u001b]8;;\u001b\\\u001b[2m:\u001b[0m\u001b]8;id=73730;file:///opt/conda/lib/python3.11/site-packages/matplotlib/category.py#224\u001b\\\u001b[2m224\u001b[0m\u001b]8;;\u001b\\\n",
       "\u001b[2;36m                    \u001b[0m         parsable as floats or dates. If these strings should be plotted as     \u001b[2m               \u001b[0m\n",
       "\u001b[2;36m                    \u001b[0m         numbers, cast to the appropriate data type before plotting.            \u001b[2m               \u001b[0m\n"
      ]
     },
     "metadata": {},
     "output_type": "display_data"
    },
    {
     "data": {
      "text/html": [
       "<pre style=\"white-space:pre;overflow-x:auto;line-height:normal;font-family:Menlo,'DejaVu Sans Mono',consolas,'Courier New',monospace\"><span style=\"color: #7fbfbf; text-decoration-color: #7fbfbf\">                    </span><span style=\"color: #0069ff; text-decoration-color: #0069ff; font-weight: bold\">INFO    </span> Using categorical units to plot a list of strings that are all         <a href=\"file:///opt/conda/lib/python3.11/site-packages/matplotlib/category.py\" target=\"_blank\"><span style=\"color: #7f7f7f; text-decoration-color: #7f7f7f\">category.py</span></a><span style=\"color: #7f7f7f; text-decoration-color: #7f7f7f\">:</span><a href=\"file:///opt/conda/lib/python3.11/site-packages/matplotlib/category.py#224\" target=\"_blank\"><span style=\"color: #7f7f7f; text-decoration-color: #7f7f7f\">224</span></a>\n",
       "<span style=\"color: #7fbfbf; text-decoration-color: #7fbfbf\">                    </span>         parsable as floats or dates. If these strings should be plotted as     <span style=\"color: #7f7f7f; text-decoration-color: #7f7f7f\">               </span>\n",
       "<span style=\"color: #7fbfbf; text-decoration-color: #7fbfbf\">                    </span>         numbers, cast to the appropriate data type before plotting.            <span style=\"color: #7f7f7f; text-decoration-color: #7f7f7f\">               </span>\n",
       "</pre>\n"
      ],
      "text/plain": [
       "\u001b[2;36m                   \u001b[0m\u001b[2;36m \u001b[0m\u001b[1;38;2;0;105;255mINFO    \u001b[0m Using categorical units to plot a list of strings that are all         \u001b]8;id=129105;file:///opt/conda/lib/python3.11/site-packages/matplotlib/category.py\u001b\\\u001b[2mcategory.py\u001b[0m\u001b]8;;\u001b\\\u001b[2m:\u001b[0m\u001b]8;id=801063;file:///opt/conda/lib/python3.11/site-packages/matplotlib/category.py#224\u001b\\\u001b[2m224\u001b[0m\u001b]8;;\u001b\\\n",
       "\u001b[2;36m                    \u001b[0m         parsable as floats or dates. If these strings should be plotted as     \u001b[2m               \u001b[0m\n",
       "\u001b[2;36m                    \u001b[0m         numbers, cast to the appropriate data type before plotting.            \u001b[2m               \u001b[0m\n"
      ]
     },
     "metadata": {},
     "output_type": "display_data"
    },
    {
     "data": {
      "image/png": "[encoded data removed]",
      "text/plain": [
       "<Figure size 1200x600 with 1 Axes>"
      ]
     },
     "metadata": {},
     "output_type": "display_data"
    }
   ],
   "source": [
    "# Visualization for group statistics\n",
    "plt.figure(figsize=(12, 6))\n",
    "sns.barplot(x='REGION', y='percent_insured', data=df_group_stats)\n",
    "plt.title('Percentage of Insured by Region')\n",
    "plt.xlabel('Region')\n",
    "plt.ylabel('Percentage Insured')\n",
    "plt.show()"
   ]
  },
  {
   "cell_type": "markdown",
   "id": "b627cd4c-c54e-4d2b-aaf7-20c2f52b4aff",
   "metadata": {
    "editable": true,
    "slideshow": {
     "slide_type": ""
    },
    "tags": []
   },
   "source": [
    "# SECTION 7: Set Up Supporting Tables - Industry Codes"
   ]
  },
  {
   "cell_type": "code",
   "execution_count": 29,
   "id": "e130369b-d3eb-4017-bdef-8eedd26c0552",
   "metadata": {
    "editable": true,
    "slideshow": {
     "slide_type": ""
    },
    "tags": []
   },
   "outputs": [],
   "source": [
    "# Define the S3 bucket and paths\n",
    "bucket_name = \"usd-team1-ads508\"\n",
    "source_key = \"industry_code_mapping.csv\"\n",
    "destination_prefix = \"industry_code_mapping/\"\n",
    "destination_key = f\"{destination_prefix}{source_key}\""
   ]
  },
  {
   "cell_type": "code",
   "execution_count": 30,
   "id": "b665fa2a-5275-432e-818c-df7b56fcd3c2",
   "metadata": {
    "editable": true,
    "slideshow": {
     "slide_type": ""
    },
    "tags": []
   },
   "outputs": [
    {
     "name": "stdout",
     "output_type": "stream",
     "text": [
      "File copied to s3://usd-team1-ads508/industry_code_mapping/industry_code_mapping.csv\n"
     ]
    }
   ],
   "source": [
    "# Copy the file to the new directory\n",
    "s3_client.copy_object(\n",
    "    Bucket=bucket_name,\n",
    "    CopySource={'Bucket': bucket_name, 'Key': source_key},\n",
    "    Key=destination_key\n",
    ")\n",
    "print(f\"File copied to s3://{bucket_name}/{destination_key}\")"
   ]
  },
  {
   "cell_type": "code",
   "execution_count": 31,
   "id": "46a2a0f0-c6fc-4b8e-a6ad-b5e366d240f9",
   "metadata": {
    "editable": true,
    "slideshow": {
     "slide_type": ""
    },
    "tags": []
   },
   "outputs": [],
   "source": [
    "# Now create the Athena table\n",
    "database_name = \"db_508\"\n",
    "table_name = \"industry_code_mapping\"\n",
    "s3_data_path = f\"s3://{bucket_name}/{destination_prefix}\""
   ]
  },
  {
   "cell_type": "code",
   "execution_count": 32,
   "id": "0a9a7408-85b2-4069-88da-da9e1e1fb3a3",
   "metadata": {
    "editable": true,
    "slideshow": {
     "slide_type": ""
    },
    "tags": []
   },
   "outputs": [
    {
     "data": {
      "text/html": [
       "<div>\n",
       "<style scoped>\n",
       "    .dataframe tbody tr th:only-of-type {\n",
       "        vertical-align: middle;\n",
       "    }\n",
       "\n",
       "    .dataframe tbody tr th {\n",
       "        vertical-align: top;\n",
       "    }\n",
       "\n",
       "    .dataframe thead th {\n",
       "        text-align: right;\n",
       "    }\n",
       "</style>\n",
       "<table border=\"1\" class=\"dataframe\">\n",
       "  <thead>\n",
       "    <tr style=\"text-align: right;\">\n",
       "      <th></th>\n",
       "    </tr>\n",
       "  </thead>\n",
       "  <tbody>\n",
       "  </tbody>\n",
       "</table>\n",
       "</div>"
      ],
      "text/plain": [
       "Empty DataFrame\n",
       "Columns: []\n",
       "Index: []"
      ]
     },
     "execution_count": 32,
     "metadata": {},
     "output_type": "execute_result"
    }
   ],
   "source": [
    "# Drop the table if it exists to recreate it\n",
    "drop_table_statement = f\"DROP TABLE IF EXISTS {database_name}.{table_name}\"\n",
    "pd.read_sql(drop_table_statement, conn)"
   ]
  },
  {
   "cell_type": "code",
   "execution_count": 33,
   "id": "b7339628-050c-4dd6-9d2d-7f5557d0c874",
   "metadata": {
    "editable": true,
    "slideshow": {
     "slide_type": ""
    },
    "tags": []
   },
   "outputs": [
    {
     "name": "stdout",
     "output_type": "stream",
     "text": [
      "Create Table Statement:\n",
      "\n",
      "CREATE EXTERNAL TABLE IF NOT EXISTS db_508.industry_code_mapping (\n",
      "    EMDINDSTN1_A INT,\n",
      "    industry_year_code BIGINT\n",
      ")\n",
      "ROW FORMAT DELIMITED\n",
      "FIELDS TERMINATED BY ','\n",
      "LINES TERMINATED BY '\\n'\n",
      "LOCATION 's3://[REDACTED_BUCKET]/industry_code_mapping/'\n",
      "TBLPROPERTIES ('skip.header.line.count'='1')\n",
      "\n"
     ]
    }
   ],
   "source": [
    "# Create the table - Change industry_year_code to BIGINT to match Industry_code in industry_year_avg\n",
    "create_table_statement = f\"\"\"\n",
    "CREATE EXTERNAL TABLE IF NOT EXISTS {database_name}.{table_name} (\n",
    "    EMDINDSTN1_A INT,\n",
    "    industry_year_code BIGINT\n",
    ")\n",
    "ROW FORMAT DELIMITED\n",
    "FIELDS TERMINATED BY ','\n",
    "LINES TERMINATED BY '\\\\n'\n",
    "LOCATION '{s3_data_path}'\n",
    "TBLPROPERTIES ('skip.header.line.count'='1')\n",
    "\"\"\"\n",
    "\n",
    "# Print the create table statement (with sensitive information redacted)\n",
    "print_statement = create_table_statement.replace(s3_data_path, \"s3://[REDACTED_BUCKET]/industry_code_mapping/\")\n",
    "print(\"Create Table Statement:\")\n",
    "print(print_statement)"
   ]
  },
  {
   "cell_type": "code",
   "execution_count": 34,
   "id": "71749d24-9ee9-4cb6-8d08-874c9edeea14",
   "metadata": {
    "editable": true,
    "slideshow": {
     "slide_type": ""
    },
    "tags": []
   },
   "outputs": [
    {
     "name": "stdout",
     "output_type": "stream",
     "text": [
      "\n",
      "Tables in the database:\n",
      "                      tab_name\n",
      "0       county_health_rankings\n",
      "1        industry_code_mapping\n",
      "2            industry_year_avg\n",
      "3                 nhis_dataset\n",
      "4  nhis_dataset_with_estimates\n"
     ]
    }
   ],
   "source": [
    "# Execute the create table statement\n",
    "pd.read_sql(create_table_statement, conn)\n",
    "\n",
    "# Verify table creation\n",
    "show_tables_statement = f\"SHOW TABLES in {database_name}\"\n",
    "df_show = pd.read_sql(show_tables_statement, conn)\n",
    "print(\"\\nTables in the database:\")\n",
    "print(df_show)"
   ]
  },
  {
   "cell_type": "code",
   "execution_count": 35,
   "id": "4af777c3-7792-4ed5-89f0-ad0a599c7e4b",
   "metadata": {
    "editable": true,
    "slideshow": {
     "slide_type": ""
    },
    "tags": []
   },
   "outputs": [
    {
     "name": "stdout",
     "output_type": "stream",
     "text": [
      "\n",
      "Table 'industry_code_mapping' creation successful: True\n"
     ]
    }
   ],
   "source": [
    "# Check if the table was created successfully\n",
    "table_created = table_name in df_show['tab_name'].values\n",
    "print(f\"\\nTable '{table_name}' creation successful: {table_created}\")"
   ]
  },
  {
   "cell_type": "code",
   "execution_count": 36,
   "id": "7f448f70-dc39-4204-968e-2a84c5bc18e7",
   "metadata": {
    "editable": true,
    "slideshow": {
     "slide_type": ""
    },
    "tags": []
   },
   "outputs": [
    {
     "name": "stdout",
     "output_type": "stream",
     "text": [
      "\n",
      "Sample data from the table:\n"
     ]
    },
    {
     "data": {
      "text/html": [
       "<div>\n",
       "<style scoped>\n",
       "    .dataframe tbody tr th:only-of-type {\n",
       "        vertical-align: middle;\n",
       "    }\n",
       "\n",
       "    .dataframe tbody tr th {\n",
       "        vertical-align: top;\n",
       "    }\n",
       "\n",
       "    .dataframe thead th {\n",
       "        text-align: right;\n",
       "    }\n",
       "</style>\n",
       "<table border=\"1\" class=\"dataframe\">\n",
       "  <thead>\n",
       "    <tr style=\"text-align: right;\">\n",
       "      <th></th>\n",
       "      <th>emdindstn1_a</th>\n",
       "      <th>industry_year_code</th>\n",
       "    </tr>\n",
       "  </thead>\n",
       "  <tbody>\n",
       "    <tr>\n",
       "      <th>0</th>\n",
       "      <td>0</td>\n",
       "      <td>0</td>\n",
       "    </tr>\n",
       "    <tr>\n",
       "      <th>1</th>\n",
       "      <td>1</td>\n",
       "      <td>110000</td>\n",
       "    </tr>\n",
       "    <tr>\n",
       "      <th>2</th>\n",
       "      <td>2</td>\n",
       "      <td>110000</td>\n",
       "    </tr>\n",
       "    <tr>\n",
       "      <th>3</th>\n",
       "      <td>3</td>\n",
       "      <td>110000</td>\n",
       "    </tr>\n",
       "    <tr>\n",
       "      <th>4</th>\n",
       "      <td>4</td>\n",
       "      <td>110000</td>\n",
       "    </tr>\n",
       "    <tr>\n",
       "      <th>5</th>\n",
       "      <td>5</td>\n",
       "      <td>110000</td>\n",
       "    </tr>\n",
       "    <tr>\n",
       "      <th>6</th>\n",
       "      <td>6</td>\n",
       "      <td>210000</td>\n",
       "    </tr>\n",
       "    <tr>\n",
       "      <th>7</th>\n",
       "      <td>7</td>\n",
       "      <td>210000</td>\n",
       "    </tr>\n",
       "    <tr>\n",
       "      <th>8</th>\n",
       "      <td>8</td>\n",
       "      <td>210000</td>\n",
       "    </tr>\n",
       "    <tr>\n",
       "      <th>9</th>\n",
       "      <td>9</td>\n",
       "      <td>220000</td>\n",
       "    </tr>\n",
       "  </tbody>\n",
       "</table>\n",
       "</div>"
      ],
      "text/plain": [
       "   emdindstn1_a  industry_year_code\n",
       "0             0                   0\n",
       "1             1              110000\n",
       "2             2              110000\n",
       "3             3              110000\n",
       "4             4              110000\n",
       "5             5              110000\n",
       "6             6              210000\n",
       "7             7              210000\n",
       "8             8              210000\n",
       "9             9              220000"
      ]
     },
     "metadata": {},
     "output_type": "display_data"
    }
   ],
   "source": [
    "# If the table was created successfully, show a sample of the data\n",
    "if table_created:\n",
    "    sample_query = f\"\"\"\n",
    "    SELECT *\n",
    "    FROM {database_name}.{table_name}\n",
    "    LIMIT 10\n",
    "    \"\"\"\n",
    "    print(\"\\nSample data from the table:\")\n",
    "    df_sample = pd.read_sql(sample_query, conn)\n",
    "    display(df_sample)"
   ]
  },
  {
   "cell_type": "markdown",
   "id": "13d88981-182a-4196-bf2c-f53d3a749239",
   "metadata": {
    "editable": true,
    "slideshow": {
     "slide_type": ""
    },
    "tags": []
   },
   "source": [
    "# SECTION 8: Industry Year Average Table"
   ]
  },
  {
   "cell_type": "code",
   "execution_count": 37,
   "id": "8b5a56e4-7983-48a3-9f48-cffb8c865957",
   "metadata": {
    "editable": true,
    "slideshow": {
     "slide_type": ""
    },
    "tags": []
   },
   "outputs": [],
   "source": [
    "# Define the S3 bucket and paths\n",
    "bucket_name = \"usd-team1-ads508\"\n",
    "source_key = \"industry_year_avg.csv\"\n",
    "destination_prefix = \"industry_year_avg/\"\n",
    "destination_key = f\"{destination_prefix}{source_key}\""
   ]
  },
  {
   "cell_type": "code",
   "execution_count": 38,
   "id": "371c9250-d247-4488-8943-57e911564b5d",
   "metadata": {
    "editable": true,
    "slideshow": {
     "slide_type": ""
    },
    "tags": []
   },
   "outputs": [
    {
     "name": "stdout",
     "output_type": "stream",
     "text": [
      "File copied to s3://usd-team1-ads508/industry_year_avg/industry_year_avg.csv\n"
     ]
    }
   ],
   "source": [
    "# Copy the file to the new directory\n",
    "s3_client.copy_object(\n",
    "    Bucket=bucket_name,\n",
    "    CopySource={'Bucket': bucket_name, 'Key': source_key},\n",
    "    Key=destination_key\n",
    ")\n",
    "print(f\"File copied to s3://{bucket_name}/{destination_key}\")"
   ]
  },
  {
   "cell_type": "code",
   "execution_count": 39,
   "id": "e6966d5b-2506-4c46-83cb-6a874465eff8",
   "metadata": {
    "editable": true,
    "slideshow": {
     "slide_type": ""
    },
    "tags": []
   },
   "outputs": [],
   "source": [
    "# Now create the Athena table\n",
    "database_name = \"db_508\"\n",
    "table_name = \"industry_year_avg\"\n",
    "s3_data_path = f\"s3://{bucket_name}/{destination_prefix}\""
   ]
  },
  {
   "cell_type": "code",
   "execution_count": 40,
   "id": "d81a8cb4-bac2-4f1f-807a-49397a90794f",
   "metadata": {
    "editable": true,
    "slideshow": {
     "slide_type": ""
    },
    "tags": []
   },
   "outputs": [
    {
     "data": {
      "text/html": [
       "<div>\n",
       "<style scoped>\n",
       "    .dataframe tbody tr th:only-of-type {\n",
       "        vertical-align: middle;\n",
       "    }\n",
       "\n",
       "    .dataframe tbody tr th {\n",
       "        vertical-align: top;\n",
       "    }\n",
       "\n",
       "    .dataframe thead th {\n",
       "        text-align: right;\n",
       "    }\n",
       "</style>\n",
       "<table border=\"1\" class=\"dataframe\">\n",
       "  <thead>\n",
       "    <tr style=\"text-align: right;\">\n",
       "      <th></th>\n",
       "    </tr>\n",
       "  </thead>\n",
       "  <tbody>\n",
       "  </tbody>\n",
       "</table>\n",
       "</div>"
      ],
      "text/plain": [
       "Empty DataFrame\n",
       "Columns: []\n",
       "Index: []"
      ]
     },
     "execution_count": 40,
     "metadata": {},
     "output_type": "execute_result"
    }
   ],
   "source": [
    "# Drop the table if it exists to recreate it\n",
    "drop_table_statement = f\"DROP TABLE IF EXISTS {database_name}.{table_name}\"\n",
    "pd.read_sql(drop_table_statement, conn)"
   ]
  },
  {
   "cell_type": "code",
   "execution_count": 41,
   "id": "62e95862-e076-4243-ae6b-b9774700bea5",
   "metadata": {
    "editable": true,
    "slideshow": {
     "slide_type": ""
    },
    "tags": []
   },
   "outputs": [
    {
     "name": "stdout",
     "output_type": "stream",
     "text": [
      "Create Table Statement:\n",
      "\n",
      "CREATE EXTERNAL TABLE IF NOT EXISTS db_508.industry_year_avg (\n",
      "    Year INT,\n",
      "    Industry STRING,\n",
      "    Industry_code BIGINT,\n",
      "    Avg_Estimate DOUBLE\n",
      ")\n",
      "ROW FORMAT DELIMITED\n",
      "FIELDS TERMINATED BY ','\n",
      "LINES TERMINATED BY '\\n'\n",
      "LOCATION 's3://[REDACTED_BUCKET]/industry_year_avg/'\n",
      "TBLPROPERTIES ('skip.header.line.count'='1')\n",
      "\n"
     ]
    }
   ],
   "source": [
    "# Create the table - Note that Industry_code is BIGINT, which must match industry_year_code in the mapping table\n",
    "create_table_statement = f\"\"\"\n",
    "CREATE EXTERNAL TABLE IF NOT EXISTS {database_name}.{table_name} (\n",
    "    Year INT,\n",
    "    Industry STRING,\n",
    "    Industry_code BIGINT,\n",
    "    Avg_Estimate DOUBLE\n",
    ")\n",
    "ROW FORMAT DELIMITED\n",
    "FIELDS TERMINATED BY ','\n",
    "LINES TERMINATED BY '\\\\n'\n",
    "LOCATION '{s3_data_path}'\n",
    "TBLPROPERTIES ('skip.header.line.count'='1')\n",
    "\"\"\"\n",
    "\n",
    "# Print the create table statement (with sensitive information redacted)\n",
    "print_statement = create_table_statement.replace(s3_data_path, \"s3://[REDACTED_BUCKET]/industry_year_avg/\")\n",
    "print(\"Create Table Statement:\")\n",
    "print(print_statement)"
   ]
  },
  {
   "cell_type": "code",
   "execution_count": 42,
   "id": "5372954c-7eb6-4dce-bdf7-b8368a8be0ce",
   "metadata": {
    "editable": true,
    "slideshow": {
     "slide_type": ""
    },
    "tags": []
   },
   "outputs": [
    {
     "name": "stdout",
     "output_type": "stream",
     "text": [
      "\n",
      "Tables in the database:\n",
      "                      tab_name\n",
      "0       county_health_rankings\n",
      "1        industry_code_mapping\n",
      "2            industry_year_avg\n",
      "3                 nhis_dataset\n",
      "4  nhis_dataset_with_estimates\n",
      "\n",
      "Table 'industry_year_avg' creation successful: True\n"
     ]
    }
   ],
   "source": [
    "# Execute the create table statement\n",
    "pd.read_sql(create_table_statement, conn)\n",
    "\n",
    "# Verify table creation\n",
    "show_tables_statement = f\"SHOW TABLES in {database_name}\"\n",
    "df_show = pd.read_sql(show_tables_statement, conn)\n",
    "print(\"\\nTables in the database:\")\n",
    "print(df_show)\n",
    "\n",
    "# Check if the table was created successfully\n",
    "table_created = table_name in df_show['tab_name'].values\n",
    "print(f\"\\nTable '{table_name}' creation successful: {table_created}\")"
   ]
  },
  {
   "cell_type": "code",
   "execution_count": 43,
   "id": "9ca390d0-4411-48a0-80d7-5477a0c17c0b",
   "metadata": {
    "editable": true,
    "slideshow": {
     "slide_type": ""
    },
    "tags": []
   },
   "outputs": [
    {
     "name": "stdout",
     "output_type": "stream",
     "text": [
      "\n",
      "Sample data from the table:\n"
     ]
    },
    {
     "data": {
      "text/html": [
       "<div>\n",
       "<style scoped>\n",
       "    .dataframe tbody tr th:only-of-type {\n",
       "        vertical-align: middle;\n",
       "    }\n",
       "\n",
       "    .dataframe tbody tr th {\n",
       "        vertical-align: top;\n",
       "    }\n",
       "\n",
       "    .dataframe thead th {\n",
       "        text-align: right;\n",
       "    }\n",
       "</style>\n",
       "<table border=\"1\" class=\"dataframe\">\n",
       "  <thead>\n",
       "    <tr style=\"text-align: right;\">\n",
       "      <th></th>\n",
       "      <th>year</th>\n",
       "      <th>industry</th>\n",
       "      <th>industry_code</th>\n",
       "      <th>avg_estimate</th>\n",
       "    </tr>\n",
       "  </thead>\n",
       "  <tbody>\n",
       "    <tr>\n",
       "      <th>0</th>\n",
       "      <td>2022</td>\n",
       "      <td>Accommodation and food services</td>\n",
       "      <td>720000.0</td>\n",
       "      <td>35.615385</td>\n",
       "    </tr>\n",
       "    <tr>\n",
       "      <th>1</th>\n",
       "      <td>2022</td>\n",
       "      <td>Administrative and support and waste managemen...</td>\n",
       "      <td>560000.0</td>\n",
       "      <td>65.000000</td>\n",
       "    </tr>\n",
       "    <tr>\n",
       "      <th>2</th>\n",
       "      <td>2022</td>\n",
       "      <td>All industries</td>\n",
       "      <td>0.0</td>\n",
       "      <td>56.784519</td>\n",
       "    </tr>\n",
       "    <tr>\n",
       "      <th>3</th>\n",
       "      <td>2022</td>\n",
       "      <td>Construction</td>\n",
       "      <td>230000.0</td>\n",
       "      <td>42.250000</td>\n",
       "    </tr>\n",
       "    <tr>\n",
       "      <th>4</th>\n",
       "      <td>2022</td>\n",
       "      <td>Credit intermediation</td>\n",
       "      <td>522000.0</td>\n",
       "      <td>34.307692</td>\n",
       "    </tr>\n",
       "    <tr>\n",
       "      <th>5</th>\n",
       "      <td>2022</td>\n",
       "      <td>Education and health services</td>\n",
       "      <td>600000.0</td>\n",
       "      <td>62.694444</td>\n",
       "    </tr>\n",
       "    <tr>\n",
       "      <th>6</th>\n",
       "      <td>2022</td>\n",
       "      <td>Educational services</td>\n",
       "      <td>610000.0</td>\n",
       "      <td>68.151515</td>\n",
       "    </tr>\n",
       "    <tr>\n",
       "      <th>7</th>\n",
       "      <td>2022</td>\n",
       "      <td>Elementary and secondary schools</td>\n",
       "      <td>611100.0</td>\n",
       "      <td>77.571429</td>\n",
       "    </tr>\n",
       "    <tr>\n",
       "      <th>8</th>\n",
       "      <td>2022</td>\n",
       "      <td>Finance and insurance</td>\n",
       "      <td>520000.0</td>\n",
       "      <td>40.923077</td>\n",
       "    </tr>\n",
       "    <tr>\n",
       "      <th>9</th>\n",
       "      <td>2022</td>\n",
       "      <td>Financial activities</td>\n",
       "      <td>NaN</td>\n",
       "      <td>33.230769</td>\n",
       "    </tr>\n",
       "  </tbody>\n",
       "</table>\n",
       "</div>"
      ],
      "text/plain": [
       "   year                                           industry  industry_code  \\\n",
       "0  2022                    Accommodation and food services       720000.0   \n",
       "1  2022  Administrative and support and waste managemen...       560000.0   \n",
       "2  2022                                     All industries            0.0   \n",
       "3  2022                                       Construction       230000.0   \n",
       "4  2022                              Credit intermediation       522000.0   \n",
       "5  2022                      Education and health services       600000.0   \n",
       "6  2022                               Educational services       610000.0   \n",
       "7  2022                   Elementary and secondary schools       611100.0   \n",
       "8  2022                              Finance and insurance       520000.0   \n",
       "9  2022                               Financial activities            NaN   \n",
       "\n",
       "   avg_estimate  \n",
       "0     35.615385  \n",
       "1     65.000000  \n",
       "2     56.784519  \n",
       "3     42.250000  \n",
       "4     34.307692  \n",
       "5     62.694444  \n",
       "6     68.151515  \n",
       "7     77.571429  \n",
       "8     40.923077  \n",
       "9     33.230769  "
      ]
     },
     "metadata": {},
     "output_type": "display_data"
    }
   ],
   "source": [
    "# If the table was created successfully, show a sample of the data\n",
    "if table_created:\n",
    "    sample_query = f\"\"\"\n",
    "    SELECT *\n",
    "    FROM {database_name}.{table_name}\n",
    "    WHERE year = 2022\n",
    "    LIMIT 10\n",
    "    \"\"\"\n",
    "    print(\"\\nSample data from the table:\")\n",
    "    df_sample = pd.read_sql(sample_query, conn)\n",
    "    display(df_sample)"
   ]
  },
  {
   "cell_type": "markdown",
   "id": "19d921d9-ea31-47dc-96af-b0d00e23a906",
   "metadata": {},
   "source": [
    "# SECTION 9: Create County Health Rankings Table"
   ]
  },
  {
   "cell_type": "code",
   "execution_count": 44,
   "id": "661c80f8-ada9-439d-9e6a-b792ffcc7072",
   "metadata": {},
   "outputs": [],
   "source": [
    "# Define the S3 bucket and paths\n",
    "bucket_name = \"usd-team1-ads508\"\n",
    "source_key = \"county_health_rankings.csv\"\n",
    "destination_prefix = \"county_health_rankings/\"\n",
    "destination_key = f\"{destination_prefix}{source_key}\""
   ]
  },
  {
   "cell_type": "code",
   "execution_count": 45,
   "id": "b87734c2-cd50-47b2-9e76-a040cf070039",
   "metadata": {},
   "outputs": [
    {
     "name": "stdout",
     "output_type": "stream",
     "text": [
      "File copied to s3://usd-team1-ads508/county_health_rankings/county_health_rankings.csv\n"
     ]
    }
   ],
   "source": [
    "# Copy the file to a dedicated directory\n",
    "s3_client.copy_object(\n",
    "    Bucket=bucket_name,\n",
    "    CopySource={'Bucket': bucket_name, 'Key': source_key},\n",
    "    Key=destination_key\n",
    ")\n",
    "print(f\"File copied to s3://{bucket_name}/{destination_key}\")"
   ]
  },
  {
   "cell_type": "code",
   "execution_count": 46,
   "id": "f4a33efe-352b-48b7-a4a6-9e70c65d4e49",
   "metadata": {},
   "outputs": [],
   "source": [
    "# Now create the Athena table\n",
    "database_name = \"db_508\"\n",
    "table_name = \"county_health_rankings\"\n",
    "s3_data_path = f\"s3://{bucket_name}/{destination_prefix}\""
   ]
  },
  {
   "cell_type": "code",
   "execution_count": 47,
   "id": "0035516d-5172-4bb9-8d6d-7ace74c16fe4",
   "metadata": {},
   "outputs": [
    {
     "data": {
      "text/html": [
       "<div>\n",
       "<style scoped>\n",
       "    .dataframe tbody tr th:only-of-type {\n",
       "        vertical-align: middle;\n",
       "    }\n",
       "\n",
       "    .dataframe tbody tr th {\n",
       "        vertical-align: top;\n",
       "    }\n",
       "\n",
       "    .dataframe thead th {\n",
       "        text-align: right;\n",
       "    }\n",
       "</style>\n",
       "<table border=\"1\" class=\"dataframe\">\n",
       "  <thead>\n",
       "    <tr style=\"text-align: right;\">\n",
       "      <th></th>\n",
       "    </tr>\n",
       "  </thead>\n",
       "  <tbody>\n",
       "  </tbody>\n",
       "</table>\n",
       "</div>"
      ],
      "text/plain": [
       "Empty DataFrame\n",
       "Columns: []\n",
       "Index: []"
      ]
     },
     "execution_count": 47,
     "metadata": {},
     "output_type": "execute_result"
    }
   ],
   "source": [
    "# Drop the table if it exists to recreate it\n",
    "drop_table_statement = f\"DROP TABLE IF EXISTS {database_name}.{table_name}\"\n",
    "pd.read_sql(drop_table_statement, conn)"
   ]
  },
  {
   "cell_type": "code",
   "execution_count": 48,
   "id": "ce1626f6-031e-4300-b187-1994f931eb67",
   "metadata": {},
   "outputs": [],
   "source": [
    "# Create the table with the provided schema\n",
    "create_table_statement = f\"\"\"\n",
    "CREATE EXTERNAL TABLE IF NOT EXISTS {database_name}.{table_name} (\n",
    "    year INT,\n",
    "    state STRING,\n",
    "    county STRING,\n",
    "    premature_death DOUBLE,\n",
    "    poor_fair_health DOUBLE,\n",
    "    adult_smoking DOUBLE,\n",
    "    obesity_rate DOUBLE,\n",
    "    physical_inactivity DOUBLE,\n",
    "    access_exercise DOUBLE,\n",
    "    flu_vaccination_rate DOUBLE,\n",
    "    mammography_screening DOUBLE,\n",
    "    uninsured_rate DOUBLE,\n",
    "    driving_alone_to_work DOUBLE,\n",
    "    long_commute DOUBLE,\n",
    "    severe_housing_problems DOUBLE,\n",
    "    air_pollution_pmatter DOUBLE,\n",
    "    drinking_water_violations DOUBLE,\n",
    "    children_in_poverty DOUBLE,\n",
    "    income_inequality DOUBLE,\n",
    "    social_associations DOUBLE,\n",
    "    homeownership DOUBLE,\n",
    "    median_household_income DOUBLE,\n",
    "    population INT\n",
    ")\n",
    "ROW FORMAT DELIMITED\n",
    "FIELDS TERMINATED BY ','\n",
    "LINES TERMINATED BY '\\\\n'\n",
    "LOCATION '{s3_data_path}'\n",
    "TBLPROPERTIES ('skip.header.line.count'='1')\n",
    "\"\"\""
   ]
  },
  {
   "cell_type": "code",
   "execution_count": 49,
   "id": "1573987d-40c6-47c3-9a35-80ab9656ee45",
   "metadata": {},
   "outputs": [
    {
     "name": "stdout",
     "output_type": "stream",
     "text": [
      "Create Table Statement:\n",
      "\n",
      "CREATE EXTERNAL TABLE IF NOT EXISTS db_508.county_health_rankings (\n",
      "    year INT,\n",
      "    state STRING,\n",
      "    county STRING,\n",
      "    premature_death DOUBLE,\n",
      "    poor_fair_health DOUBLE,\n",
      "    adult_smoking DOUBLE,\n",
      "    obesity_rate DOUBLE,\n",
      "    physical_inactivity DOUBLE,\n",
      "    access_exercise DOUBLE,\n",
      "    flu_vaccination_rate DOUBLE,\n",
      "    mammography_screening DOUBLE,\n",
      "    uninsured_rate DOUBLE,\n",
      "    driving_alone_to_work DOUBLE,\n",
      "    long_commute DOUBLE,\n",
      "    severe_housing_problems DOUBLE,\n",
      "    air_pollution_pmatter DOUBLE,\n",
      "    drinking_water_violations DOUBLE,\n",
      "    children_in_poverty DOUBLE,\n",
      "    income_inequality DOUBLE,\n",
      "    social_associations DOUBLE,\n",
      "    homeownership DOUBLE,\n",
      "    median_household_income DOUBLE,\n",
      "    population INT\n",
      ")\n",
      "ROW FORMAT DELIMITED\n",
      "FIELDS TERMINATED BY ','\n",
      "LINES TERMINATED BY '\\n'\n",
      "LOCATION 's3://[REDACTED_BUCKET]/county_health_rankings/'\n",
      "TBLPROPERTIES ('skip.header.line.count'='1')\n",
      "\n"
     ]
    }
   ],
   "source": [
    "# Print the create table statement (with sensitive information redacted)\n",
    "print_statement = create_table_statement.replace(s3_data_path, \"s3://[REDACTED_BUCKET]/county_health_rankings/\")\n",
    "print(\"Create Table Statement:\")\n",
    "print(print_statement)"
   ]
  },
  {
   "cell_type": "code",
   "execution_count": 50,
   "id": "05501142-8da3-40a3-8fab-761c9f790055",
   "metadata": {},
   "outputs": [
    {
     "name": "stdout",
     "output_type": "stream",
     "text": [
      "\n",
      "Tables in the database:\n",
      "                      tab_name\n",
      "0       county_health_rankings\n",
      "1        industry_code_mapping\n",
      "2            industry_year_avg\n",
      "3                 nhis_dataset\n",
      "4  nhis_dataset_with_estimates\n",
      "\n",
      "Table 'county_health_rankings' creation successful: True\n"
     ]
    }
   ],
   "source": [
    "# Execute the create table statement\n",
    "pd.read_sql(create_table_statement, conn)\n",
    "\n",
    "# Verify table creation\n",
    "show_tables_statement = f\"SHOW TABLES in {database_name}\"\n",
    "df_show = pd.read_sql(show_tables_statement, conn)\n",
    "print(\"\\nTables in the database:\")\n",
    "print(df_show)\n",
    "\n",
    "# Check if the table was created successfully\n",
    "table_created = table_name in df_show['tab_name'].values\n",
    "print(f\"\\nTable '{table_name}' creation successful: {table_created}\")"
   ]
  },
  {
   "cell_type": "code",
   "execution_count": 51,
   "id": "f4cade87-2e6a-480d-88b3-2ef4031b6484",
   "metadata": {},
   "outputs": [
    {
     "name": "stdout",
     "output_type": "stream",
     "text": [
      "\n",
      "Sample data from the table:\n"
     ]
    },
    {
     "data": {
      "text/html": [
       "<div>\n",
       "<style scoped>\n",
       "    .dataframe tbody tr th:only-of-type {\n",
       "        vertical-align: middle;\n",
       "    }\n",
       "\n",
       "    .dataframe tbody tr th {\n",
       "        vertical-align: top;\n",
       "    }\n",
       "\n",
       "    .dataframe thead th {\n",
       "        text-align: right;\n",
       "    }\n",
       "</style>\n",
       "<table border=\"1\" class=\"dataframe\">\n",
       "  <thead>\n",
       "    <tr style=\"text-align: right;\">\n",
       "      <th></th>\n",
       "      <th>year</th>\n",
       "      <th>state</th>\n",
       "      <th>county</th>\n",
       "      <th>premature_death</th>\n",
       "      <th>poor_fair_health</th>\n",
       "      <th>adult_smoking</th>\n",
       "      <th>obesity_rate</th>\n",
       "      <th>physical_inactivity</th>\n",
       "      <th>access_exercise</th>\n",
       "      <th>flu_vaccination_rate</th>\n",
       "      <th>...</th>\n",
       "      <th>long_commute</th>\n",
       "      <th>severe_housing_problems</th>\n",
       "      <th>air_pollution_pmatter</th>\n",
       "      <th>drinking_water_violations</th>\n",
       "      <th>children_in_poverty</th>\n",
       "      <th>income_inequality</th>\n",
       "      <th>social_associations</th>\n",
       "      <th>homeownership</th>\n",
       "      <th>median_household_income</th>\n",
       "      <th>population</th>\n",
       "    </tr>\n",
       "  </thead>\n",
       "  <tbody>\n",
       "    <tr>\n",
       "      <th>0</th>\n",
       "      <td>2019</td>\n",
       "      <td>US</td>\n",
       "      <td>United States</td>\n",
       "      <td>6900.630354</td>\n",
       "      <td>0.184043</td>\n",
       "      <td>0.193747</td>\n",
       "      <td>0.285</td>\n",
       "      <td>0.222</td>\n",
       "      <td>0.838945</td>\n",
       "      <td>0.426497</td>\n",
       "      <td>...</td>\n",
       "      <td>0.352</td>\n",
       "      <td>0.183731</td>\n",
       "      <td>8.237422</td>\n",
       "      <td>0.365979</td>\n",
       "      <td>0.184</td>\n",
       "      <td>4.941486</td>\n",
       "      <td>9.300353</td>\n",
       "      <td>0.638187</td>\n",
       "      <td>60336.0</td>\n",
       "      <td>325719178</td>\n",
       "    </tr>\n",
       "    <tr>\n",
       "      <th>1</th>\n",
       "      <td>2019</td>\n",
       "      <td>AL</td>\n",
       "      <td>Alabama</td>\n",
       "      <td>9917.232898</td>\n",
       "      <td>0.214024</td>\n",
       "      <td>0.215382</td>\n",
       "      <td>0.351</td>\n",
       "      <td>0.282</td>\n",
       "      <td>0.616496</td>\n",
       "      <td>0.420000</td>\n",
       "      <td>...</td>\n",
       "      <td>0.337</td>\n",
       "      <td>0.149122</td>\n",
       "      <td>11.000000</td>\n",
       "      <td>0.074627</td>\n",
       "      <td>0.244</td>\n",
       "      <td>5.238579</td>\n",
       "      <td>12.242716</td>\n",
       "      <td>0.685744</td>\n",
       "      <td>48193.0</td>\n",
       "      <td>4874747</td>\n",
       "    </tr>\n",
       "    <tr>\n",
       "      <th>2</th>\n",
       "      <td>2019</td>\n",
       "      <td>AL</td>\n",
       "      <td>Autauga County</td>\n",
       "      <td>8824.057123</td>\n",
       "      <td>0.184111</td>\n",
       "      <td>0.191247</td>\n",
       "      <td>0.375</td>\n",
       "      <td>0.311</td>\n",
       "      <td>0.686775</td>\n",
       "      <td>0.410000</td>\n",
       "      <td>...</td>\n",
       "      <td>0.383</td>\n",
       "      <td>0.149546</td>\n",
       "      <td>11.700000</td>\n",
       "      <td>0.000000</td>\n",
       "      <td>0.193</td>\n",
       "      <td>4.636664</td>\n",
       "      <td>12.631731</td>\n",
       "      <td>0.732877</td>\n",
       "      <td>58343.0</td>\n",
       "      <td>55504</td>\n",
       "    </tr>\n",
       "    <tr>\n",
       "      <th>3</th>\n",
       "      <td>2019</td>\n",
       "      <td>AL</td>\n",
       "      <td>Baldwin County</td>\n",
       "      <td>7224.632160</td>\n",
       "      <td>0.180605</td>\n",
       "      <td>0.167955</td>\n",
       "      <td>0.310</td>\n",
       "      <td>0.238</td>\n",
       "      <td>0.719710</td>\n",
       "      <td>0.450000</td>\n",
       "      <td>...</td>\n",
       "      <td>0.405</td>\n",
       "      <td>0.138317</td>\n",
       "      <td>10.300000</td>\n",
       "      <td>1.000000</td>\n",
       "      <td>0.147</td>\n",
       "      <td>4.518560</td>\n",
       "      <td>10.692213</td>\n",
       "      <td>0.728593</td>\n",
       "      <td>56607.0</td>\n",
       "      <td>212628</td>\n",
       "    </tr>\n",
       "    <tr>\n",
       "      <th>4</th>\n",
       "      <td>2019</td>\n",
       "      <td>AL</td>\n",
       "      <td>Barbour County</td>\n",
       "      <td>9586.165037</td>\n",
       "      <td>0.257734</td>\n",
       "      <td>0.215409</td>\n",
       "      <td>0.443</td>\n",
       "      <td>0.282</td>\n",
       "      <td>0.536257</td>\n",
       "      <td>0.370000</td>\n",
       "      <td>...</td>\n",
       "      <td>0.338</td>\n",
       "      <td>0.154555</td>\n",
       "      <td>11.500000</td>\n",
       "      <td>0.000000</td>\n",
       "      <td>0.503</td>\n",
       "      <td>5.755063</td>\n",
       "      <td>8.472944</td>\n",
       "      <td>0.625068</td>\n",
       "      <td>32490.0</td>\n",
       "      <td>25270</td>\n",
       "    </tr>\n",
       "    <tr>\n",
       "      <th>5</th>\n",
       "      <td>2019</td>\n",
       "      <td>AL</td>\n",
       "      <td>Bibb County</td>\n",
       "      <td>11783.543675</td>\n",
       "      <td>0.199969</td>\n",
       "      <td>0.199164</td>\n",
       "      <td>0.378</td>\n",
       "      <td>0.349</td>\n",
       "      <td>0.162514</td>\n",
       "      <td>0.390000</td>\n",
       "      <td>...</td>\n",
       "      <td>0.486</td>\n",
       "      <td>0.109609</td>\n",
       "      <td>11.200000</td>\n",
       "      <td>0.000000</td>\n",
       "      <td>0.273</td>\n",
       "      <td>4.254594</td>\n",
       "      <td>10.157665</td>\n",
       "      <td>0.753615</td>\n",
       "      <td>45795.0</td>\n",
       "      <td>22668</td>\n",
       "    </tr>\n",
       "    <tr>\n",
       "      <th>6</th>\n",
       "      <td>2019</td>\n",
       "      <td>AL</td>\n",
       "      <td>Blount County</td>\n",
       "      <td>10908.101822</td>\n",
       "      <td>0.210953</td>\n",
       "      <td>0.196522</td>\n",
       "      <td>0.344</td>\n",
       "      <td>0.285</td>\n",
       "      <td>0.229493</td>\n",
       "      <td>0.380000</td>\n",
       "      <td>...</td>\n",
       "      <td>0.597</td>\n",
       "      <td>0.104012</td>\n",
       "      <td>11.700000</td>\n",
       "      <td>0.000000</td>\n",
       "      <td>0.185</td>\n",
       "      <td>4.126883</td>\n",
       "      <td>9.011507</td>\n",
       "      <td>0.785210</td>\n",
       "      <td>48253.0</td>\n",
       "      <td>58013</td>\n",
       "    </tr>\n",
       "    <tr>\n",
       "      <th>7</th>\n",
       "      <td>2019</td>\n",
       "      <td>AL</td>\n",
       "      <td>Bullock County</td>\n",
       "      <td>12066.910263</td>\n",
       "      <td>0.294077</td>\n",
       "      <td>0.234783</td>\n",
       "      <td>0.394</td>\n",
       "      <td>0.292</td>\n",
       "      <td>0.266905</td>\n",
       "      <td>0.260000</td>\n",
       "      <td>...</td>\n",
       "      <td>0.473</td>\n",
       "      <td>0.207598</td>\n",
       "      <td>11.200000</td>\n",
       "      <td>0.000000</td>\n",
       "      <td>0.483</td>\n",
       "      <td>6.599523</td>\n",
       "      <td>9.650647</td>\n",
       "      <td>0.700272</td>\n",
       "      <td>29113.0</td>\n",
       "      <td>10309</td>\n",
       "    </tr>\n",
       "    <tr>\n",
       "      <th>8</th>\n",
       "      <td>2019</td>\n",
       "      <td>AL</td>\n",
       "      <td>Butler County</td>\n",
       "      <td>14018.606262</td>\n",
       "      <td>0.265026</td>\n",
       "      <td>0.221977</td>\n",
       "      <td>0.402</td>\n",
       "      <td>0.347</td>\n",
       "      <td>0.485797</td>\n",
       "      <td>0.350000</td>\n",
       "      <td>...</td>\n",
       "      <td>0.318</td>\n",
       "      <td>0.137803</td>\n",
       "      <td>10.600000</td>\n",
       "      <td>0.000000</td>\n",
       "      <td>0.330</td>\n",
       "      <td>5.122786</td>\n",
       "      <td>11.501150</td>\n",
       "      <td>0.700709</td>\n",
       "      <td>36842.0</td>\n",
       "      <td>19825</td>\n",
       "    </tr>\n",
       "    <tr>\n",
       "      <th>9</th>\n",
       "      <td>2019</td>\n",
       "      <td>AL</td>\n",
       "      <td>Calhoun County</td>\n",
       "      <td>12217.759984</td>\n",
       "      <td>0.195847</td>\n",
       "      <td>0.204622</td>\n",
       "      <td>0.371</td>\n",
       "      <td>0.302</td>\n",
       "      <td>0.447138</td>\n",
       "      <td>0.380000</td>\n",
       "      <td>...</td>\n",
       "      <td>0.306</td>\n",
       "      <td>0.145388</td>\n",
       "      <td>11.800000</td>\n",
       "      <td>0.000000</td>\n",
       "      <td>0.242</td>\n",
       "      <td>4.983814</td>\n",
       "      <td>14.309272</td>\n",
       "      <td>0.693918</td>\n",
       "      <td>45937.0</td>\n",
       "      <td>114728</td>\n",
       "    </tr>\n",
       "  </tbody>\n",
       "</table>\n",
       "<p>10 rows × 23 columns</p>\n",
       "</div>"
      ],
      "text/plain": [
       "   year state          county  premature_death  poor_fair_health  \\\n",
       "0  2019    US   United States      6900.630354          0.184043   \n",
       "1  2019    AL         Alabama      9917.232898          0.214024   \n",
       "2  2019    AL  Autauga County      8824.057123          0.184111   \n",
       "3  2019    AL  Baldwin County      7224.632160          0.180605   \n",
       "4  2019    AL  Barbour County      9586.165037          0.257734   \n",
       "5  2019    AL     Bibb County     11783.543675          0.199969   \n",
       "6  2019    AL   Blount County     10908.101822          0.210953   \n",
       "7  2019    AL  Bullock County     12066.910263          0.294077   \n",
       "8  2019    AL   Butler County     14018.606262          0.265026   \n",
       "9  2019    AL  Calhoun County     12217.759984          0.195847   \n",
       "\n",
       "   adult_smoking  obesity_rate  physical_inactivity  access_exercise  \\\n",
       "0       0.193747         0.285                0.222         0.838945   \n",
       "1       0.215382         0.351                0.282         0.616496   \n",
       "2       0.191247         0.375                0.311         0.686775   \n",
       "3       0.167955         0.310                0.238         0.719710   \n",
       "4       0.215409         0.443                0.282         0.536257   \n",
       "5       0.199164         0.378                0.349         0.162514   \n",
       "6       0.196522         0.344                0.285         0.229493   \n",
       "7       0.234783         0.394                0.292         0.266905   \n",
       "8       0.221977         0.402                0.347         0.485797   \n",
       "9       0.204622         0.371                0.302         0.447138   \n",
       "\n",
       "   flu_vaccination_rate  ...  long_commute  severe_housing_problems  \\\n",
       "0              0.426497  ...         0.352                 0.183731   \n",
       "1              0.420000  ...         0.337                 0.149122   \n",
       "2              0.410000  ...         0.383                 0.149546   \n",
       "3              0.450000  ...         0.405                 0.138317   \n",
       "4              0.370000  ...         0.338                 0.154555   \n",
       "5              0.390000  ...         0.486                 0.109609   \n",
       "6              0.380000  ...         0.597                 0.104012   \n",
       "7              0.260000  ...         0.473                 0.207598   \n",
       "8              0.350000  ...         0.318                 0.137803   \n",
       "9              0.380000  ...         0.306                 0.145388   \n",
       "\n",
       "   air_pollution_pmatter  drinking_water_violations  children_in_poverty  \\\n",
       "0               8.237422                   0.365979                0.184   \n",
       "1              11.000000                   0.074627                0.244   \n",
       "2              11.700000                   0.000000                0.193   \n",
       "3              10.300000                   1.000000                0.147   \n",
       "4              11.500000                   0.000000                0.503   \n",
       "5              11.200000                   0.000000                0.273   \n",
       "6              11.700000                   0.000000                0.185   \n",
       "7              11.200000                   0.000000                0.483   \n",
       "8              10.600000                   0.000000                0.330   \n",
       "9              11.800000                   0.000000                0.242   \n",
       "\n",
       "   income_inequality  social_associations  homeownership  \\\n",
       "0           4.941486             9.300353       0.638187   \n",
       "1           5.238579            12.242716       0.685744   \n",
       "2           4.636664            12.631731       0.732877   \n",
       "3           4.518560            10.692213       0.728593   \n",
       "4           5.755063             8.472944       0.625068   \n",
       "5           4.254594            10.157665       0.753615   \n",
       "6           4.126883             9.011507       0.785210   \n",
       "7           6.599523             9.650647       0.700272   \n",
       "8           5.122786            11.501150       0.700709   \n",
       "9           4.983814            14.309272       0.693918   \n",
       "\n",
       "   median_household_income  population  \n",
       "0                  60336.0   325719178  \n",
       "1                  48193.0     4874747  \n",
       "2                  58343.0       55504  \n",
       "3                  56607.0      212628  \n",
       "4                  32490.0       25270  \n",
       "5                  45795.0       22668  \n",
       "6                  48253.0       58013  \n",
       "7                  29113.0       10309  \n",
       "8                  36842.0       19825  \n",
       "9                  45937.0      114728  \n",
       "\n",
       "[10 rows x 23 columns]"
      ]
     },
     "metadata": {},
     "output_type": "display_data"
    },
    {
     "name": "stdout",
     "output_type": "stream",
     "text": [
      "\n",
      "Total records in county_health_rankings: 15970\n",
      "\n",
      "Basic statistics by year:\n"
     ]
    },
    {
     "data": {
      "text/html": [
       "<div>\n",
       "<style scoped>\n",
       "    .dataframe tbody tr th:only-of-type {\n",
       "        vertical-align: middle;\n",
       "    }\n",
       "\n",
       "    .dataframe tbody tr th {\n",
       "        vertical-align: top;\n",
       "    }\n",
       "\n",
       "    .dataframe thead th {\n",
       "        text-align: right;\n",
       "    }\n",
       "</style>\n",
       "<table border=\"1\" class=\"dataframe\">\n",
       "  <thead>\n",
       "    <tr style=\"text-align: right;\">\n",
       "      <th></th>\n",
       "      <th>year</th>\n",
       "      <th>county_count</th>\n",
       "      <th>avg_uninsured_rate</th>\n",
       "      <th>avg_obesity_rate</th>\n",
       "      <th>avg_flu_vaccination_rate</th>\n",
       "      <th>total_population</th>\n",
       "    </tr>\n",
       "  </thead>\n",
       "  <tbody>\n",
       "    <tr>\n",
       "      <th>0</th>\n",
       "      <td>2019</td>\n",
       "      <td>3194</td>\n",
       "      <td>0.111080</td>\n",
       "      <td>0.320273</td>\n",
       "      <td>0.405570</td>\n",
       "      <td>977157534</td>\n",
       "    </tr>\n",
       "    <tr>\n",
       "      <th>1</th>\n",
       "      <td>2020</td>\n",
       "      <td>3194</td>\n",
       "      <td>0.114449</td>\n",
       "      <td>0.328081</td>\n",
       "      <td>0.418161</td>\n",
       "      <td>981502302</td>\n",
       "    </tr>\n",
       "    <tr>\n",
       "      <th>2</th>\n",
       "      <td>2021</td>\n",
       "      <td>3194</td>\n",
       "      <td>0.114679</td>\n",
       "      <td>0.334022</td>\n",
       "      <td>0.431489</td>\n",
       "      <td>984718569</td>\n",
       "    </tr>\n",
       "    <tr>\n",
       "      <th>3</th>\n",
       "      <td>2022</td>\n",
       "      <td>3194</td>\n",
       "      <td>0.119115</td>\n",
       "      <td>0.356662</td>\n",
       "      <td>0.430004</td>\n",
       "      <td>988452369</td>\n",
       "    </tr>\n",
       "    <tr>\n",
       "      <th>4</th>\n",
       "      <td>2023</td>\n",
       "      <td>3194</td>\n",
       "      <td>0.118120</td>\n",
       "      <td>0.361415</td>\n",
       "      <td>0.447263</td>\n",
       "      <td>995681235</td>\n",
       "    </tr>\n",
       "  </tbody>\n",
       "</table>\n",
       "</div>"
      ],
      "text/plain": [
       "   year  county_count  avg_uninsured_rate  avg_obesity_rate  \\\n",
       "0  2019          3194            0.111080          0.320273   \n",
       "1  2020          3194            0.114449          0.328081   \n",
       "2  2021          3194            0.114679          0.334022   \n",
       "3  2022          3194            0.119115          0.356662   \n",
       "4  2023          3194            0.118120          0.361415   \n",
       "\n",
       "   avg_flu_vaccination_rate  total_population  \n",
       "0                  0.405570         977157534  \n",
       "1                  0.418161         981502302  \n",
       "2                  0.431489         984718569  \n",
       "3                  0.430004         988452369  \n",
       "4                  0.447263         995681235  "
      ]
     },
     "metadata": {},
     "output_type": "display_data"
    }
   ],
   "source": [
    "# If the table was created successfully, show a sample of the data\n",
    "if table_created:\n",
    "    sample_query = f\"\"\"\n",
    "    SELECT *\n",
    "    FROM {database_name}.{table_name}\n",
    "    LIMIT 10\n",
    "    \"\"\"\n",
    "    print(\"\\nSample data from the table:\")\n",
    "    df_sample = pd.read_sql(sample_query, conn)\n",
    "    display(df_sample)\n",
    "\n",
    "# Count records in the table\n",
    "count_query = f\"\"\"\n",
    "SELECT COUNT(*) as total_records \n",
    "FROM {database_name}.{table_name}\n",
    "\"\"\"\n",
    "df_count = pd.read_sql(count_query, conn)\n",
    "print(f\"\\nTotal records in {table_name}: {df_count['total_records'].iloc[0]}\")\n",
    "\n",
    "# Get basic stats about the data\n",
    "stats_query = f\"\"\"\n",
    "SELECT \n",
    "    year,\n",
    "    COUNT(*) as county_count,\n",
    "    AVG(uninsured_rate) as avg_uninsured_rate,\n",
    "    AVG(obesity_rate) as avg_obesity_rate,\n",
    "    AVG(flu_vaccination_rate) as avg_flu_vaccination_rate,\n",
    "    SUM(population) as total_population\n",
    "FROM {database_name}.{table_name}\n",
    "GROUP BY year\n",
    "ORDER BY year\n",
    "\"\"\"\n",
    "df_stats = pd.read_sql(stats_query, conn)\n",
    "print(\"\\nBasic statistics by year:\")\n",
    "display(df_stats)"
   ]
  },
  {
   "cell_type": "markdown",
   "id": "e7e14b47-1118-40f8-96ef-333f1f068cda",
   "metadata": {
    "editable": true,
    "slideshow": {
     "slide_type": ""
    },
    "tags": []
   },
   "source": [
    "# SECTION 10: Create NHIS Dataset with Industry Average Estimates"
   ]
  },
  {
   "cell_type": "code",
   "execution_count": 52,
   "id": "a78570f0-ebd2-4a53-a9d4-49cb37d31a7b",
   "metadata": {
    "editable": true,
    "slideshow": {
     "slide_type": ""
    },
    "tags": []
   },
   "outputs": [],
   "source": [
    "# Define the new table name for our enhanced dataset\n",
    "new_table_name = \"nhis_dataset_with_estimates\""
   ]
  },
  {
   "cell_type": "code",
   "execution_count": 53,
   "id": "8892e45f-d7bb-4fc6-8247-e02b0dc61c9a",
   "metadata": {
    "editable": true,
    "slideshow": {
     "slide_type": ""
    },
    "tags": []
   },
   "outputs": [
    {
     "data": {
      "text/html": [
       "<div>\n",
       "<style scoped>\n",
       "    .dataframe tbody tr th:only-of-type {\n",
       "        vertical-align: middle;\n",
       "    }\n",
       "\n",
       "    .dataframe tbody tr th {\n",
       "        vertical-align: top;\n",
       "    }\n",
       "\n",
       "    .dataframe thead th {\n",
       "        text-align: right;\n",
       "    }\n",
       "</style>\n",
       "<table border=\"1\" class=\"dataframe\">\n",
       "  <thead>\n",
       "    <tr style=\"text-align: right;\">\n",
       "      <th></th>\n",
       "    </tr>\n",
       "  </thead>\n",
       "  <tbody>\n",
       "  </tbody>\n",
       "</table>\n",
       "</div>"
      ],
      "text/plain": [
       "Empty DataFrame\n",
       "Columns: []\n",
       "Index: []"
      ]
     },
     "execution_count": 53,
     "metadata": {},
     "output_type": "execute_result"
    }
   ],
   "source": [
    "# Drop the table if it exists to recreate it\n",
    "drop_table_statement = f\"DROP TABLE IF EXISTS {database_name}.{new_table_name}\"\n",
    "pd.read_sql(drop_table_statement, conn)"
   ]
  },
  {
   "cell_type": "code",
   "execution_count": 54,
   "id": "9de24251-b7a9-4728-81a0-85fc10a5f879",
   "metadata": {
    "editable": true,
    "slideshow": {
     "slide_type": ""
    },
    "tags": []
   },
   "outputs": [],
   "source": [
    "# Create a location for the new table - with a timestamp to ensure uniqueness\n",
    "import datetime\n",
    "timestamp = datetime.datetime.now().strftime(\"%Y%m%d_%H%M%S\")\n",
    "s3_new_table_path = f\"s3://{bucket}/nhis_with_estimates_{timestamp}\""
   ]
  },
  {
   "cell_type": "code",
   "execution_count": 55,
   "id": "fd1faef6-6312-4804-9f99-f20c2d8eab4f",
   "metadata": {
    "editable": true,
    "slideshow": {
     "slide_type": ""
    },
    "tags": []
   },
   "outputs": [
    {
     "name": "stdout",
     "output_type": "stream",
     "text": [
      "Removing existing S3 path if it exists...\n"
     ]
    }
   ],
   "source": [
    "# Clean up the existing S3 directory (since we can't overwrite it)\n",
    "print(f\"Removing existing S3 path if it exists...\")\n",
    "!aws s3 rm --recursive s3://{bucket}/nhis_with_estimates > /dev/null 2>&1"
   ]
  },
  {
   "cell_type": "code",
   "execution_count": 56,
   "id": "8da3d3d8-92bb-468e-aa22-f66eeb9b15f2",
   "metadata": {
    "editable": true,
    "slideshow": {
     "slide_type": ""
    },
    "tags": []
   },
   "outputs": [
    {
     "name": "stdout",
     "output_type": "stream",
     "text": [
      "Creating new table with industry average estimates:\n",
      "\n",
      "CREATE TABLE db_508.nhis_dataset_with_estimates\n",
      "WITH (\n",
      "    format = 'PARQUET',\n",
      "    external_location = 's3://[REDACTED_BUCKET]/nhis_with_estimates_[TIMESTAMP]',\n",
      "    partitioned_by = ARRAY['SRVY_YR']\n",
      ") AS\n",
      "SELECT \n",
      "    n.EVERCOVD_A,\n",
      "    n.SHTCVD191_A,\n",
      "    n.EMPDYSMSS3_A,\n",
      "    n.HICOV_A,\n",
      "    n.EMDINDSTN1_A,\n",
      "    n.SEX_A,\n",
      "    n.AGEP_A,\n",
      "    n.EDUCP_A,\n",
      "    n.REGION,\n",
      "    i.Avg_Estimate,\n",
      "    n.SRVY_YR  -- Partition column must be the last column\n",
      "FROM \n",
      "    db_508.nhis_dataset n\n",
      "LEFT JOIN \n",
      "    db_508.industry_code_mapping m ON n.EMDINDSTN1_A = m.EMDINDSTN1_A\n",
      "LEFT JOIN \n",
      "    db_508.industry_year_avg i ON \n",
      "        m.industry_year_code = i.Industry_code AND \n",
      "        n.SRVY_YR = i.Year\n",
      "\n"
     ]
    }
   ],
   "source": [
    "# Define the CREATE TABLE AS SELECT (CTAS) query\n",
    "create_table_query = f\"\"\"\n",
    "CREATE TABLE {database_name}.{new_table_name}\n",
    "WITH (\n",
    "    format = 'PARQUET',\n",
    "    external_location = '{s3_new_table_path}',\n",
    "    partitioned_by = ARRAY['SRVY_YR']\n",
    ") AS\n",
    "SELECT \n",
    "    n.EVERCOVD_A,\n",
    "    n.SHTCVD191_A,\n",
    "    n.EMPDYSMSS3_A,\n",
    "    n.HICOV_A,\n",
    "    n.EMDINDSTN1_A,\n",
    "    n.SEX_A,\n",
    "    n.AGEP_A,\n",
    "    n.EDUCP_A,\n",
    "    n.REGION,\n",
    "    i.Avg_Estimate,\n",
    "    n.SRVY_YR  -- Partition column must be the last column\n",
    "FROM \n",
    "    {database_name}.nhis_dataset n\n",
    "LEFT JOIN \n",
    "    {database_name}.industry_code_mapping m ON n.EMDINDSTN1_A = m.EMDINDSTN1_A\n",
    "LEFT JOIN \n",
    "    {database_name}.industry_year_avg i ON \n",
    "        m.industry_year_code = i.Industry_code AND \n",
    "        n.SRVY_YR = i.Year\n",
    "\"\"\"\n",
    "\n",
    "# Print query with redacted path for security\n",
    "print_query = create_table_query.replace(s3_new_table_path, \"s3://[REDACTED_BUCKET]/nhis_with_estimates_[TIMESTAMP]\")\n",
    "print(\"Creating new table with industry average estimates:\")\n",
    "print(print_query)"
   ]
  },
  {
   "cell_type": "code",
   "execution_count": 57,
   "id": "e07e5c24-211f-4e5e-8d98-6194b2fc0cd6",
   "metadata": {
    "editable": true,
    "slideshow": {
     "slide_type": ""
    },
    "tags": []
   },
   "outputs": [
    {
     "name": "stdout",
     "output_type": "stream",
     "text": [
      "New table created successfully!\n"
     ]
    }
   ],
   "source": [
    "# Execute the query to create the new table with proper error handling\n",
    "table_creation_success = False\n",
    "try:\n",
    "    pd.read_sql(create_table_query, conn)\n",
    "    print(\"New table created successfully!\")\n",
    "    table_creation_success = True\n",
    "except Exception as e:\n",
    "    print(f\"Error creating table: {e}\")\n",
    "    print(\"Attempting to diagnose the issue...\")\n",
    "    \n",
    "    # Check if the target location exists\n",
    "    !aws s3 ls {s3_new_table_path} || echo \"Target location does not exist (good)\"\n",
    "    \n",
    "    # List S3 errors if any\n",
    "    !aws s3 ls s3://{bucket}/athena/staging/tables/ | tail -5"
   ]
  },
  {
   "cell_type": "code",
   "execution_count": 58,
   "id": "f6063917-5423-428a-b8fa-b2c84990b7e3",
   "metadata": {
    "editable": true,
    "slideshow": {
     "slide_type": ""
    },
    "tags": []
   },
   "outputs": [
    {
     "name": "stdout",
     "output_type": "stream",
     "text": [
      "\n",
      "Tables in the database:\n",
      "                      tab_name\n",
      "0       county_health_rankings\n",
      "1        industry_code_mapping\n",
      "2            industry_year_avg\n",
      "3                 nhis_dataset\n",
      "4  nhis_dataset_with_estimates\n",
      "\n",
      "Table 'nhis_dataset_with_estimates' creation successful: True\n"
     ]
    }
   ],
   "source": [
    "# Verify the table was created\n",
    "show_tables_statement = f\"SHOW TABLES in {database_name}\"\n",
    "df_show = pd.read_sql(show_tables_statement, conn)\n",
    "print(\"\\nTables in the database:\")\n",
    "print(df_show)\n",
    "\n",
    "# Check if the new table exists\n",
    "new_table_created = new_table_name in df_show['tab_name'].values\n",
    "print(f\"\\nTable '{new_table_name}' creation successful: {new_table_created}\")"
   ]
  },
  {
   "cell_type": "code",
   "execution_count": 59,
   "id": "d3d4263a-837a-467b-8df0-0682d4e537e5",
   "metadata": {
    "editable": true,
    "slideshow": {
     "slide_type": ""
    },
    "tags": []
   },
   "outputs": [
    {
     "name": "stdout",
     "output_type": "stream",
     "text": [
      "\n",
      "Total records in nhis_dataset_with_estimates: 150220\n"
     ]
    }
   ],
   "source": [
    "# Check record count\n",
    "count_query = f\"SELECT COUNT(*) as total_records FROM {database_name}.{new_table_name}\"\n",
    "df_count = pd.read_sql(count_query, conn)\n",
    "print(f\"\\nTotal records in {new_table_name}: {df_count['total_records'].iloc[0]}\")"
   ]
  },
  {
   "cell_type": "code",
   "execution_count": 60,
   "id": "9920f625-73c4-4e8a-a4f1-e300cfff2bdd",
   "metadata": {
    "editable": true,
    "slideshow": {
     "slide_type": ""
    },
    "tags": []
   },
   "outputs": [
    {
     "name": "stdout",
     "output_type": "stream",
     "text": [
      "\n",
      "Sample data with industry averages:\n"
     ]
    },
    {
     "data": {
      "text/html": [
       "<div>\n",
       "<style scoped>\n",
       "    .dataframe tbody tr th:only-of-type {\n",
       "        vertical-align: middle;\n",
       "    }\n",
       "\n",
       "    .dataframe tbody tr th {\n",
       "        vertical-align: top;\n",
       "    }\n",
       "\n",
       "    .dataframe thead th {\n",
       "        text-align: right;\n",
       "    }\n",
       "</style>\n",
       "<table border=\"1\" class=\"dataframe\">\n",
       "  <thead>\n",
       "    <tr style=\"text-align: right;\">\n",
       "      <th></th>\n",
       "      <th>evercovd_a</th>\n",
       "      <th>shtcvd191_a</th>\n",
       "      <th>empdysmss3_a</th>\n",
       "      <th>hicov_a</th>\n",
       "      <th>emdindstn1_a</th>\n",
       "      <th>sex_a</th>\n",
       "      <th>agep_a</th>\n",
       "      <th>educp_a</th>\n",
       "      <th>region</th>\n",
       "      <th>avg_estimate</th>\n",
       "      <th>srvy_yr</th>\n",
       "    </tr>\n",
       "  </thead>\n",
       "  <tbody>\n",
       "    <tr>\n",
       "      <th>0</th>\n",
       "      <td>2</td>\n",
       "      <td>1</td>\n",
       "      <td>0</td>\n",
       "      <td>1</td>\n",
       "      <td>78</td>\n",
       "      <td>1</td>\n",
       "      <td>48</td>\n",
       "      <td>5</td>\n",
       "      <td>3</td>\n",
       "      <td>65.818182</td>\n",
       "      <td>2023</td>\n",
       "    </tr>\n",
       "    <tr>\n",
       "      <th>1</th>\n",
       "      <td>1</td>\n",
       "      <td>1</td>\n",
       "      <td>0</td>\n",
       "      <td>1</td>\n",
       "      <td>64</td>\n",
       "      <td>2</td>\n",
       "      <td>42</td>\n",
       "      <td>9</td>\n",
       "      <td>3</td>\n",
       "      <td>69.656250</td>\n",
       "      <td>2023</td>\n",
       "    </tr>\n",
       "    <tr>\n",
       "      <th>2</th>\n",
       "      <td>2</td>\n",
       "      <td>1</td>\n",
       "      <td>40</td>\n",
       "      <td>1</td>\n",
       "      <td>64</td>\n",
       "      <td>2</td>\n",
       "      <td>50</td>\n",
       "      <td>7</td>\n",
       "      <td>3</td>\n",
       "      <td>69.656250</td>\n",
       "      <td>2023</td>\n",
       "    </tr>\n",
       "    <tr>\n",
       "      <th>3</th>\n",
       "      <td>2</td>\n",
       "      <td>1</td>\n",
       "      <td>2</td>\n",
       "      <td>1</td>\n",
       "      <td>66</td>\n",
       "      <td>2</td>\n",
       "      <td>46</td>\n",
       "      <td>8</td>\n",
       "      <td>3</td>\n",
       "      <td>83.000000</td>\n",
       "      <td>2023</td>\n",
       "    </tr>\n",
       "    <tr>\n",
       "      <th>4</th>\n",
       "      <td>1</td>\n",
       "      <td>2</td>\n",
       "      <td>4</td>\n",
       "      <td>1</td>\n",
       "      <td>64</td>\n",
       "      <td>2</td>\n",
       "      <td>36</td>\n",
       "      <td>8</td>\n",
       "      <td>3</td>\n",
       "      <td>69.656250</td>\n",
       "      <td>2023</td>\n",
       "    </tr>\n",
       "    <tr>\n",
       "      <th>5</th>\n",
       "      <td>1</td>\n",
       "      <td>1</td>\n",
       "      <td>3</td>\n",
       "      <td>1</td>\n",
       "      <td>40</td>\n",
       "      <td>1</td>\n",
       "      <td>44</td>\n",
       "      <td>10</td>\n",
       "      <td>3</td>\n",
       "      <td>30.538462</td>\n",
       "      <td>2023</td>\n",
       "    </tr>\n",
       "    <tr>\n",
       "      <th>6</th>\n",
       "      <td>2</td>\n",
       "      <td>1</td>\n",
       "      <td>5</td>\n",
       "      <td>1</td>\n",
       "      <td>39</td>\n",
       "      <td>1</td>\n",
       "      <td>61</td>\n",
       "      <td>1</td>\n",
       "      <td>3</td>\n",
       "      <td>30.538462</td>\n",
       "      <td>2023</td>\n",
       "    </tr>\n",
       "    <tr>\n",
       "      <th>7</th>\n",
       "      <td>1</td>\n",
       "      <td>2</td>\n",
       "      <td>0</td>\n",
       "      <td>2</td>\n",
       "      <td>10</td>\n",
       "      <td>2</td>\n",
       "      <td>35</td>\n",
       "      <td>8</td>\n",
       "      <td>3</td>\n",
       "      <td>25.285714</td>\n",
       "      <td>2023</td>\n",
       "    </tr>\n",
       "    <tr>\n",
       "      <th>8</th>\n",
       "      <td>2</td>\n",
       "      <td>1</td>\n",
       "      <td>1</td>\n",
       "      <td>1</td>\n",
       "      <td>40</td>\n",
       "      <td>1</td>\n",
       "      <td>56</td>\n",
       "      <td>8</td>\n",
       "      <td>3</td>\n",
       "      <td>30.538462</td>\n",
       "      <td>2023</td>\n",
       "    </tr>\n",
       "    <tr>\n",
       "      <th>9</th>\n",
       "      <td>2</td>\n",
       "      <td>1</td>\n",
       "      <td>3</td>\n",
       "      <td>1</td>\n",
       "      <td>29</td>\n",
       "      <td>1</td>\n",
       "      <td>49</td>\n",
       "      <td>4</td>\n",
       "      <td>3</td>\n",
       "      <td>27.692308</td>\n",
       "      <td>2023</td>\n",
       "    </tr>\n",
       "  </tbody>\n",
       "</table>\n",
       "</div>"
      ],
      "text/plain": [
       "   evercovd_a  shtcvd191_a  empdysmss3_a  hicov_a  emdindstn1_a  sex_a  \\\n",
       "0           2            1             0        1            78      1   \n",
       "1           1            1             0        1            64      2   \n",
       "2           2            1            40        1            64      2   \n",
       "3           2            1             2        1            66      2   \n",
       "4           1            2             4        1            64      2   \n",
       "5           1            1             3        1            40      1   \n",
       "6           2            1             5        1            39      1   \n",
       "7           1            2             0        2            10      2   \n",
       "8           2            1             1        1            40      1   \n",
       "9           2            1             3        1            29      1   \n",
       "\n",
       "   agep_a  educp_a  region  avg_estimate  srvy_yr  \n",
       "0      48        5       3     65.818182     2023  \n",
       "1      42        9       3     69.656250     2023  \n",
       "2      50        7       3     69.656250     2023  \n",
       "3      46        8       3     83.000000     2023  \n",
       "4      36        8       3     69.656250     2023  \n",
       "5      44       10       3     30.538462     2023  \n",
       "6      61        1       3     30.538462     2023  \n",
       "7      35        8       3     25.285714     2023  \n",
       "8      56        8       3     30.538462     2023  \n",
       "9      49        4       3     27.692308     2023  "
      ]
     },
     "metadata": {},
     "output_type": "display_data"
    }
   ],
   "source": [
    "# Show a sample of records with industry averages\n",
    "sample_query = f\"\"\"\n",
    "SELECT *\n",
    "FROM {database_name}.{new_table_name}\n",
    "WHERE Avg_Estimate IS NOT NULL\n",
    "LIMIT 10\n",
    "\"\"\"\n",
    "print(\"\\nSample data with industry averages:\")\n",
    "df_sample = pd.read_sql(sample_query, conn)\n",
    "display(df_sample)"
   ]
  },
  {
   "cell_type": "code",
   "execution_count": 61,
   "id": "43de2f82-e1dd-44db-b618-5e01fe00b4bc",
   "metadata": {
    "editable": true,
    "slideshow": {
     "slide_type": ""
    },
    "tags": []
   },
   "outputs": [
    {
     "name": "stdout",
     "output_type": "stream",
     "text": [
      "\n",
      "Statistics on industry average estimates:\n"
     ]
    },
    {
     "data": {
      "text/html": [
       "<div>\n",
       "<style scoped>\n",
       "    .dataframe tbody tr th:only-of-type {\n",
       "        vertical-align: middle;\n",
       "    }\n",
       "\n",
       "    .dataframe tbody tr th {\n",
       "        vertical-align: top;\n",
       "    }\n",
       "\n",
       "    .dataframe thead th {\n",
       "        text-align: right;\n",
       "    }\n",
       "</style>\n",
       "<table border=\"1\" class=\"dataframe\">\n",
       "  <thead>\n",
       "    <tr style=\"text-align: right;\">\n",
       "      <th></th>\n",
       "      <th>total_records</th>\n",
       "      <th>records_with_estimates</th>\n",
       "      <th>records_without_estimates</th>\n",
       "      <th>percent_with_estimates</th>\n",
       "    </tr>\n",
       "  </thead>\n",
       "  <tbody>\n",
       "    <tr>\n",
       "      <th>0</th>\n",
       "      <td>150220</td>\n",
       "      <td>49118</td>\n",
       "      <td>101102</td>\n",
       "      <td>32.697377</td>\n",
       "    </tr>\n",
       "  </tbody>\n",
       "</table>\n",
       "</div>"
      ],
      "text/plain": [
       "   total_records  records_with_estimates  records_without_estimates  \\\n",
       "0         150220                   49118                     101102   \n",
       "\n",
       "   percent_with_estimates  \n",
       "0               32.697377  "
      ]
     },
     "metadata": {},
     "output_type": "display_data"
    }
   ],
   "source": [
    "# Compare the count of records with and without estimates\n",
    "stats_query = f\"\"\"\n",
    "SELECT \n",
    "    COUNT(*) as total_records,\n",
    "    COUNT(Avg_Estimate) as records_with_estimates,\n",
    "    COUNT(*) - COUNT(Avg_Estimate) as records_without_estimates,\n",
    "    (COUNT(Avg_Estimate) * 100.0 / COUNT(*)) as percent_with_estimates\n",
    "FROM {database_name}.{new_table_name}\n",
    "\"\"\"\n",
    "df_stats = pd.read_sql(stats_query, conn)\n",
    "print(\"\\nStatistics on industry average estimates:\")\n",
    "display(df_stats)"
   ]
  },
  {
   "cell_type": "code",
   "execution_count": 62,
   "id": "ab0c3f00-b3b7-409a-84ec-39efc7e44c74",
   "metadata": {
    "editable": true,
    "slideshow": {
     "slide_type": ""
    },
    "tags": []
   },
   "outputs": [
    {
     "name": "stdout",
     "output_type": "stream",
     "text": [
      "\n",
      "Estimate coverage by year:\n"
     ]
    },
    {
     "data": {
      "text/html": [
       "<div>\n",
       "<style scoped>\n",
       "    .dataframe tbody tr th:only-of-type {\n",
       "        vertical-align: middle;\n",
       "    }\n",
       "\n",
       "    .dataframe tbody tr th {\n",
       "        vertical-align: top;\n",
       "    }\n",
       "\n",
       "    .dataframe thead th {\n",
       "        text-align: right;\n",
       "    }\n",
       "</style>\n",
       "<table border=\"1\" class=\"dataframe\">\n",
       "  <thead>\n",
       "    <tr style=\"text-align: right;\">\n",
       "      <th></th>\n",
       "      <th>year</th>\n",
       "      <th>total_records</th>\n",
       "      <th>records_with_estimates</th>\n",
       "      <th>percent_with_estimates</th>\n",
       "    </tr>\n",
       "  </thead>\n",
       "  <tbody>\n",
       "    <tr>\n",
       "      <th>0</th>\n",
       "      <td>2019</td>\n",
       "      <td>31997</td>\n",
       "      <td>0</td>\n",
       "      <td>0.000000</td>\n",
       "    </tr>\n",
       "    <tr>\n",
       "      <th>1</th>\n",
       "      <td>2020</td>\n",
       "      <td>31568</td>\n",
       "      <td>17356</td>\n",
       "      <td>54.979726</td>\n",
       "    </tr>\n",
       "    <tr>\n",
       "      <th>2</th>\n",
       "      <td>2021</td>\n",
       "      <td>29482</td>\n",
       "      <td>16016</td>\n",
       "      <td>54.324673</td>\n",
       "    </tr>\n",
       "    <tr>\n",
       "      <th>3</th>\n",
       "      <td>2022</td>\n",
       "      <td>27651</td>\n",
       "      <td>0</td>\n",
       "      <td>0.000000</td>\n",
       "    </tr>\n",
       "    <tr>\n",
       "      <th>4</th>\n",
       "      <td>2023</td>\n",
       "      <td>29522</td>\n",
       "      <td>15746</td>\n",
       "      <td>53.336495</td>\n",
       "    </tr>\n",
       "  </tbody>\n",
       "</table>\n",
       "</div>"
      ],
      "text/plain": [
       "   year  total_records  records_with_estimates  percent_with_estimates\n",
       "0  2019          31997                       0                0.000000\n",
       "1  2020          31568                   17356               54.979726\n",
       "2  2021          29482                   16016               54.324673\n",
       "3  2022          27651                       0                0.000000\n",
       "4  2023          29522                   15746               53.336495"
      ]
     },
     "metadata": {},
     "output_type": "display_data"
    }
   ],
   "source": [
    "# Additional analysis by year\n",
    "year_stats_query = f\"\"\"\n",
    "SELECT \n",
    "    SRVY_YR as year,\n",
    "    COUNT(*) as total_records,\n",
    "    COUNT(Avg_Estimate) as records_with_estimates,\n",
    "    (COUNT(Avg_Estimate) * 100.0 / COUNT(*)) as percent_with_estimates\n",
    "FROM {database_name}.{new_table_name}\n",
    "GROUP BY SRVY_YR\n",
    "ORDER BY SRVY_YR\n",
    "\"\"\"\n",
    "df_year_stats = pd.read_sql(year_stats_query, conn)\n",
    "print(\"\\nEstimate coverage by year:\")\n",
    "display(df_year_stats)"
   ]
  },
  {
   "cell_type": "code",
   "execution_count": null,
   "id": "a1bae795-245f-478d-84d9-4f43feb449bb",
   "metadata": {},
   "outputs": [],
   "source": [
    "# Stop cell execution here\n",
    "sys.exit(\"Stopping execution here. Cells below will not run.\")"
   ]
  },
  {
   "cell_type": "code",
   "execution_count": 63,
   "id": "fd2b4645-3eda-43e9-94b4-7855b1b2c245",
   "metadata": {
    "editable": true,
    "slideshow": {
     "slide_type": ""
    },
    "tags": []
   },
   "outputs": [
    {
     "name": "stdout",
     "output_type": "stream",
     "text": [
      "Loaded 150220 rows of data\n"
     ]
    }
   ],
   "source": [
    "# Export table data to CSV and save to S3 bucket\n",
    "export_query = f\"\"\"\n",
    "SELECT *\n",
    "FROM {database_name}.{new_table_name}\n",
    "LIMIT 1000000\n",
    "\"\"\"\n",
    "\n",
    "# Execute the query and load data into a pandas DataFrame\n",
    "export_df = pd.read_sql(export_query, conn)\n",
    "print(f\"Loaded {len(export_df)} rows of data\")"
   ]
  },
  {
   "cell_type": "code",
   "execution_count": 64,
   "id": "2e1e6055-650e-4612-943b-d8f2be8d1e19",
   "metadata": {
    "editable": true,
    "slideshow": {
     "slide_type": ""
    },
    "tags": []
   },
   "outputs": [],
   "source": [
    "# Define the CSV file path in S3 with a fixed name\n",
    "csv_filename = \"nhis_dataset_with_estimates.csv\"\n",
    "csv_s3_path = f\"s3://{bucket}/{csv_filename}\""
   ]
  },
  {
   "cell_type": "code",
   "execution_count": 65,
   "id": "e2415f97-6081-4b66-bcca-14b68ef58cff",
   "metadata": {
    "editable": true,
    "slideshow": {
     "slide_type": ""
    },
    "tags": []
   },
   "outputs": [
    {
     "name": "stdout",
     "output_type": "stream",
     "text": [
      "CSV file successfully saved to s3://usd-team1-ads508/nhis_dataset_with_estimates.csv\n"
     ]
    }
   ],
   "source": [
    "# Convert to CSV and upload\n",
    "csv_buffer = io.StringIO()\n",
    "export_df.to_csv(csv_buffer, index=False)\n",
    "s3_client.put_object(\n",
    "    Bucket=bucket,\n",
    "    Key=csv_filename,\n",
    "    Body=csv_buffer.getvalue()\n",
    ")\n",
    "\n",
    "print(f\"CSV file successfully saved to {csv_s3_path}\")"
   ]
  },
  {
   "cell_type": "code",
   "execution_count": 66,
   "id": "c01d35ba-d3c2-4a76-97e2-3b5433fda089",
   "metadata": {
    "editable": true,
    "slideshow": {
     "slide_type": ""
    },
    "tags": []
   },
   "outputs": [
    {
     "name": "stdout",
     "output_type": "stream",
     "text": [
      "2025-03-30 21:03:37    4808201 nhis_dataset_with_estimates.csv\n"
     ]
    }
   ],
   "source": [
    "# Show the S3 file details\n",
    "!aws s3 ls s3://{bucket}/{csv_filename}"
   ]
  }
 ],
 "metadata": {
  "kernelspec": {
   "display_name": "Python 3 (ipykernel)",
   "language": "python",
   "name": "python3"
  },
  "language_info": {
   "codemirror_mode": {
    "name": "ipython",
    "version": 3
   },
   "file_extension": ".py",
   "mimetype": "text/x-python",
   "name": "python",
   "nbconvert_exporter": "python",
   "pygments_lexer": "ipython3",
   "version": "3.11.11"
  }
 },
 "nbformat": 4,
 "nbformat_minor": 5
}
