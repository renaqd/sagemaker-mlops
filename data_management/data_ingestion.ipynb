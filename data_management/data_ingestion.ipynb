{
 "cells": [
  {
   "cell_type": "code",
   "execution_count": 1,
   "id": "0a88dba8-5ea0-4341-9c72-333df13daec1",
   "metadata": {},
   "outputs": [],
   "source": [
    "# Setup AWS and SageMaker session\n",
    "import boto3\n",
    "import sagemaker\n",
    "import pandas as pd\n",
    "from pyathena import connect\n",
    "import warnings\n",
    "warnings.filterwarnings('ignore')"
   ]
  },
  {
   "cell_type": "code",
   "execution_count": 2,
   "id": "f3483fb4-d9b8-4657-84de-bbad92276529",
   "metadata": {},
   "outputs": [],
   "source": [
    "# Initialize SageMaker session and environment variables\n",
    "sess = sagemaker.Session()\n",
    "bucket = sess.default_bucket()\n",
    "role = sagemaker.get_execution_role()\n",
    "region = boto3.Session().region_name\n",
    "sm = boto3.client(\"sagemaker\", region_name=region)"
   ]
  },
  {
   "cell_type": "code",
   "execution_count": 3,
   "id": "e27f37ee-cffe-4cf4-893b-ddaa1a39543a",
   "metadata": {},
   "outputs": [
    {
     "name": "stdout",
     "output_type": "stream",
     "text": [
      "Public path: s3://usd-team1-ads508/ld_data/\n"
     ]
    }
   ],
   "source": [
    "# Define S3 paths\n",
    "s3_public_path = \"s3://usd-team1-ads508/ld_data/\"\n",
    "s3_private_path = f\"s3://{bucket}/ld_data\"\n",
    "print(f\"Public path: {s3_public_path}\")\n",
    "# print(f\"Private path: {s3_private_path}\")"
   ]
  },
  {
   "cell_type": "code",
   "execution_count": 4,
   "id": "8aebc1fa-1143-4f44-8e5a-f045512653b0",
   "metadata": {},
   "outputs": [
    {
     "name": "stdout",
     "output_type": "stream",
     "text": [
      "Stored 's3_public_path' (str)\n",
      "Stored 's3_private_path' (str)\n"
     ]
    }
   ],
   "source": [
    "# Store paths for later use\n",
    "%store s3_public_path\n",
    "%store s3_private_path"
   ]
  },
  {
   "cell_type": "code",
   "execution_count": 5,
   "id": "5256b7c1-0e15-4579-b56a-52c9cd9520d4",
   "metadata": {},
   "outputs": [],
   "source": [
    "# Copy CSV files from public to private bucket\n",
    "!aws s3 cp --recursive {s3_public_path} {s3_private_path}/ --include \"*.csv\" > /dev/null 2>&1\n",
    "# !aws s3 cp --recursive {s3_public_path} {s3_private_path}/ --include \"*.csv\""
   ]
  },
  {
   "cell_type": "code",
   "execution_count": 6,
   "id": "f15691e3-58ff-4fec-b646-9ff36bf0da91",
   "metadata": {},
   "outputs": [],
   "source": [
    "# --- Create Athena Database ---\n",
    "database_name = \"demo2\"\n",
    "s3_staging_dir = f\"s3://{bucket}/athena/staging\""
   ]
  },
  {
   "cell_type": "code",
   "execution_count": 7,
   "id": "866ee299-bf7c-4054-906a-32f494b1a9f1",
   "metadata": {},
   "outputs": [],
   "source": [
    "# Install PyAthena if needed\n",
    "# !pip install --disable-pip-version-check -q PyAthena==2.1.0"
   ]
  },
  {
   "cell_type": "code",
   "execution_count": 8,
   "id": "7d7b1723-fb64-4f95-bd77-0a0b82a0cae4",
   "metadata": {},
   "outputs": [],
   "source": [
    "# Connect to Athena\n",
    "conn = connect(region_name=region, s3_staging_dir=s3_staging_dir)"
   ]
  },
  {
   "cell_type": "code",
   "execution_count": 9,
   "id": "0fcabb75-85a9-4c9f-a6b9-c769c4d40a3f",
   "metadata": {},
   "outputs": [
    {
     "name": "stdout",
     "output_type": "stream",
     "text": [
      "CREATE DATABASE IF NOT EXISTS demo2\n"
     ]
    },
    {
     "data": {
      "text/html": [
       "<div>\n",
       "<style scoped>\n",
       "    .dataframe tbody tr th:only-of-type {\n",
       "        vertical-align: middle;\n",
       "    }\n",
       "\n",
       "    .dataframe tbody tr th {\n",
       "        vertical-align: top;\n",
       "    }\n",
       "\n",
       "    .dataframe thead th {\n",
       "        text-align: right;\n",
       "    }\n",
       "</style>\n",
       "<table border=\"1\" class=\"dataframe\">\n",
       "  <thead>\n",
       "    <tr style=\"text-align: right;\">\n",
       "      <th></th>\n",
       "    </tr>\n",
       "  </thead>\n",
       "  <tbody>\n",
       "  </tbody>\n",
       "</table>\n",
       "</div>"
      ],
      "text/plain": [
       "Empty DataFrame\n",
       "Columns: []\n",
       "Index: []"
      ]
     },
     "execution_count": 9,
     "metadata": {},
     "output_type": "execute_result"
    }
   ],
   "source": [
    "# Create database\n",
    "create_db_statement = f\"CREATE DATABASE IF NOT EXISTS {database_name}\"\n",
    "print(create_db_statement)\n",
    "pd.read_sql(create_db_statement, conn)\n"
   ]
  },
  {
   "cell_type": "code",
   "execution_count": 10,
   "id": "af332883-aeaa-42eb-b4ac-bfa06cc13864",
   "metadata": {},
   "outputs": [
    {
     "name": "stdout",
     "output_type": "stream",
     "text": [
      "  database_name\n",
      "0       default\n",
      "1         demo1\n",
      "2         demo2\n"
     ]
    }
   ],
   "source": [
    "# Verify database creation\n",
    "show_db_statement = \"SHOW DATABASES\"\n",
    "df_show = pd.read_sql(show_db_statement, conn)\n",
    "print(df_show.head(5))"
   ]
  },
  {
   "cell_type": "code",
   "execution_count": 11,
   "id": "3b58971d-3e1a-4360-805c-41f94ca33221",
   "metadata": {},
   "outputs": [
    {
     "name": "stdout",
     "output_type": "stream",
     "text": [
      "Database creation successful: True\n",
      "Stored 'ingest_create_athena_db_passed' (bool)\n"
     ]
    }
   ],
   "source": [
    "# Mark database creation as successful if database exists\n",
    "ingest_create_athena_db_passed = database_name in df_show.values\n",
    "print(f\"Database creation successful: {ingest_create_athena_db_passed}\")\n",
    "%store ingest_create_athena_db_passed"
   ]
  },
  {
   "cell_type": "markdown",
   "id": "0365536b-52ec-4590-86bf-e1b2a6cb9650",
   "metadata": {},
   "source": [
    "#### Key Variables\n",
    "\n",
    "See link for variable descriptions: https://ftp.cdc.gov/pub/Health_Statistics/NCHS/Dataset_Documentation/NHIS/2023/adult-summary.pdf\n",
    "\n",
    "\n",
    "| Variable         | Description                                        |\n",
    "|-----------------|----------------------------------------------------|\n",
    "| EVERCOVD_A      | Ever had COVID-19                                  |\n",
    "| SHTCVD191_A     | COVID-19 vaccination                                |\n",
    "| EMPDYSMSS2_A    | Days missed work (2019-2020), past 12 months (top-coded)      |\n",
    "| EMPDYSMSS3_A    | Days missed work (2021-2023), past 12 months (top-coded)      |\n",
    "| HICOV_A         | Have health insurance                             |\n",
    "| EMDINDSTN1_A    | Detailed 2-digit recode for sample adult's industry |\n",
    "| SEX_A           | Sex of Sample Adult                               |\n",
    "| AGEP_A          | Age of SA (top coded)                            |\n",
    "| EDUCP_A         | Educational level of sample adult                |\n",
    "| REGION          | Household region                                 |\n"
   ]
  },
  {
   "cell_type": "code",
   "execution_count": 12,
   "id": "a86bf429-7629-4071-976c-68ffadf870ed",
   "metadata": {},
   "outputs": [
    {
     "name": "stdout",
     "output_type": "stream",
     "text": [
      "CREATE EXTERNAL TABLE IF NOT EXISTS demo2.ld_data(\n",
      "        EVERCOVD_A int,\n",
      "        SHTCVD191_A int,\n",
      "        EMPDYSMSS2_A int,\n",
      "        EMPDYSMSS3_A int,\n",
      "        HICOV_A int,\n",
      "        EMDINDSTN1_A int,\n",
      "        SEX_A int,\n",
      "        AGEP_A int,\n",
      "        EDUCP_A int,\n",
      "        REGION int\n",
      "    ) ROW FORMAT DELIMITED FIELDS TERMINATED BY ',' LINES TERMINATED BY '\\n' LOCATION 's3://[REDACTED_BUCKET]/[REDACTED_PATH]'\n",
      "    TBLPROPERTIES ('skip.header.line.count'='1')\n",
      "  tab_name\n",
      "0  ld_data\n",
      "Table creation successful: True\n",
      "Stored 'ingest_create_athena_table_passed' (bool)\n"
     ]
    }
   ],
   "source": [
    "# --- Create Athena Table ---\n",
    "if not ingest_create_athena_db_passed:\n",
    "    print(\"[ERROR] You need to create the Athena database first\")\n",
    "else:\n",
    "    # Define table\n",
    "    table_name = \"ld_data\"\n",
    "    \n",
    "    # Print\n",
    "    print_statement = f\"\"\"CREATE EXTERNAL TABLE IF NOT EXISTS {database_name}.{table_name}(\n",
    "        EVERCOVD_A int,\n",
    "        SHTCVD191_A int,\n",
    "        EMPDYSMSS2_A int,\n",
    "        EMPDYSMSS3_A int,\n",
    "        HICOV_A int,\n",
    "        EMDINDSTN1_A int,\n",
    "        SEX_A int,\n",
    "        AGEP_A int,\n",
    "        EDUCP_A int,\n",
    "        REGION int\n",
    "    ) ROW FORMAT DELIMITED FIELDS TERMINATED BY ',' LINES TERMINATED BY '\\\\n' LOCATION 's3://[REDACTED_BUCKET]/[REDACTED_PATH]'\n",
    "    TBLPROPERTIES ('skip.header.line.count'='1')\"\"\"\n",
    "    \n",
    "    # Statement to execute\n",
    "    create_table_statement = f\"\"\"CREATE EXTERNAL TABLE IF NOT EXISTS {database_name}.{table_name}(\n",
    "        EVERCOVD_A int,\n",
    "        SHTCVD191_A int,\n",
    "        EMPDYSMSS2_A int,\n",
    "        EMPDYSMSS3_A int,\n",
    "        HICOV_A int,\n",
    "        EMDINDSTN1_A int,\n",
    "        SEX_A int,\n",
    "        AGEP_A int,\n",
    "        EDUCP_A int,\n",
    "        REGION int\n",
    "    ) ROW FORMAT DELIMITED FIELDS TERMINATED BY ',' LINES TERMINATED BY '\\\\n' LOCATION '{s3_private_path}'\n",
    "    TBLPROPERTIES ('skip.header.line.count'='1')\"\"\"\n",
    "    \n",
    "    # Print\n",
    "    print(print_statement)\n",
    "    \n",
    "    # Execute statement\n",
    "    pd.read_sql(create_table_statement, conn)\n",
    "    \n",
    "    # Verify table creation\n",
    "    show_tables_statement = f\"SHOW TABLES in {database_name}\"\n",
    "    df_show = pd.read_sql(show_tables_statement, conn)\n",
    "    print(df_show.head(5))\n",
    "    \n",
    "    # Mark table creation as successful if table exists\n",
    "    ingest_create_athena_table_passed = table_name in df_show.values\n",
    "    print(f\"Table creation successful: {ingest_create_athena_table_passed}\")\n",
    "    %store ingest_create_athena_table_passed"
   ]
  },
  {
   "cell_type": "code",
   "execution_count": 13,
   "id": "5ed3d7db-9f53-448b-9cef-ec3c866f582f",
   "metadata": {},
   "outputs": [
    {
     "name": "stdout",
     "output_type": "stream",
     "text": [
      "Query to count total records:\n",
      "\n",
      "SELECT COUNT(*) as total_records \n",
      "FROM demo2.ld_data\n",
      "\n",
      "Total records in ld_data: 150220\n"
     ]
    }
   ],
   "source": [
    "# Query to count total records in the table\n",
    "count_query = f\"\"\"\n",
    "SELECT COUNT(*) as total_records \n",
    "FROM {database_name}.{table_name}\n",
    "\"\"\"\n",
    "print(\"Query to count total records:\")\n",
    "print(count_query)\n",
    "\n",
    "# Execute the query\n",
    "df_count = pd.read_sql(count_query, conn)\n",
    "\n",
    "# Display the result\n",
    "print(f\"Total records in {table_name}: {df_count['total_records'].iloc[0]}\")"
   ]
  }
 ],
 "metadata": {
  "kernelspec": {
   "display_name": "Python 3 (ipykernel)",
   "language": "python",
   "name": "python3"
  },
  "language_info": {
   "codemirror_mode": {
    "name": "ipython",
    "version": 3
   },
   "file_extension": ".py",
   "mimetype": "text/x-python",
   "name": "python",
   "nbconvert_exporter": "python",
   "pygments_lexer": "ipython3",
   "version": "3.11.11"
  }
 },
 "nbformat": 4,
 "nbformat_minor": 5
}
