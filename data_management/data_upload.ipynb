{
 "cells": [
  {
   "cell_type": "code",
   "execution_count": 12,
   "id": "361f5126-fbbd-4087-a2c6-a94e5cafe357",
   "metadata": {},
   "outputs": [],
   "source": [
    "# Upload CSV files to S3\n",
    "import boto3\n",
    "import sagemaker\n",
    "import os\n",
    "\n",
    "import warnings\n",
    "warnings.filterwarnings('ignore')"
   ]
  },
  {
   "cell_type": "code",
   "execution_count": 2,
   "id": "46e8add5-bc77-404e-8fd6-4b52c295ef0e",
   "metadata": {},
   "outputs": [],
   "source": [
    "# Initialize SageMaker session and get role\n",
    "sagemaker_session = sagemaker.Session()\n",
    "role = sagemaker.get_execution_role()\n",
    "region = boto3.Session().region_name"
   ]
  },
  {
   "cell_type": "code",
   "execution_count": 3,
   "id": "583a82c1-0179-46d7-ba5d-3bb41fef94e5",
   "metadata": {},
   "outputs": [],
   "source": [
    "# Use the specific bucket instead of the default one\n",
    "bucket = \"usd-team1-ads508\"  # Specific bucket name\n",
    "sm = boto3.Session().client(service_name=\"sagemaker\", region_name=region)"
   ]
  },
  {
   "cell_type": "code",
   "execution_count": 4,
   "id": "61cd158f-fd38-4755-96f4-4b1547bb9c3a",
   "metadata": {},
   "outputs": [
    {
     "name": "stdout",
     "output_type": "stream",
     "text": [
      "Using S3 bucket: usd-team1-ads508\n"
     ]
    }
   ],
   "source": [
    "# Display the bucket we're working with\n",
    "print(f\"Using S3 bucket: {bucket}\")"
   ]
  },
  {
   "cell_type": "code",
   "execution_count": 5,
   "id": "be15e425-5cae-49bc-8a2e-0f0344daf9aa",
   "metadata": {},
   "outputs": [
    {
     "name": "stdout",
     "output_type": "stream",
     "text": [
      "                           PRE ab_data/\n",
      "                           PRE ld_data/\n"
     ]
    }
   ],
   "source": [
    "# verify we can access the bucket\n",
    "!aws s3 ls s3://{bucket}/"
   ]
  },
  {
   "cell_type": "code",
   "execution_count": 6,
   "id": "e551bfc5-9958-40fd-b9fc-ad092c41fb60",
   "metadata": {},
   "outputs": [
    {
     "name": "stdout",
     "output_type": "stream",
     "text": [
      "\n",
      "usage: aws [options] <command> <subcommand> [<subcommand> ...] [parameters]\n",
      "To see help text, you can run:\n",
      "\n",
      "  aws help\n",
      "  aws <command> help\n",
      "  aws <command> <subcommand> help\n",
      "\n",
      "aws: error: argument --key: expected one argument\n",
      "\n"
     ]
    }
   ],
   "source": [
    "# Create a dedicated prefix for our data files\n",
    "s3_prefix = \"\"\n",
    "!aws s3api put-object --bucket {bucket} --key {s3_prefix}"
   ]
  },
  {
   "cell_type": "code",
   "execution_count": 7,
   "id": "278115a6-4045-4302-81e6-31049550c068",
   "metadata": {},
   "outputs": [],
   "source": [
    "# Set path to the local data directory\n",
    "local_data_path = \"../data/\"  # notebook is in data_management folder"
   ]
  },
  {
   "cell_type": "code",
   "execution_count": 8,
   "id": "36e263a2-8e68-4104-bead-a8e9bf28579d",
   "metadata": {},
   "outputs": [
    {
     "name": "stdout",
     "output_type": "stream",
     "text": [
      "\n",
      "CSV files to be uploaded:\n",
      "Found: ../data/ld_data/adult23.csv\n",
      "Found: ../data/ld_data/adult19.csv\n",
      "Found: ../data/ld_data/adult22.csv\n",
      "Found: ../data/ld_data/adult20.csv\n",
      "Found: ../data/ld_data/adult21.csv\n",
      "Found: ../data/ab_data/analytic_data2019.csv\n",
      "Found: ../data/ab_data/analytic_data2020_0.csv\n",
      "Found: ../data/ab_data/analytic_data2021.csv\n",
      "Found: ../data/ab_data/analytic_data2022.csv\n",
      "Found: ../data/ab_data/analytic_data2023_0.csv\n",
      "Found: ../data/jc_data/employee_benefits_2019_2023.csv\n"
     ]
    }
   ],
   "source": [
    "# Use os.walk to find all CSV files in the data directory and its subfolders\n",
    "print(\"\\nCSV files to be uploaded:\")\n",
    "csv_files = []\n",
    "\n",
    "for root, dirs, files in os.walk(local_data_path):\n",
    "    for file in files:\n",
    "        if file.endswith(\".csv\"):\n",
    "            file_path = os.path.join(root, file)\n",
    "            relative_path = os.path.relpath(file_path, local_data_path)\n",
    "            csv_files.append((file_path, relative_path))\n",
    "            print(f\"Found: {file_path}\")\n",
    "\n",
    "if not csv_files:\n",
    "    print(\"No CSV files found in the data directory or its subfolders.\")"
   ]
  },
  {
   "cell_type": "code",
   "execution_count": 9,
   "id": "b27986bf-1a47-45eb-b0b7-4eeebcb66d84",
   "metadata": {},
   "outputs": [
    {
     "name": "stdout",
     "output_type": "stream",
     "text": [
      "\n",
      "Uploading files to S3...\n",
      "Uploading ../data/ld_data/adult23.csv to s3://usd-team1-ads508/ld_data/adult23.csv\n",
      "upload: ../data/ld_data/adult23.csv to s3://usd-team1-ads508/ld_data/adult23.csv\n",
      "Uploading ../data/ld_data/adult19.csv to s3://usd-team1-ads508/ld_data/adult19.csv\n",
      "upload: ../data/ld_data/adult19.csv to s3://usd-team1-ads508/ld_data/adult19.csv\n",
      "Uploading ../data/ld_data/adult22.csv to s3://usd-team1-ads508/ld_data/adult22.csv\n",
      "upload: ../data/ld_data/adult22.csv to s3://usd-team1-ads508/ld_data/adult22.csv\n",
      "Uploading ../data/ld_data/adult20.csv to s3://usd-team1-ads508/ld_data/adult20.csv\n",
      "upload: ../data/ld_data/adult20.csv to s3://usd-team1-ads508/ld_data/adult20.csv\n",
      "Uploading ../data/ld_data/adult21.csv to s3://usd-team1-ads508/ld_data/adult21.csv\n",
      "upload: ../data/ld_data/adult21.csv to s3://usd-team1-ads508/ld_data/adult21.csv\n",
      "Uploading ../data/ab_data/analytic_data2019.csv to s3://usd-team1-ads508/ab_data/analytic_data2019.csv\n",
      "upload: ../data/ab_data/analytic_data2019.csv to s3://usd-team1-ads508/ab_data/analytic_data2019.csv\n",
      "Uploading ../data/ab_data/analytic_data2020_0.csv to s3://usd-team1-ads508/ab_data/analytic_data2020_0.csv\n",
      "upload: ../data/ab_data/analytic_data2020_0.csv to s3://usd-team1-ads508/ab_data/analytic_data2020_0.csv\n",
      "Uploading ../data/ab_data/analytic_data2021.csv to s3://usd-team1-ads508/ab_data/analytic_data2021.csv\n",
      "upload: ../data/ab_data/analytic_data2021.csv to s3://usd-team1-ads508/ab_data/analytic_data2021.csv\n",
      "Uploading ../data/ab_data/analytic_data2022.csv to s3://usd-team1-ads508/ab_data/analytic_data2022.csv\n",
      "upload: ../data/ab_data/analytic_data2022.csv to s3://usd-team1-ads508/ab_data/analytic_data2022.csv\n",
      "Uploading ../data/ab_data/analytic_data2023_0.csv to s3://usd-team1-ads508/ab_data/analytic_data2023_0.csv\n",
      "upload: ../data/ab_data/analytic_data2023_0.csv to s3://usd-team1-ads508/ab_data/analytic_data2023_0.csv\n",
      "Uploading ../data/jc_data/employee_benefits_2019_2023.csv to s3://usd-team1-ads508/jc_data/employee_benefits_2019_2023.csv\n",
      "upload: ../data/jc_data/employee_benefits_2019_2023.csv to s3://usd-team1-ads508/jc_data/employee_benefits_2019_2023.csv\n"
     ]
    }
   ],
   "source": [
    "# Upload all CSV files from the data directory and its subfolders to S3\n",
    "print(\"\\nUploading files to S3...\")\n",
    "for local_file_path, relative_path in csv_files:\n",
    "    # Preserve the subfolder structure in S3\n",
    "    s3_file_key = f\"{s3_prefix}{relative_path}\"\n",
    "    \n",
    "    # Upload without ACL since the bucket doesn't support it\n",
    "    print(f\"Uploading {local_file_path} to s3://{bucket}/{s3_file_key}\")\n",
    "    !aws s3 cp {local_file_path} s3://{bucket}/{s3_file_key}"
   ]
  },
  {
   "cell_type": "code",
   "execution_count": 10,
   "id": "41b0f3b1-cbae-4e22-8e0b-b74abec14532",
   "metadata": {},
   "outputs": [
    {
     "name": "stdout",
     "output_type": "stream",
     "text": [
      "                           PRE ab_data/\n",
      "                           PRE jc_data/\n",
      "                           PRE ld_data/\n"
     ]
    }
   ],
   "source": [
    "# Check source path\n",
    "!aws s3 ls s3://usd-team1-ads508/"
   ]
  },
  {
   "cell_type": "code",
   "execution_count": 11,
   "id": "d6567d02-0b4a-45fd-a1d3-9900490a9008",
   "metadata": {},
   "outputs": [
    {
     "name": "stdout",
     "output_type": "stream",
     "text": [
      "2025-03-20 22:43:00    8238746 ab_data/analytic_data2019.csv\n",
      "2025-03-20 22:43:02   12165941 ab_data/analytic_data2020_0.csv\n",
      "2025-03-20 22:43:03   12481406 ab_data/analytic_data2021.csv\n",
      "2025-03-20 22:43:04   12763323 ab_data/analytic_data2022.csv\n",
      "2025-03-20 22:43:05   12528929 ab_data/analytic_data2023_0.csv\n",
      "2025-03-20 22:43:07   55574528 jc_data/employee_benefits_2019_2023.csv\n",
      "2025-03-20 22:42:54   26731512 ld_data/adult19.csv\n",
      "2025-03-20 22:42:57   30421672 ld_data/adult20.csv\n",
      "2025-03-20 22:42:59   27977846 ld_data/adult21.csv\n",
      "2025-03-20 22:42:56   28090511 ld_data/adult22.csv\n",
      "2025-03-20 22:42:53   29397605 ld_data/adult23.csv\n"
     ]
    }
   ],
   "source": [
    "# Check public bucket files\n",
    "!aws s3 ls s3://usd-team1-ads508/ --recursive"
   ]
  }
 ],
 "metadata": {
  "kernelspec": {
   "display_name": "Python 3 (ipykernel)",
   "language": "python",
   "name": "python3"
  },
  "language_info": {
   "codemirror_mode": {
    "name": "ipython",
    "version": 3
   },
   "file_extension": ".py",
   "mimetype": "text/x-python",
   "name": "python",
   "nbconvert_exporter": "python",
   "pygments_lexer": "ipython3",
   "version": "3.11.11"
  }
 },
 "nbformat": 4,
 "nbformat_minor": 5
}
